{
 "cells": [
  {
   "cell_type": "markdown",
   "metadata": {
    "toc": "true"
   },
   "source": [
    "<h1>Table of Contents<span class=\"tocSkip\"></span></h1>\n",
    "<div class=\"toc\"><ul class=\"toc-item\"><li><span><a href=\"#Cooler-Python-API\" data-toc-modified-id=\"Cooler-Python-API-1\"><span class=\"toc-item-num\">1&nbsp;&nbsp;</span>Cooler Python API</a></span><ul class=\"toc-item\"><li><span><a href=\"#Direct-access-with-h5py\" data-toc-modified-id=\"Direct-access-with-h5py-1.1\"><span class=\"toc-item-num\">1.1&nbsp;&nbsp;</span>Direct access with <code>h5py</code></a></span></li><li><span><a href=\"#The-Cooler-class\" data-toc-modified-id=\"The-Cooler-class-1.2\"><span class=\"toc-item-num\">1.2&nbsp;&nbsp;</span>The <code>Cooler</code> class</a></span><ul class=\"toc-item\"><li><span><a href=\"#The-info-dictionary\" data-toc-modified-id=\"The-info-dictionary-1.2.1\"><span class=\"toc-item-num\">1.2.1&nbsp;&nbsp;</span>The info dictionary</a></span></li><li><span><a href=\"#Table-Views\" data-toc-modified-id=\"Table-Views-1.2.2\"><span class=\"toc-item-num\">1.2.2&nbsp;&nbsp;</span>Table Views</a></span></li><li><span><a href=\"#Bin-annotation\" data-toc-modified-id=\"Bin-annotation-1.2.3\"><span class=\"toc-item-num\">1.2.3&nbsp;&nbsp;</span>Bin annotation</a></span></li><li><span><a href=\"#Enter-The-Matrix\" data-toc-modified-id=\"Enter-The-Matrix-1.2.4\"><span class=\"toc-item-num\">1.2.4&nbsp;&nbsp;</span>Enter The Matrix</a></span></li><li><span><a href=\"#Balancing-your-selection\" data-toc-modified-id=\"Balancing-your-selection-1.2.5\"><span class=\"toc-item-num\">1.2.5&nbsp;&nbsp;</span>Balancing your selection</a></span></li><li><span><a href=\"#Genomic-coordinate-range-selection\" data-toc-modified-id=\"Genomic-coordinate-range-selection-1.2.6\"><span class=\"toc-item-num\">1.2.6&nbsp;&nbsp;</span>Genomic coordinate range selection</a></span></li></ul></li></ul></li></ul></div>"
   ]
  },
  {
   "cell_type": "markdown",
   "metadata": {},
   "source": [
    "# Cooler Python API"
   ]
  },
  {
   "cell_type": "markdown",
   "metadata": {},
   "source": [
    "Pre-requisites:\n",
    "\n",
    "- Basic Python knowledge\n",
    "- Some experience with the NumPy array package (or MATLAB)\n",
    "\n",
    "This walkthrough also makes use of:\n",
    "\n",
    "- Jupyter (IPython) Notebook. That's what you're using right now!\n",
    "- Pandas, the dataframe package (similar to R data.frames)\n",
    "- h5py, the package to interact with HDF5 files from Python\n",
    "- matplotlib, the MATLAB-inspired plotting package for Python\n",
    "\n",
    "To navigate this notebook:\n",
    "\n",
    "- Click on a code cell and execute its code by pressing `shift+enter` or clicking the \"play\" button on the toolbar.\n",
    "- While the code cell is running the prompt on the left will look like `In [*]:` and will display the execution count when it is done.\n",
    "- Execution output will be displayed beneath each cell.\n",
    "- To restart the notebook, use the options in the `Kernel` dropdown menu.\n",
    "- You can also run the entire notebook in one go with the `Restart & Run All` option"
   ]
  },
  {
   "cell_type": "code",
   "execution_count": 1,
   "metadata": {
    "ExecuteTime": {
     "end_time": "2019-02-23T03:56:34.662662Z",
     "start_time": "2019-02-23T03:56:34.309505Z"
    }
   },
   "outputs": [],
   "source": [
    "# Import the packages we will use\n",
    "import os.path as op\n",
    "import matplotlib.pyplot as plt\n",
    "import numpy as np\n",
    "import pandas\n",
    "import h5py\n",
    "\n",
    "import cooler"
   ]
  },
  {
   "cell_type": "code",
   "execution_count": 2,
   "metadata": {
    "ExecuteTime": {
     "end_time": "2019-02-23T03:56:34.673065Z",
     "start_time": "2019-02-23T03:56:34.664345Z"
    }
   },
   "outputs": [],
   "source": [
    "# The following directive activates inline plotting\n",
    "%matplotlib inline"
   ]
  },
  {
   "cell_type": "code",
   "execution_count": 3,
   "metadata": {
    "ExecuteTime": {
     "end_time": "2019-02-23T03:56:34.680090Z",
     "start_time": "2019-02-23T03:56:34.675373Z"
    }
   },
   "outputs": [],
   "source": [
    "filepath = 'data/Rao2014-GM12878-MboI-allreps-filtered.5kb.cool'\n",
    "\n",
    "# Download a high resoltion COOL file from the interwebs (this will take a few...)\n",
    "# The ! at the beginning of the line tells IPython to run the line in the shell.\n",
    "if not op.exists(filepath):\n",
    "    !wget ftp://cooler.csail.mit.edu/coolers/hg19/Rao2014-GM12878-MboI-allreps-filtered.5kb.cool -O {filepath}"
   ]
  },
  {
   "cell_type": "markdown",
   "metadata": {},
   "source": [
    "## Direct access with `h5py`\n",
    "\n",
    "The `h5py` library (HDF5 for Python) provides an excellent Pythonic interface between HDF5 and native [NumPy](http://www.numpy.org/) arrays and dtypes. It allows you to treat an HDF5 file like a dictionary with complete access to the file's contents as well as the ability to manipulate groups and read or write datasets and attributes. There is additionally a low-level API that wraps the `libhdf5` C functions directly. See the [h5py docs](http://docs.h5py.org/en/latest/index.html)."
   ]
  },
  {
   "cell_type": "code",
   "execution_count": 4,
   "metadata": {
    "ExecuteTime": {
     "end_time": "2019-02-23T03:56:34.687219Z",
     "start_time": "2019-02-23T03:56:34.681901Z"
    }
   },
   "outputs": [],
   "source": [
    "h5 = h5py.File(filepath, 'r')"
   ]
  },
  {
   "cell_type": "code",
   "execution_count": 5,
   "metadata": {
    "ExecuteTime": {
     "end_time": "2019-02-23T03:56:34.695072Z",
     "start_time": "2019-02-23T03:56:34.688559Z"
    }
   },
   "outputs": [
    {
     "data": {
      "text/plain": [
       "<HDF5 file \"Rao2014-GM12878-MboI-allreps-filtered.5kb.cool\" (mode r)>"
      ]
     },
     "execution_count": 5,
     "metadata": {},
     "output_type": "execute_result"
    }
   ],
   "source": [
    "h5"
   ]
  },
  {
   "cell_type": "code",
   "execution_count": 6,
   "metadata": {
    "ExecuteTime": {
     "end_time": "2019-02-23T03:56:34.702251Z",
     "start_time": "2019-02-23T03:56:34.696555Z"
    }
   },
   "outputs": [
    {
     "data": {
      "text/plain": [
       "<KeysViewHDF5 ['bins', 'chroms', 'indexes', 'pixels']>"
      ]
     },
     "execution_count": 6,
     "metadata": {},
     "output_type": "execute_result"
    }
   ],
   "source": [
    "h5.keys()"
   ]
  },
  {
   "cell_type": "markdown",
   "metadata": {},
   "source": [
    "Files and Groups are `dict`-like."
   ]
  },
  {
   "cell_type": "code",
   "execution_count": 7,
   "metadata": {
    "ExecuteTime": {
     "end_time": "2019-02-23T03:56:34.709365Z",
     "start_time": "2019-02-23T03:56:34.703515Z"
    }
   },
   "outputs": [
    {
     "data": {
      "text/plain": [
       "<HDF5 group \"/pixels\" (3 members)>"
      ]
     },
     "execution_count": 7,
     "metadata": {},
     "output_type": "execute_result"
    }
   ],
   "source": [
    "h5['pixels']"
   ]
  },
  {
   "cell_type": "code",
   "execution_count": 8,
   "metadata": {
    "ExecuteTime": {
     "end_time": "2019-02-23T03:56:34.716126Z",
     "start_time": "2019-02-23T03:56:34.710962Z"
    }
   },
   "outputs": [
    {
     "data": {
      "text/plain": [
       "['bin1_id', 'bin2_id', 'count']"
      ]
     },
     "execution_count": 8,
     "metadata": {},
     "output_type": "execute_result"
    }
   ],
   "source": [
    "list(h5['pixels'].keys())"
   ]
  },
  {
   "cell_type": "markdown",
   "metadata": {},
   "source": [
    "`h5py` dataset objects are **views** onto the data on disk"
   ]
  },
  {
   "cell_type": "code",
   "execution_count": 9,
   "metadata": {
    "ExecuteTime": {
     "end_time": "2019-02-23T03:56:34.722562Z",
     "start_time": "2019-02-23T03:56:34.717668Z"
    }
   },
   "outputs": [
    {
     "data": {
      "text/plain": [
       "<HDF5 dataset \"bin2_id\": shape (1543535265,), type \"<i8\">"
      ]
     },
     "execution_count": 9,
     "metadata": {},
     "output_type": "execute_result"
    }
   ],
   "source": [
    "h5['pixels']['bin2_id']"
   ]
  },
  {
   "cell_type": "markdown",
   "metadata": {},
   "source": [
    "Slicing or indexing returns a numpy array in memory."
   ]
  },
  {
   "cell_type": "code",
   "execution_count": 10,
   "metadata": {
    "ExecuteTime": {
     "end_time": "2019-02-23T03:56:34.731267Z",
     "start_time": "2019-02-23T03:56:34.724225Z"
    }
   },
   "outputs": [
    {
     "data": {
      "text/plain": [
       "array([  234,  1994,  3258,  4087,  6093, 37359, 49826, 49889, 58451,\n",
       "       60826])"
      ]
     },
     "execution_count": 10,
     "metadata": {},
     "output_type": "execute_result"
    }
   ],
   "source": [
    "h5['pixels']['bin2_id'][:10]"
   ]
  },
  {
   "cell_type": "code",
   "execution_count": 11,
   "metadata": {
    "ExecuteTime": {
     "end_time": "2019-02-23T03:56:34.740658Z",
     "start_time": "2019-02-23T03:56:34.733167Z"
    }
   },
   "outputs": [
    {
     "data": {
      "text/plain": [
       "array([1, 1, 1, 1, 1, 1, 1, 1, 1, 1])"
      ]
     },
     "execution_count": 11,
     "metadata": {},
     "output_type": "execute_result"
    }
   ],
   "source": [
    "h5['pixels']['count'][:10]"
   ]
  },
  {
   "cell_type": "code",
   "execution_count": 12,
   "metadata": {
    "ExecuteTime": {
     "end_time": "2019-02-23T03:56:34.749341Z",
     "start_time": "2019-02-23T03:56:34.746000Z"
    }
   },
   "outputs": [],
   "source": [
    "h5.close()"
   ]
  },
  {
   "cell_type": "markdown",
   "metadata": {},
   "source": [
    "The Python `cooler` package is just a thin wrapper over `h5py`.\n",
    "\n",
    "- It lets you access the data tables as [Pandas](http://pandas.pydata.org/) [data frames and series](http://pandas.pydata.org/pandas-docs/stable/10min.html). \n",
    "- It also provides a _matrix abstraction_: letting you query the upper triangle pixel table as if it were a full rectangular [sparse matrix](http://www.scipy-lectures.org/advanced/scipy_sparse/storage_schemes.html) via [SciPy](http://www.scipy-lectures.org/index.html).\n",
    "\n",
    "See below."
   ]
  },
  {
   "cell_type": "markdown",
   "metadata": {},
   "source": [
    "## The `Cooler` class"
   ]
  },
  {
   "cell_type": "markdown",
   "metadata": {},
   "source": [
    "Accepts a file path or an open HDF5 file object.\n",
    "\n",
    "NOTE: Using a filepath allows the `Cooler` object to be serialized/pickled since the file is only opened when needed.\n"
   ]
  },
  {
   "cell_type": "code",
   "execution_count": 13,
   "metadata": {
    "ExecuteTime": {
     "end_time": "2019-02-23T03:56:34.761922Z",
     "start_time": "2019-02-23T03:56:34.752093Z"
    }
   },
   "outputs": [],
   "source": [
    "c = cooler.Cooler(filepath)"
   ]
  },
  {
   "cell_type": "markdown",
   "metadata": {},
   "source": [
    "### The info dictionary"
   ]
  },
  {
   "cell_type": "code",
   "execution_count": 14,
   "metadata": {
    "ExecuteTime": {
     "end_time": "2019-02-23T03:56:34.769091Z",
     "start_time": "2019-02-23T03:56:34.763694Z"
    }
   },
   "outputs": [
    {
     "data": {
      "text/plain": [
       "{'bin-size': 5000,\n",
       " 'bin-type': 'fixed',\n",
       " 'creation-date': '2016-02-25T22:53:09.510744',\n",
       " 'format-url': 'https://github.com/mirnylab/cooler',\n",
       " 'format-version': 2,\n",
       " 'genome-assembly': 'hg19',\n",
       " 'id': None,\n",
       " 'library-version': '0.3.0',\n",
       " 'metadata': {'publication': '',\n",
       "  'QC': {'double-sided': {'total': 3390352656,\n",
       "    'valid': 3147639590,\n",
       "    'filtered-invalid': {'removed-self-circles': 1741768,\n",
       "     'removed-error-pair': 6074295,\n",
       "     'removed-dangling-ends': 234897003},\n",
       "    'filtered-valid': {'removed-duplicate': 110650005,\n",
       "     'removed-start-near-rsite': '',\n",
       "     'removed-outlier-fragment': 151337031,\n",
       "     'removed-large-small-pair': 657466}},\n",
       "   'pre-filtering': {'total': 5332721651,\n",
       "    'double-sided': 3390352656,\n",
       "    'unused': 0,\n",
       "    'single-sided': 1942368995},\n",
       "   'post-filtering': {'total': 2884995088,\n",
       "    'cis': 2085711027,\n",
       "    'trans': 799284061}},\n",
       "  'enzyme': 'MboI',\n",
       "  'cell-type': 'GM12878',\n",
       "  'species': 'Homo sapiens',\n",
       "  'sex': 'F'},\n",
       " 'nbins': 619150,\n",
       " 'nchroms': 25,\n",
       " 'nnz': 1543535265}"
      ]
     },
     "execution_count": 14,
     "metadata": {},
     "output_type": "execute_result"
    }
   ],
   "source": [
    "c.info"
   ]
  },
  {
   "cell_type": "markdown",
   "metadata": {},
   "source": [
    "### Table Views\n",
    "Tables are accessed via methods."
   ]
  },
  {
   "cell_type": "code",
   "execution_count": 15,
   "metadata": {
    "ExecuteTime": {
     "end_time": "2019-02-23T03:56:34.775355Z",
     "start_time": "2019-02-23T03:56:34.770789Z"
    }
   },
   "outputs": [
    {
     "data": {
      "text/plain": [
       "<cooler.core.RangeSelector1D at 0x7f97f6f963c8>"
      ]
     },
     "execution_count": 15,
     "metadata": {},
     "output_type": "execute_result"
    }
   ],
   "source": [
    "c.chroms()"
   ]
  },
  {
   "cell_type": "markdown",
   "metadata": {},
   "source": [
    "The return value is a selector or \"view\" on a table that accepts column and range queries (\"slices\").\n",
    "\n",
    "- Column selections return a new view.\n",
    "- Range selections return pandas [DataFrames or Series](http://pandas.pydata.org/pandas-docs/stable/dsintro.html)."
   ]
  },
  {
   "cell_type": "code",
   "execution_count": 16,
   "metadata": {
    "ExecuteTime": {
     "end_time": "2019-02-23T03:56:34.792082Z",
     "start_time": "2019-02-23T03:56:34.777146Z"
    }
   },
   "outputs": [
    {
     "data": {
      "text/html": [
       "<div>\n",
       "<style scoped>\n",
       "    .dataframe tbody tr th:only-of-type {\n",
       "        vertical-align: middle;\n",
       "    }\n",
       "\n",
       "    .dataframe tbody tr th {\n",
       "        vertical-align: top;\n",
       "    }\n",
       "\n",
       "    .dataframe thead th {\n",
       "        text-align: right;\n",
       "    }\n",
       "</style>\n",
       "<table border=\"1\" class=\"dataframe\">\n",
       "  <thead>\n",
       "    <tr style=\"text-align: right;\">\n",
       "      <th></th>\n",
       "      <th>name</th>\n",
       "      <th>length</th>\n",
       "    </tr>\n",
       "  </thead>\n",
       "  <tbody>\n",
       "    <tr>\n",
       "      <th>1</th>\n",
       "      <td>chr2</td>\n",
       "      <td>243199373</td>\n",
       "    </tr>\n",
       "    <tr>\n",
       "      <th>2</th>\n",
       "      <td>chr3</td>\n",
       "      <td>198022430</td>\n",
       "    </tr>\n",
       "    <tr>\n",
       "      <th>3</th>\n",
       "      <td>chr4</td>\n",
       "      <td>191154276</td>\n",
       "    </tr>\n",
       "    <tr>\n",
       "      <th>4</th>\n",
       "      <td>chr5</td>\n",
       "      <td>180915260</td>\n",
       "    </tr>\n",
       "  </tbody>\n",
       "</table>\n",
       "</div>"
      ],
      "text/plain": [
       "   name     length\n",
       "1  chr2  243199373\n",
       "2  chr3  198022430\n",
       "3  chr4  191154276\n",
       "4  chr5  180915260"
      ]
     },
     "execution_count": 16,
     "metadata": {},
     "output_type": "execute_result"
    }
   ],
   "source": [
    "c.chroms()[1:5]"
   ]
  },
  {
   "cell_type": "code",
   "execution_count": 17,
   "metadata": {
    "ExecuteTime": {
     "end_time": "2019-02-23T03:56:34.807695Z",
     "start_time": "2019-02-23T03:56:34.793759Z"
    }
   },
   "outputs": [
    {
     "data": {
      "text/html": [
       "<div>\n",
       "<style scoped>\n",
       "    .dataframe tbody tr th:only-of-type {\n",
       "        vertical-align: middle;\n",
       "    }\n",
       "\n",
       "    .dataframe tbody tr th {\n",
       "        vertical-align: top;\n",
       "    }\n",
       "\n",
       "    .dataframe thead th {\n",
       "        text-align: right;\n",
       "    }\n",
       "</style>\n",
       "<table border=\"1\" class=\"dataframe\">\n",
       "  <thead>\n",
       "    <tr style=\"text-align: right;\">\n",
       "      <th></th>\n",
       "      <th>name</th>\n",
       "      <th>length</th>\n",
       "    </tr>\n",
       "  </thead>\n",
       "  <tbody>\n",
       "    <tr>\n",
       "      <th>0</th>\n",
       "      <td>chr1</td>\n",
       "      <td>249250621</td>\n",
       "    </tr>\n",
       "    <tr>\n",
       "      <th>1</th>\n",
       "      <td>chr2</td>\n",
       "      <td>243199373</td>\n",
       "    </tr>\n",
       "    <tr>\n",
       "      <th>2</th>\n",
       "      <td>chr3</td>\n",
       "      <td>198022430</td>\n",
       "    </tr>\n",
       "    <tr>\n",
       "      <th>3</th>\n",
       "      <td>chr4</td>\n",
       "      <td>191154276</td>\n",
       "    </tr>\n",
       "    <tr>\n",
       "      <th>4</th>\n",
       "      <td>chr5</td>\n",
       "      <td>180915260</td>\n",
       "    </tr>\n",
       "    <tr>\n",
       "      <th>5</th>\n",
       "      <td>chr6</td>\n",
       "      <td>171115067</td>\n",
       "    </tr>\n",
       "    <tr>\n",
       "      <th>6</th>\n",
       "      <td>chr7</td>\n",
       "      <td>159138663</td>\n",
       "    </tr>\n",
       "    <tr>\n",
       "      <th>7</th>\n",
       "      <td>chr8</td>\n",
       "      <td>146364022</td>\n",
       "    </tr>\n",
       "    <tr>\n",
       "      <th>8</th>\n",
       "      <td>chr9</td>\n",
       "      <td>141213431</td>\n",
       "    </tr>\n",
       "    <tr>\n",
       "      <th>9</th>\n",
       "      <td>chr10</td>\n",
       "      <td>135534747</td>\n",
       "    </tr>\n",
       "    <tr>\n",
       "      <th>10</th>\n",
       "      <td>chr11</td>\n",
       "      <td>135006516</td>\n",
       "    </tr>\n",
       "    <tr>\n",
       "      <th>11</th>\n",
       "      <td>chr12</td>\n",
       "      <td>133851895</td>\n",
       "    </tr>\n",
       "    <tr>\n",
       "      <th>12</th>\n",
       "      <td>chr13</td>\n",
       "      <td>115169878</td>\n",
       "    </tr>\n",
       "    <tr>\n",
       "      <th>13</th>\n",
       "      <td>chr14</td>\n",
       "      <td>107349540</td>\n",
       "    </tr>\n",
       "    <tr>\n",
       "      <th>14</th>\n",
       "      <td>chr15</td>\n",
       "      <td>102531392</td>\n",
       "    </tr>\n",
       "    <tr>\n",
       "      <th>15</th>\n",
       "      <td>chr16</td>\n",
       "      <td>90354753</td>\n",
       "    </tr>\n",
       "    <tr>\n",
       "      <th>16</th>\n",
       "      <td>chr17</td>\n",
       "      <td>81195210</td>\n",
       "    </tr>\n",
       "    <tr>\n",
       "      <th>17</th>\n",
       "      <td>chr18</td>\n",
       "      <td>78077248</td>\n",
       "    </tr>\n",
       "    <tr>\n",
       "      <th>18</th>\n",
       "      <td>chr19</td>\n",
       "      <td>59128983</td>\n",
       "    </tr>\n",
       "    <tr>\n",
       "      <th>19</th>\n",
       "      <td>chr20</td>\n",
       "      <td>63025520</td>\n",
       "    </tr>\n",
       "    <tr>\n",
       "      <th>20</th>\n",
       "      <td>chr21</td>\n",
       "      <td>48129895</td>\n",
       "    </tr>\n",
       "    <tr>\n",
       "      <th>21</th>\n",
       "      <td>chr22</td>\n",
       "      <td>51304566</td>\n",
       "    </tr>\n",
       "    <tr>\n",
       "      <th>22</th>\n",
       "      <td>chrX</td>\n",
       "      <td>155270560</td>\n",
       "    </tr>\n",
       "    <tr>\n",
       "      <th>23</th>\n",
       "      <td>chrY</td>\n",
       "      <td>59373566</td>\n",
       "    </tr>\n",
       "    <tr>\n",
       "      <th>24</th>\n",
       "      <td>chrM</td>\n",
       "      <td>16571</td>\n",
       "    </tr>\n",
       "  </tbody>\n",
       "</table>\n",
       "</div>"
      ],
      "text/plain": [
       "     name     length\n",
       "0    chr1  249250621\n",
       "1    chr2  243199373\n",
       "2    chr3  198022430\n",
       "3    chr4  191154276\n",
       "4    chr5  180915260\n",
       "5    chr6  171115067\n",
       "6    chr7  159138663\n",
       "7    chr8  146364022\n",
       "8    chr9  141213431\n",
       "9   chr10  135534747\n",
       "10  chr11  135006516\n",
       "11  chr12  133851895\n",
       "12  chr13  115169878\n",
       "13  chr14  107349540\n",
       "14  chr15  102531392\n",
       "15  chr16   90354753\n",
       "16  chr17   81195210\n",
       "17  chr18   78077248\n",
       "18  chr19   59128983\n",
       "19  chr20   63025520\n",
       "20  chr21   48129895\n",
       "21  chr22   51304566\n",
       "22   chrX  155270560\n",
       "23   chrY   59373566\n",
       "24   chrM      16571"
      ]
     },
     "execution_count": 17,
     "metadata": {},
     "output_type": "execute_result"
    }
   ],
   "source": [
    "# get the whole table\n",
    "c.chroms()[:]"
   ]
  },
  {
   "cell_type": "code",
   "execution_count": 18,
   "metadata": {
    "ExecuteTime": {
     "end_time": "2019-02-23T03:56:34.814008Z",
     "start_time": "2019-02-23T03:56:34.809408Z"
    }
   },
   "outputs": [
    {
     "data": {
      "text/plain": [
       "['chr1',\n",
       " 'chr2',\n",
       " 'chr3',\n",
       " 'chr4',\n",
       " 'chr5',\n",
       " 'chr6',\n",
       " 'chr7',\n",
       " 'chr8',\n",
       " 'chr9',\n",
       " 'chr10',\n",
       " 'chr11',\n",
       " 'chr12',\n",
       " 'chr13',\n",
       " 'chr14',\n",
       " 'chr15',\n",
       " 'chr16',\n",
       " 'chr17',\n",
       " 'chr18',\n",
       " 'chr19',\n",
       " 'chr20',\n",
       " 'chr21',\n",
       " 'chr22',\n",
       " 'chrX',\n",
       " 'chrY',\n",
       " 'chrM']"
      ]
     },
     "execution_count": 18,
     "metadata": {},
     "output_type": "execute_result"
    }
   ],
   "source": [
    "# more convenient access to chromosomes\n",
    "c.chromnames"
   ]
  },
  {
   "cell_type": "markdown",
   "metadata": {},
   "source": [
    "In the bin table, the **weight** column contains the _matrix balancing weights_ computed for each genomic bin."
   ]
  },
  {
   "cell_type": "code",
   "execution_count": 19,
   "metadata": {},
   "outputs": [
    {
     "data": {
      "text/plain": [
       "name\n",
       "chr1     249250621\n",
       "chr2     243199373\n",
       "chr3     198022430\n",
       "chr4     191154276\n",
       "chr5     180915260\n",
       "chr6     171115067\n",
       "chr7     159138663\n",
       "chr8     146364022\n",
       "chr9     141213431\n",
       "chr10    135534747\n",
       "chr11    135006516\n",
       "chr12    133851895\n",
       "chr13    115169878\n",
       "chr14    107349540\n",
       "chr15    102531392\n",
       "chr16     90354753\n",
       "chr17     81195210\n",
       "chr18     78077248\n",
       "chr19     59128983\n",
       "chr20     63025520\n",
       "chr21     48129895\n",
       "chr22     51304566\n",
       "chrX     155270560\n",
       "chrY      59373566\n",
       "chrM         16571\n",
       "Name: length, dtype: int64"
      ]
     },
     "execution_count": 19,
     "metadata": {},
     "output_type": "execute_result"
    }
   ],
   "source": [
    "# more convenient access to chromosome lengths\n",
    "c.chromsizes"
   ]
  },
  {
   "cell_type": "code",
   "execution_count": 20,
   "metadata": {
    "ExecuteTime": {
     "end_time": "2019-02-23T03:56:34.829949Z",
     "start_time": "2019-02-23T03:56:34.815907Z"
    }
   },
   "outputs": [
    {
     "data": {
      "text/html": [
       "<div>\n",
       "<style scoped>\n",
       "    .dataframe tbody tr th:only-of-type {\n",
       "        vertical-align: middle;\n",
       "    }\n",
       "\n",
       "    .dataframe tbody tr th {\n",
       "        vertical-align: top;\n",
       "    }\n",
       "\n",
       "    .dataframe thead th {\n",
       "        text-align: right;\n",
       "    }\n",
       "</style>\n",
       "<table border=\"1\" class=\"dataframe\">\n",
       "  <thead>\n",
       "    <tr style=\"text-align: right;\">\n",
       "      <th></th>\n",
       "      <th>chrom</th>\n",
       "      <th>start</th>\n",
       "      <th>end</th>\n",
       "      <th>weight</th>\n",
       "    </tr>\n",
       "  </thead>\n",
       "  <tbody>\n",
       "    <tr>\n",
       "      <th>0</th>\n",
       "      <td>chr1</td>\n",
       "      <td>0</td>\n",
       "      <td>5000</td>\n",
       "      <td>NaN</td>\n",
       "    </tr>\n",
       "    <tr>\n",
       "      <th>1</th>\n",
       "      <td>chr1</td>\n",
       "      <td>5000</td>\n",
       "      <td>10000</td>\n",
       "      <td>NaN</td>\n",
       "    </tr>\n",
       "    <tr>\n",
       "      <th>2</th>\n",
       "      <td>chr1</td>\n",
       "      <td>10000</td>\n",
       "      <td>15000</td>\n",
       "      <td>NaN</td>\n",
       "    </tr>\n",
       "    <tr>\n",
       "      <th>3</th>\n",
       "      <td>chr1</td>\n",
       "      <td>15000</td>\n",
       "      <td>20000</td>\n",
       "      <td>NaN</td>\n",
       "    </tr>\n",
       "    <tr>\n",
       "      <th>4</th>\n",
       "      <td>chr1</td>\n",
       "      <td>20000</td>\n",
       "      <td>25000</td>\n",
       "      <td>NaN</td>\n",
       "    </tr>\n",
       "    <tr>\n",
       "      <th>5</th>\n",
       "      <td>chr1</td>\n",
       "      <td>25000</td>\n",
       "      <td>30000</td>\n",
       "      <td>NaN</td>\n",
       "    </tr>\n",
       "    <tr>\n",
       "      <th>6</th>\n",
       "      <td>chr1</td>\n",
       "      <td>30000</td>\n",
       "      <td>35000</td>\n",
       "      <td>NaN</td>\n",
       "    </tr>\n",
       "    <tr>\n",
       "      <th>7</th>\n",
       "      <td>chr1</td>\n",
       "      <td>35000</td>\n",
       "      <td>40000</td>\n",
       "      <td>NaN</td>\n",
       "    </tr>\n",
       "    <tr>\n",
       "      <th>8</th>\n",
       "      <td>chr1</td>\n",
       "      <td>40000</td>\n",
       "      <td>45000</td>\n",
       "      <td>NaN</td>\n",
       "    </tr>\n",
       "    <tr>\n",
       "      <th>9</th>\n",
       "      <td>chr1</td>\n",
       "      <td>45000</td>\n",
       "      <td>50000</td>\n",
       "      <td>NaN</td>\n",
       "    </tr>\n",
       "  </tbody>\n",
       "</table>\n",
       "</div>"
      ],
      "text/plain": [
       "  chrom  start    end  weight\n",
       "0  chr1      0   5000     NaN\n",
       "1  chr1   5000  10000     NaN\n",
       "2  chr1  10000  15000     NaN\n",
       "3  chr1  15000  20000     NaN\n",
       "4  chr1  20000  25000     NaN\n",
       "5  chr1  25000  30000     NaN\n",
       "6  chr1  30000  35000     NaN\n",
       "7  chr1  35000  40000     NaN\n",
       "8  chr1  40000  45000     NaN\n",
       "9  chr1  45000  50000     NaN"
      ]
     },
     "execution_count": 20,
     "metadata": {},
     "output_type": "execute_result"
    }
   ],
   "source": [
    "c.bins()[:10]"
   ]
  },
  {
   "cell_type": "markdown",
   "metadata": {},
   "source": [
    "Selecting a list of columns returns a new DataFrame view on that subset of columns"
   ]
  },
  {
   "cell_type": "code",
   "execution_count": 21,
   "metadata": {
    "ExecuteTime": {
     "end_time": "2019-02-23T03:56:34.836855Z",
     "start_time": "2019-02-23T03:56:34.831692Z"
    }
   },
   "outputs": [
    {
     "data": {
      "text/plain": [
       "<cooler.core.RangeSelector1D at 0x7f97f6f966a0>"
      ]
     },
     "execution_count": 21,
     "metadata": {},
     "output_type": "execute_result"
    }
   ],
   "source": [
    "bins = c.bins()[['chrom', 'start', 'end']]\n",
    "bins"
   ]
  },
  {
   "cell_type": "code",
   "execution_count": 22,
   "metadata": {
    "ExecuteTime": {
     "end_time": "2019-02-23T03:56:34.850134Z",
     "start_time": "2019-02-23T03:56:34.838644Z"
    }
   },
   "outputs": [
    {
     "data": {
      "text/html": [
       "<div>\n",
       "<style scoped>\n",
       "    .dataframe tbody tr th:only-of-type {\n",
       "        vertical-align: middle;\n",
       "    }\n",
       "\n",
       "    .dataframe tbody tr th {\n",
       "        vertical-align: top;\n",
       "    }\n",
       "\n",
       "    .dataframe thead th {\n",
       "        text-align: right;\n",
       "    }\n",
       "</style>\n",
       "<table border=\"1\" class=\"dataframe\">\n",
       "  <thead>\n",
       "    <tr style=\"text-align: right;\">\n",
       "      <th></th>\n",
       "      <th>chrom</th>\n",
       "      <th>start</th>\n",
       "      <th>end</th>\n",
       "    </tr>\n",
       "  </thead>\n",
       "  <tbody>\n",
       "    <tr>\n",
       "      <th>0</th>\n",
       "      <td>chr1</td>\n",
       "      <td>0</td>\n",
       "      <td>5000</td>\n",
       "    </tr>\n",
       "    <tr>\n",
       "      <th>1</th>\n",
       "      <td>chr1</td>\n",
       "      <td>5000</td>\n",
       "      <td>10000</td>\n",
       "    </tr>\n",
       "    <tr>\n",
       "      <th>2</th>\n",
       "      <td>chr1</td>\n",
       "      <td>10000</td>\n",
       "      <td>15000</td>\n",
       "    </tr>\n",
       "    <tr>\n",
       "      <th>3</th>\n",
       "      <td>chr1</td>\n",
       "      <td>15000</td>\n",
       "      <td>20000</td>\n",
       "    </tr>\n",
       "    <tr>\n",
       "      <th>4</th>\n",
       "      <td>chr1</td>\n",
       "      <td>20000</td>\n",
       "      <td>25000</td>\n",
       "    </tr>\n",
       "    <tr>\n",
       "      <th>5</th>\n",
       "      <td>chr1</td>\n",
       "      <td>25000</td>\n",
       "      <td>30000</td>\n",
       "    </tr>\n",
       "    <tr>\n",
       "      <th>6</th>\n",
       "      <td>chr1</td>\n",
       "      <td>30000</td>\n",
       "      <td>35000</td>\n",
       "    </tr>\n",
       "    <tr>\n",
       "      <th>7</th>\n",
       "      <td>chr1</td>\n",
       "      <td>35000</td>\n",
       "      <td>40000</td>\n",
       "    </tr>\n",
       "    <tr>\n",
       "      <th>8</th>\n",
       "      <td>chr1</td>\n",
       "      <td>40000</td>\n",
       "      <td>45000</td>\n",
       "    </tr>\n",
       "    <tr>\n",
       "      <th>9</th>\n",
       "      <td>chr1</td>\n",
       "      <td>45000</td>\n",
       "      <td>50000</td>\n",
       "    </tr>\n",
       "  </tbody>\n",
       "</table>\n",
       "</div>"
      ],
      "text/plain": [
       "  chrom  start    end\n",
       "0  chr1      0   5000\n",
       "1  chr1   5000  10000\n",
       "2  chr1  10000  15000\n",
       "3  chr1  15000  20000\n",
       "4  chr1  20000  25000\n",
       "5  chr1  25000  30000\n",
       "6  chr1  30000  35000\n",
       "7  chr1  35000  40000\n",
       "8  chr1  40000  45000\n",
       "9  chr1  45000  50000"
      ]
     },
     "execution_count": 22,
     "metadata": {},
     "output_type": "execute_result"
    }
   ],
   "source": [
    "bins[:10]"
   ]
  },
  {
   "cell_type": "markdown",
   "metadata": {},
   "source": [
    "Selecting a single column returns a Series view"
   ]
  },
  {
   "cell_type": "code",
   "execution_count": 23,
   "metadata": {
    "ExecuteTime": {
     "end_time": "2019-02-23T03:56:34.859728Z",
     "start_time": "2019-02-23T03:56:34.851559Z"
    }
   },
   "outputs": [
    {
     "data": {
      "text/plain": [
       "<cooler.core.RangeSelector1D at 0x7f97f6f52f60>"
      ]
     },
     "execution_count": 23,
     "metadata": {},
     "output_type": "execute_result"
    }
   ],
   "source": [
    "weights = c.bins()['weight']\n",
    "weights"
   ]
  },
  {
   "cell_type": "code",
   "execution_count": 24,
   "metadata": {
    "ExecuteTime": {
     "end_time": "2019-02-23T03:56:34.872126Z",
     "start_time": "2019-02-23T03:56:34.862234Z"
    }
   },
   "outputs": [
    {
     "data": {
      "text/plain": [
       "500    1.021570\n",
       "501    1.935517\n",
       "502    0.584862\n",
       "503    0.895666\n",
       "504    1.302236\n",
       "505    0.845886\n",
       "506    0.992397\n",
       "507    1.470796\n",
       "508    1.022486\n",
       "509    0.952231\n",
       "Name: weight, dtype: float64"
      ]
     },
     "execution_count": 24,
     "metadata": {},
     "output_type": "execute_result"
    }
   ],
   "source": [
    "weights[500:510]"
   ]
  },
  {
   "cell_type": "markdown",
   "metadata": {},
   "source": [
    "The pixel table contains the non-zero upper triangle entries of the contact map."
   ]
  },
  {
   "cell_type": "code",
   "execution_count": 25,
   "metadata": {
    "ExecuteTime": {
     "end_time": "2019-02-23T03:56:34.890254Z",
     "start_time": "2019-02-23T03:56:34.874003Z"
    },
    "scrolled": true
   },
   "outputs": [
    {
     "data": {
      "text/html": [
       "<div>\n",
       "<style scoped>\n",
       "    .dataframe tbody tr th:only-of-type {\n",
       "        vertical-align: middle;\n",
       "    }\n",
       "\n",
       "    .dataframe tbody tr th {\n",
       "        vertical-align: top;\n",
       "    }\n",
       "\n",
       "    .dataframe thead th {\n",
       "        text-align: right;\n",
       "    }\n",
       "</style>\n",
       "<table border=\"1\" class=\"dataframe\">\n",
       "  <thead>\n",
       "    <tr style=\"text-align: right;\">\n",
       "      <th></th>\n",
       "      <th>bin1_id</th>\n",
       "      <th>bin2_id</th>\n",
       "      <th>count</th>\n",
       "    </tr>\n",
       "  </thead>\n",
       "  <tbody>\n",
       "    <tr>\n",
       "      <th>0</th>\n",
       "      <td>2</td>\n",
       "      <td>234</td>\n",
       "      <td>1</td>\n",
       "    </tr>\n",
       "    <tr>\n",
       "      <th>1</th>\n",
       "      <td>2</td>\n",
       "      <td>1994</td>\n",
       "      <td>1</td>\n",
       "    </tr>\n",
       "    <tr>\n",
       "      <th>2</th>\n",
       "      <td>2</td>\n",
       "      <td>3258</td>\n",
       "      <td>1</td>\n",
       "    </tr>\n",
       "    <tr>\n",
       "      <th>3</th>\n",
       "      <td>2</td>\n",
       "      <td>4087</td>\n",
       "      <td>1</td>\n",
       "    </tr>\n",
       "    <tr>\n",
       "      <th>4</th>\n",
       "      <td>2</td>\n",
       "      <td>6093</td>\n",
       "      <td>1</td>\n",
       "    </tr>\n",
       "    <tr>\n",
       "      <th>5</th>\n",
       "      <td>2</td>\n",
       "      <td>37359</td>\n",
       "      <td>1</td>\n",
       "    </tr>\n",
       "    <tr>\n",
       "      <th>6</th>\n",
       "      <td>2</td>\n",
       "      <td>49826</td>\n",
       "      <td>1</td>\n",
       "    </tr>\n",
       "    <tr>\n",
       "      <th>7</th>\n",
       "      <td>2</td>\n",
       "      <td>49889</td>\n",
       "      <td>1</td>\n",
       "    </tr>\n",
       "    <tr>\n",
       "      <th>8</th>\n",
       "      <td>2</td>\n",
       "      <td>58451</td>\n",
       "      <td>1</td>\n",
       "    </tr>\n",
       "    <tr>\n",
       "      <th>9</th>\n",
       "      <td>2</td>\n",
       "      <td>60826</td>\n",
       "      <td>1</td>\n",
       "    </tr>\n",
       "  </tbody>\n",
       "</table>\n",
       "</div>"
      ],
      "text/plain": [
       "   bin1_id  bin2_id  count\n",
       "0        2      234      1\n",
       "1        2     1994      1\n",
       "2        2     3258      1\n",
       "3        2     4087      1\n",
       "4        2     6093      1\n",
       "5        2    37359      1\n",
       "6        2    49826      1\n",
       "7        2    49889      1\n",
       "8        2    58451      1\n",
       "9        2    60826      1"
      ]
     },
     "execution_count": 25,
     "metadata": {},
     "output_type": "execute_result"
    }
   ],
   "source": [
    "c.pixels()[:10]"
   ]
  },
  {
   "cell_type": "markdown",
   "metadata": {},
   "source": [
    "Use the `join=True` option if you would like to expand the bin IDs into genomic bin coordinates by joining the output with the bin table."
   ]
  },
  {
   "cell_type": "code",
   "execution_count": 26,
   "metadata": {
    "ExecuteTime": {
     "end_time": "2019-02-23T03:56:34.983532Z",
     "start_time": "2019-02-23T03:56:34.892880Z"
    }
   },
   "outputs": [
    {
     "data": {
      "text/html": [
       "<div>\n",
       "<style scoped>\n",
       "    .dataframe tbody tr th:only-of-type {\n",
       "        vertical-align: middle;\n",
       "    }\n",
       "\n",
       "    .dataframe tbody tr th {\n",
       "        vertical-align: top;\n",
       "    }\n",
       "\n",
       "    .dataframe thead th {\n",
       "        text-align: right;\n",
       "    }\n",
       "</style>\n",
       "<table border=\"1\" class=\"dataframe\">\n",
       "  <thead>\n",
       "    <tr style=\"text-align: right;\">\n",
       "      <th></th>\n",
       "      <th>chrom1</th>\n",
       "      <th>start1</th>\n",
       "      <th>end1</th>\n",
       "      <th>chrom2</th>\n",
       "      <th>start2</th>\n",
       "      <th>end2</th>\n",
       "      <th>count</th>\n",
       "    </tr>\n",
       "  </thead>\n",
       "  <tbody>\n",
       "    <tr>\n",
       "      <th>0</th>\n",
       "      <td>chr1</td>\n",
       "      <td>10000</td>\n",
       "      <td>15000</td>\n",
       "      <td>chr1</td>\n",
       "      <td>1170000</td>\n",
       "      <td>1175000</td>\n",
       "      <td>1</td>\n",
       "    </tr>\n",
       "    <tr>\n",
       "      <th>1</th>\n",
       "      <td>chr1</td>\n",
       "      <td>10000</td>\n",
       "      <td>15000</td>\n",
       "      <td>chr1</td>\n",
       "      <td>9970000</td>\n",
       "      <td>9975000</td>\n",
       "      <td>1</td>\n",
       "    </tr>\n",
       "    <tr>\n",
       "      <th>2</th>\n",
       "      <td>chr1</td>\n",
       "      <td>10000</td>\n",
       "      <td>15000</td>\n",
       "      <td>chr1</td>\n",
       "      <td>16290000</td>\n",
       "      <td>16295000</td>\n",
       "      <td>1</td>\n",
       "    </tr>\n",
       "    <tr>\n",
       "      <th>3</th>\n",
       "      <td>chr1</td>\n",
       "      <td>10000</td>\n",
       "      <td>15000</td>\n",
       "      <td>chr1</td>\n",
       "      <td>20435000</td>\n",
       "      <td>20440000</td>\n",
       "      <td>1</td>\n",
       "    </tr>\n",
       "    <tr>\n",
       "      <th>4</th>\n",
       "      <td>chr1</td>\n",
       "      <td>10000</td>\n",
       "      <td>15000</td>\n",
       "      <td>chr1</td>\n",
       "      <td>30465000</td>\n",
       "      <td>30470000</td>\n",
       "      <td>1</td>\n",
       "    </tr>\n",
       "    <tr>\n",
       "      <th>5</th>\n",
       "      <td>chr1</td>\n",
       "      <td>10000</td>\n",
       "      <td>15000</td>\n",
       "      <td>chr1</td>\n",
       "      <td>186795000</td>\n",
       "      <td>186800000</td>\n",
       "      <td>1</td>\n",
       "    </tr>\n",
       "    <tr>\n",
       "      <th>6</th>\n",
       "      <td>chr1</td>\n",
       "      <td>10000</td>\n",
       "      <td>15000</td>\n",
       "      <td>chr1</td>\n",
       "      <td>249130000</td>\n",
       "      <td>249135000</td>\n",
       "      <td>1</td>\n",
       "    </tr>\n",
       "    <tr>\n",
       "      <th>7</th>\n",
       "      <td>chr1</td>\n",
       "      <td>10000</td>\n",
       "      <td>15000</td>\n",
       "      <td>chr2</td>\n",
       "      <td>190000</td>\n",
       "      <td>195000</td>\n",
       "      <td>1</td>\n",
       "    </tr>\n",
       "    <tr>\n",
       "      <th>8</th>\n",
       "      <td>chr1</td>\n",
       "      <td>10000</td>\n",
       "      <td>15000</td>\n",
       "      <td>chr2</td>\n",
       "      <td>43000000</td>\n",
       "      <td>43005000</td>\n",
       "      <td>1</td>\n",
       "    </tr>\n",
       "    <tr>\n",
       "      <th>9</th>\n",
       "      <td>chr1</td>\n",
       "      <td>10000</td>\n",
       "      <td>15000</td>\n",
       "      <td>chr2</td>\n",
       "      <td>54875000</td>\n",
       "      <td>54880000</td>\n",
       "      <td>1</td>\n",
       "    </tr>\n",
       "  </tbody>\n",
       "</table>\n",
       "</div>"
      ],
      "text/plain": [
       "  chrom1  start1   end1 chrom2     start2       end2  count\n",
       "0   chr1   10000  15000   chr1    1170000    1175000      1\n",
       "1   chr1   10000  15000   chr1    9970000    9975000      1\n",
       "2   chr1   10000  15000   chr1   16290000   16295000      1\n",
       "3   chr1   10000  15000   chr1   20435000   20440000      1\n",
       "4   chr1   10000  15000   chr1   30465000   30470000      1\n",
       "5   chr1   10000  15000   chr1  186795000  186800000      1\n",
       "6   chr1   10000  15000   chr1  249130000  249135000      1\n",
       "7   chr1   10000  15000   chr2     190000     195000      1\n",
       "8   chr1   10000  15000   chr2   43000000   43005000      1\n",
       "9   chr1   10000  15000   chr2   54875000   54880000      1"
      ]
     },
     "execution_count": 26,
     "metadata": {},
     "output_type": "execute_result"
    }
   ],
   "source": [
    "c.pixels(join=True)[:10]"
   ]
  },
  {
   "cell_type": "markdown",
   "metadata": {},
   "source": [
    "Pandas lets you readily dump any table selection to tabular text file."
   ]
  },
  {
   "cell_type": "code",
   "execution_count": 27,
   "metadata": {
    "ExecuteTime": {
     "end_time": "2019-02-23T03:56:35.089810Z",
     "start_time": "2019-02-23T03:56:34.986174Z"
    }
   },
   "outputs": [],
   "source": [
    "df = c.pixels(join=True)[:100]\n",
    "\n",
    "# tab-delimited file, don't write the index column or header row\n",
    "df.to_csv('data/myselection.txt', sep='\\t', index=False, header=False)"
   ]
  },
  {
   "cell_type": "code",
   "execution_count": 28,
   "metadata": {
    "ExecuteTime": {
     "end_time": "2019-02-23T03:56:35.211766Z",
     "start_time": "2019-02-23T03:56:35.092430Z"
    }
   },
   "outputs": [
    {
     "name": "stdout",
     "output_type": "stream",
     "text": [
      "chr1\t10000\t15000\tchr1\t1170000\t1175000\t1\n",
      "chr1\t10000\t15000\tchr1\t9970000\t9975000\t1\n",
      "chr1\t10000\t15000\tchr1\t16290000\t16295000\t1\n",
      "chr1\t10000\t15000\tchr1\t20435000\t20440000\t1\n",
      "chr1\t10000\t15000\tchr1\t30465000\t30470000\t1\n",
      "chr1\t10000\t15000\tchr1\t186795000\t186800000\t1\n",
      "chr1\t10000\t15000\tchr1\t249130000\t249135000\t1\n",
      "chr1\t10000\t15000\tchr2\t190000\t195000\t1\n",
      "chr1\t10000\t15000\tchr2\t43000000\t43005000\t1\n",
      "chr1\t10000\t15000\tchr2\t54875000\t54880000\t1\n"
     ]
    }
   ],
   "source": [
    "!head data/myselection.txt"
   ]
  },
  {
   "cell_type": "markdown",
   "metadata": {},
   "source": [
    "### Bin annotation\n",
    "\n",
    "Another way to annotate the bins in a data frame of pixels is to use `cooler.annotate`. It does a [left outer join](http://chris.friedline.net/2015-12-15-rutgers/lessons/python2/04-merging-data.html) from the `bin1_id` and `bin2_id` columns onto a data frame indexed by bin ID that describes the bins."
   ]
  },
  {
   "cell_type": "code",
   "execution_count": 29,
   "metadata": {
    "ExecuteTime": {
     "end_time": "2019-02-23T03:56:35.306251Z",
     "start_time": "2019-02-23T03:56:35.214181Z"
    }
   },
   "outputs": [
    {
     "data": {
      "text/html": [
       "<div>\n",
       "<style scoped>\n",
       "    .dataframe tbody tr th:only-of-type {\n",
       "        vertical-align: middle;\n",
       "    }\n",
       "\n",
       "    .dataframe tbody tr th {\n",
       "        vertical-align: top;\n",
       "    }\n",
       "\n",
       "    .dataframe thead th {\n",
       "        text-align: right;\n",
       "    }\n",
       "</style>\n",
       "<table border=\"1\" class=\"dataframe\">\n",
       "  <thead>\n",
       "    <tr style=\"text-align: right;\">\n",
       "      <th></th>\n",
       "      <th>bin1_id</th>\n",
       "      <th>bin2_id</th>\n",
       "      <th>count</th>\n",
       "    </tr>\n",
       "  </thead>\n",
       "  <tbody>\n",
       "    <tr>\n",
       "      <th>100</th>\n",
       "      <td>2</td>\n",
       "      <td>356649</td>\n",
       "      <td>1</td>\n",
       "    </tr>\n",
       "    <tr>\n",
       "      <th>101</th>\n",
       "      <td>2</td>\n",
       "      <td>356700</td>\n",
       "      <td>1</td>\n",
       "    </tr>\n",
       "    <tr>\n",
       "      <th>102</th>\n",
       "      <td>2</td>\n",
       "      <td>363068</td>\n",
       "      <td>1</td>\n",
       "    </tr>\n",
       "    <tr>\n",
       "      <th>103</th>\n",
       "      <td>2</td>\n",
       "      <td>363243</td>\n",
       "      <td>1</td>\n",
       "    </tr>\n",
       "    <tr>\n",
       "      <th>104</th>\n",
       "      <td>2</td>\n",
       "      <td>363270</td>\n",
       "      <td>1</td>\n",
       "    </tr>\n",
       "    <tr>\n",
       "      <th>105</th>\n",
       "      <td>2</td>\n",
       "      <td>363293</td>\n",
       "      <td>1</td>\n",
       "    </tr>\n",
       "    <tr>\n",
       "      <th>106</th>\n",
       "      <td>2</td>\n",
       "      <td>363329</td>\n",
       "      <td>1</td>\n",
       "    </tr>\n",
       "    <tr>\n",
       "      <th>107</th>\n",
       "      <td>2</td>\n",
       "      <td>363348</td>\n",
       "      <td>1</td>\n",
       "    </tr>\n",
       "    <tr>\n",
       "      <th>108</th>\n",
       "      <td>2</td>\n",
       "      <td>363373</td>\n",
       "      <td>1</td>\n",
       "    </tr>\n",
       "    <tr>\n",
       "      <th>109</th>\n",
       "      <td>2</td>\n",
       "      <td>363374</td>\n",
       "      <td>1</td>\n",
       "    </tr>\n",
       "  </tbody>\n",
       "</table>\n",
       "</div>"
      ],
      "text/plain": [
       "     bin1_id  bin2_id  count\n",
       "100        2   356649      1\n",
       "101        2   356700      1\n",
       "102        2   363068      1\n",
       "103        2   363243      1\n",
       "104        2   363270      1\n",
       "105        2   363293      1\n",
       "106        2   363329      1\n",
       "107        2   363348      1\n",
       "108        2   363373      1\n",
       "109        2   363374      1"
      ]
     },
     "execution_count": 29,
     "metadata": {},
     "output_type": "execute_result"
    }
   ],
   "source": [
    "bins = c.bins()[:]  # fetch all the bins\n",
    "\n",
    "pix = c.pixels()[100:110]  # select some pixels with unannotated bins\n",
    "pix"
   ]
  },
  {
   "cell_type": "code",
   "execution_count": 30,
   "metadata": {
    "ExecuteTime": {
     "end_time": "2019-02-23T03:56:35.337435Z",
     "start_time": "2019-02-23T03:56:35.307986Z"
    }
   },
   "outputs": [
    {
     "data": {
      "text/html": [
       "<div>\n",
       "<style scoped>\n",
       "    .dataframe tbody tr th:only-of-type {\n",
       "        vertical-align: middle;\n",
       "    }\n",
       "\n",
       "    .dataframe tbody tr th {\n",
       "        vertical-align: top;\n",
       "    }\n",
       "\n",
       "    .dataframe thead th {\n",
       "        text-align: right;\n",
       "    }\n",
       "</style>\n",
       "<table border=\"1\" class=\"dataframe\">\n",
       "  <thead>\n",
       "    <tr style=\"text-align: right;\">\n",
       "      <th></th>\n",
       "      <th>chrom1</th>\n",
       "      <th>start1</th>\n",
       "      <th>end1</th>\n",
       "      <th>weight1</th>\n",
       "      <th>chrom2</th>\n",
       "      <th>start2</th>\n",
       "      <th>end2</th>\n",
       "      <th>weight2</th>\n",
       "      <th>bin1_id</th>\n",
       "      <th>bin2_id</th>\n",
       "      <th>count</th>\n",
       "    </tr>\n",
       "  </thead>\n",
       "  <tbody>\n",
       "    <tr>\n",
       "      <th>100</th>\n",
       "      <td>chr1</td>\n",
       "      <td>10000</td>\n",
       "      <td>15000</td>\n",
       "      <td>NaN</td>\n",
       "      <td>chr10</td>\n",
       "      <td>102850000</td>\n",
       "      <td>102855000</td>\n",
       "      <td>1.503567</td>\n",
       "      <td>2</td>\n",
       "      <td>356649</td>\n",
       "      <td>1</td>\n",
       "    </tr>\n",
       "    <tr>\n",
       "      <th>101</th>\n",
       "      <td>chr1</td>\n",
       "      <td>10000</td>\n",
       "      <td>15000</td>\n",
       "      <td>NaN</td>\n",
       "      <td>chr10</td>\n",
       "      <td>103105000</td>\n",
       "      <td>103110000</td>\n",
       "      <td>0.924921</td>\n",
       "      <td>2</td>\n",
       "      <td>356700</td>\n",
       "      <td>1</td>\n",
       "    </tr>\n",
       "    <tr>\n",
       "      <th>102</th>\n",
       "      <td>chr1</td>\n",
       "      <td>10000</td>\n",
       "      <td>15000</td>\n",
       "      <td>NaN</td>\n",
       "      <td>chr10</td>\n",
       "      <td>134945000</td>\n",
       "      <td>134950000</td>\n",
       "      <td>1.480836</td>\n",
       "      <td>2</td>\n",
       "      <td>363068</td>\n",
       "      <td>1</td>\n",
       "    </tr>\n",
       "    <tr>\n",
       "      <th>103</th>\n",
       "      <td>chr1</td>\n",
       "      <td>10000</td>\n",
       "      <td>15000</td>\n",
       "      <td>NaN</td>\n",
       "      <td>chr11</td>\n",
       "      <td>285000</td>\n",
       "      <td>290000</td>\n",
       "      <td>1.455694</td>\n",
       "      <td>2</td>\n",
       "      <td>363243</td>\n",
       "      <td>1</td>\n",
       "    </tr>\n",
       "    <tr>\n",
       "      <th>104</th>\n",
       "      <td>chr1</td>\n",
       "      <td>10000</td>\n",
       "      <td>15000</td>\n",
       "      <td>NaN</td>\n",
       "      <td>chr11</td>\n",
       "      <td>420000</td>\n",
       "      <td>425000</td>\n",
       "      <td>1.107395</td>\n",
       "      <td>2</td>\n",
       "      <td>363270</td>\n",
       "      <td>1</td>\n",
       "    </tr>\n",
       "    <tr>\n",
       "      <th>105</th>\n",
       "      <td>chr1</td>\n",
       "      <td>10000</td>\n",
       "      <td>15000</td>\n",
       "      <td>NaN</td>\n",
       "      <td>chr11</td>\n",
       "      <td>535000</td>\n",
       "      <td>540000</td>\n",
       "      <td>0.819330</td>\n",
       "      <td>2</td>\n",
       "      <td>363293</td>\n",
       "      <td>1</td>\n",
       "    </tr>\n",
       "    <tr>\n",
       "      <th>106</th>\n",
       "      <td>chr1</td>\n",
       "      <td>10000</td>\n",
       "      <td>15000</td>\n",
       "      <td>NaN</td>\n",
       "      <td>chr11</td>\n",
       "      <td>715000</td>\n",
       "      <td>720000</td>\n",
       "      <td>0.911051</td>\n",
       "      <td>2</td>\n",
       "      <td>363329</td>\n",
       "      <td>1</td>\n",
       "    </tr>\n",
       "    <tr>\n",
       "      <th>107</th>\n",
       "      <td>chr1</td>\n",
       "      <td>10000</td>\n",
       "      <td>15000</td>\n",
       "      <td>NaN</td>\n",
       "      <td>chr11</td>\n",
       "      <td>810000</td>\n",
       "      <td>815000</td>\n",
       "      <td>1.202326</td>\n",
       "      <td>2</td>\n",
       "      <td>363348</td>\n",
       "      <td>1</td>\n",
       "    </tr>\n",
       "    <tr>\n",
       "      <th>108</th>\n",
       "      <td>chr1</td>\n",
       "      <td>10000</td>\n",
       "      <td>15000</td>\n",
       "      <td>NaN</td>\n",
       "      <td>chr11</td>\n",
       "      <td>935000</td>\n",
       "      <td>940000</td>\n",
       "      <td>0.889250</td>\n",
       "      <td>2</td>\n",
       "      <td>363373</td>\n",
       "      <td>1</td>\n",
       "    </tr>\n",
       "    <tr>\n",
       "      <th>109</th>\n",
       "      <td>chr1</td>\n",
       "      <td>10000</td>\n",
       "      <td>15000</td>\n",
       "      <td>NaN</td>\n",
       "      <td>chr11</td>\n",
       "      <td>940000</td>\n",
       "      <td>945000</td>\n",
       "      <td>1.017561</td>\n",
       "      <td>2</td>\n",
       "      <td>363374</td>\n",
       "      <td>1</td>\n",
       "    </tr>\n",
       "  </tbody>\n",
       "</table>\n",
       "</div>"
      ],
      "text/plain": [
       "    chrom1  start1   end1  weight1 chrom2     start2       end2   weight2  \\\n",
       "100   chr1   10000  15000      NaN  chr10  102850000  102855000  1.503567   \n",
       "101   chr1   10000  15000      NaN  chr10  103105000  103110000  0.924921   \n",
       "102   chr1   10000  15000      NaN  chr10  134945000  134950000  1.480836   \n",
       "103   chr1   10000  15000      NaN  chr11     285000     290000  1.455694   \n",
       "104   chr1   10000  15000      NaN  chr11     420000     425000  1.107395   \n",
       "105   chr1   10000  15000      NaN  chr11     535000     540000  0.819330   \n",
       "106   chr1   10000  15000      NaN  chr11     715000     720000  0.911051   \n",
       "107   chr1   10000  15000      NaN  chr11     810000     815000  1.202326   \n",
       "108   chr1   10000  15000      NaN  chr11     935000     940000  0.889250   \n",
       "109   chr1   10000  15000      NaN  chr11     940000     945000  1.017561   \n",
       "\n",
       "     bin1_id  bin2_id  count  \n",
       "100        2   356649      1  \n",
       "101        2   356700      1  \n",
       "102        2   363068      1  \n",
       "103        2   363243      1  \n",
       "104        2   363270      1  \n",
       "105        2   363293      1  \n",
       "106        2   363329      1  \n",
       "107        2   363348      1  \n",
       "108        2   363373      1  \n",
       "109        2   363374      1  "
      ]
     },
     "execution_count": 30,
     "metadata": {},
     "output_type": "execute_result"
    }
   ],
   "source": [
    "cooler.annotate(pix, bins)"
   ]
  },
  {
   "cell_type": "code",
   "execution_count": 31,
   "metadata": {
    "ExecuteTime": {
     "end_time": "2019-02-23T03:56:35.356048Z",
     "start_time": "2019-02-23T03:56:35.341148Z"
    }
   },
   "outputs": [
    {
     "data": {
      "text/html": [
       "<div>\n",
       "<style scoped>\n",
       "    .dataframe tbody tr th:only-of-type {\n",
       "        vertical-align: middle;\n",
       "    }\n",
       "\n",
       "    .dataframe tbody tr th {\n",
       "        vertical-align: top;\n",
       "    }\n",
       "\n",
       "    .dataframe thead th {\n",
       "        text-align: right;\n",
       "    }\n",
       "</style>\n",
       "<table border=\"1\" class=\"dataframe\">\n",
       "  <thead>\n",
       "    <tr style=\"text-align: right;\">\n",
       "      <th></th>\n",
       "      <th>weight1</th>\n",
       "      <th>weight2</th>\n",
       "      <th>bin1_id</th>\n",
       "      <th>bin2_id</th>\n",
       "      <th>count</th>\n",
       "    </tr>\n",
       "  </thead>\n",
       "  <tbody>\n",
       "    <tr>\n",
       "      <th>100</th>\n",
       "      <td>NaN</td>\n",
       "      <td>1.503567</td>\n",
       "      <td>2</td>\n",
       "      <td>356649</td>\n",
       "      <td>1</td>\n",
       "    </tr>\n",
       "    <tr>\n",
       "      <th>101</th>\n",
       "      <td>NaN</td>\n",
       "      <td>0.924921</td>\n",
       "      <td>2</td>\n",
       "      <td>356700</td>\n",
       "      <td>1</td>\n",
       "    </tr>\n",
       "    <tr>\n",
       "      <th>102</th>\n",
       "      <td>NaN</td>\n",
       "      <td>1.480836</td>\n",
       "      <td>2</td>\n",
       "      <td>363068</td>\n",
       "      <td>1</td>\n",
       "    </tr>\n",
       "    <tr>\n",
       "      <th>103</th>\n",
       "      <td>NaN</td>\n",
       "      <td>1.455694</td>\n",
       "      <td>2</td>\n",
       "      <td>363243</td>\n",
       "      <td>1</td>\n",
       "    </tr>\n",
       "    <tr>\n",
       "      <th>104</th>\n",
       "      <td>NaN</td>\n",
       "      <td>1.107395</td>\n",
       "      <td>2</td>\n",
       "      <td>363270</td>\n",
       "      <td>1</td>\n",
       "    </tr>\n",
       "    <tr>\n",
       "      <th>105</th>\n",
       "      <td>NaN</td>\n",
       "      <td>0.819330</td>\n",
       "      <td>2</td>\n",
       "      <td>363293</td>\n",
       "      <td>1</td>\n",
       "    </tr>\n",
       "    <tr>\n",
       "      <th>106</th>\n",
       "      <td>NaN</td>\n",
       "      <td>0.911051</td>\n",
       "      <td>2</td>\n",
       "      <td>363329</td>\n",
       "      <td>1</td>\n",
       "    </tr>\n",
       "    <tr>\n",
       "      <th>107</th>\n",
       "      <td>NaN</td>\n",
       "      <td>1.202326</td>\n",
       "      <td>2</td>\n",
       "      <td>363348</td>\n",
       "      <td>1</td>\n",
       "    </tr>\n",
       "    <tr>\n",
       "      <th>108</th>\n",
       "      <td>NaN</td>\n",
       "      <td>0.889250</td>\n",
       "      <td>2</td>\n",
       "      <td>363373</td>\n",
       "      <td>1</td>\n",
       "    </tr>\n",
       "    <tr>\n",
       "      <th>109</th>\n",
       "      <td>NaN</td>\n",
       "      <td>1.017561</td>\n",
       "      <td>2</td>\n",
       "      <td>363374</td>\n",
       "      <td>1</td>\n",
       "    </tr>\n",
       "  </tbody>\n",
       "</table>\n",
       "</div>"
      ],
      "text/plain": [
       "     weight1   weight2  bin1_id  bin2_id  count\n",
       "100      NaN  1.503567        2   356649      1\n",
       "101      NaN  0.924921        2   356700      1\n",
       "102      NaN  1.480836        2   363068      1\n",
       "103      NaN  1.455694        2   363243      1\n",
       "104      NaN  1.107395        2   363270      1\n",
       "105      NaN  0.819330        2   363293      1\n",
       "106      NaN  0.911051        2   363329      1\n",
       "107      NaN  1.202326        2   363348      1\n",
       "108      NaN  0.889250        2   363373      1\n",
       "109      NaN  1.017561        2   363374      1"
      ]
     },
     "execution_count": 31,
     "metadata": {},
     "output_type": "execute_result"
    }
   ],
   "source": [
    "cooler.annotate(pix, bins[['weight']], replace=False)"
   ]
  },
  {
   "cell_type": "markdown",
   "metadata": {},
   "source": [
    "### Enter The Matrix\n",
    "\n",
    "Finally, the `matrix` method provides a 2D-sliceable view on the data. It allows you to query the data on file as a full rectangular contact matrix."
   ]
  },
  {
   "cell_type": "code",
   "execution_count": 32,
   "metadata": {
    "ExecuteTime": {
     "end_time": "2019-02-23T03:56:35.360784Z",
     "start_time": "2019-02-23T03:56:35.357698Z"
    }
   },
   "outputs": [
    {
     "data": {
      "text/plain": [
       "<cooler.core.RangeSelector2D at 0x7f97f6f56160>"
      ]
     },
     "execution_count": 32,
     "metadata": {},
     "output_type": "execute_result"
    }
   ],
   "source": [
    "c.matrix()"
   ]
  },
  {
   "cell_type": "markdown",
   "metadata": {},
   "source": [
    "The result of a query is a 2D NumPy array."
   ]
  },
  {
   "cell_type": "code",
   "execution_count": 33,
   "metadata": {
    "ExecuteTime": {
     "end_time": "2019-02-23T03:56:35.427644Z",
     "start_time": "2019-02-23T03:56:35.362905Z"
    }
   },
   "outputs": [
    {
     "data": {
      "text/plain": [
       "array([[129, 230,  72, ...,   3,   3,   3],\n",
       "       [230, 217, 128, ...,   3,   6,   1],\n",
       "       [ 72, 128,  42, ...,   3,   1,   1],\n",
       "       ...,\n",
       "       [  3,   3,   3, ..., 199, 357, 165],\n",
       "       [  3,   6,   1, ..., 357, 225, 257],\n",
       "       [  3,   1,   1, ..., 165, 257, 136]])"
      ]
     },
     "execution_count": 33,
     "metadata": {},
     "output_type": "execute_result"
    }
   ],
   "source": [
    "arr = c.matrix(balance=False)[1000:1200, 1000:1200]\n",
    "arr"
   ]
  },
  {
   "cell_type": "markdown",
   "metadata": {},
   "source": [
    "Use **`sparse=True`** to return `scipy.sparse.coo_matrix` objects instead."
   ]
  },
  {
   "cell_type": "code",
   "execution_count": 34,
   "metadata": {
    "ExecuteTime": {
     "end_time": "2019-02-23T03:56:35.498319Z",
     "start_time": "2019-02-23T03:56:35.429311Z"
    }
   },
   "outputs": [
    {
     "data": {
      "text/plain": [
       "<200x200 sparse matrix of type '<class 'numpy.int64'>'\n",
       "\twith 39393 stored elements in COOrdinate format>"
      ]
     },
     "execution_count": 34,
     "metadata": {},
     "output_type": "execute_result"
    }
   ],
   "source": [
    "mat = c.matrix(balance=False, sparse=True)[1000:1200, 1000:1200]\n",
    "mat"
   ]
  },
  {
   "cell_type": "markdown",
   "metadata": {},
   "source": [
    "It is straightforward to convert to a dense 2D numpy array."
   ]
  },
  {
   "cell_type": "code",
   "execution_count": 35,
   "metadata": {
    "ExecuteTime": {
     "end_time": "2019-02-23T03:56:35.507150Z",
     "start_time": "2019-02-23T03:56:35.501080Z"
    }
   },
   "outputs": [
    {
     "data": {
      "text/plain": [
       "array([[129, 230,  72, ...,   3,   3,   3],\n",
       "       [230, 217, 128, ...,   3,   6,   1],\n",
       "       [ 72, 128,  42, ...,   3,   1,   1],\n",
       "       ...,\n",
       "       [  3,   3,   3, ..., 199, 357, 165],\n",
       "       [  3,   6,   1, ..., 357, 225, 257],\n",
       "       [  3,   1,   1, ..., 165, 257, 136]])"
      ]
     },
     "execution_count": 35,
     "metadata": {},
     "output_type": "execute_result"
    }
   ],
   "source": [
    "arr = mat.toarray()\n",
    "arr"
   ]
  },
  {
   "cell_type": "markdown",
   "metadata": {},
   "source": [
    "Notice that the lower triangle has been automatically filled in."
   ]
  },
  {
   "cell_type": "code",
   "execution_count": 36,
   "metadata": {
    "ExecuteTime": {
     "end_time": "2019-02-23T03:56:35.766818Z",
     "start_time": "2019-02-23T03:56:35.508932Z"
    }
   },
   "outputs": [
    {
     "name": "stderr",
     "output_type": "stream",
     "text": [
      "/home/nezar/miniconda3/lib/python3.7/site-packages/ipykernel_launcher.py:3: RuntimeWarning: divide by zero encountered in log10\n",
      "  This is separate from the ipykernel package so we can avoid doing imports until\n"
     ]
    },
    {
     "data": {
      "text/plain": [
       "<matplotlib.colorbar.Colorbar at 0x7f97f57539b0>"
      ]
     },
     "execution_count": 36,
     "metadata": {},
     "output_type": "execute_result"
    },
    {
     "data": {
      "image/png": "[encoded data removed]",
      "text/plain": [
       "<Figure size 720x720 with 2 Axes>"
      ]
     },
     "metadata": {
      "needs_background": "light"
     },
     "output_type": "display_data"
    }
   ],
   "source": [
    "fig = plt.figure(figsize=(10, 10))\n",
    "ax = fig.add_subplot(111)\n",
    "im = ax.matshow(np.log10(arr), cmap='YlOrRd')\n",
    "fig.colorbar(im)"
   ]
  },
  {
   "cell_type": "markdown",
   "metadata": {},
   "source": [
    "Notice the light and dark \"banded\" appearance? That's because you are looking at the unnormalized counts."
   ]
  },
  {
   "cell_type": "markdown",
   "metadata": {},
   "source": [
    "### Balancing your selection"
   ]
  },
  {
   "cell_type": "markdown",
   "metadata": {},
   "source": [
    "We usually normalize or \"correct\" Hi-C using a technique called matrix balancing. This involves finding a set of weights or biases $b_i$ for each bin $i$ such that\n",
    "\n",
    "$$ Normalized[i,j] = Observed[i,j] \\cdot b[i] \\cdot b[j], $$\n",
    "\n",
    "such that the marginals (i.e., row/column sums) of the global contact matrix are flat and equal.\n",
    "\n",
    "Cooler can store the pre-computed balancing weights in the bin table.\n",
    "\n",
    "Here's one way to manually apply them to balance your selection."
   ]
  },
  {
   "cell_type": "code",
   "execution_count": 37,
   "metadata": {
    "ExecuteTime": {
     "end_time": "2019-02-23T03:56:35.832046Z",
     "start_time": "2019-02-23T03:56:35.768525Z"
    }
   },
   "outputs": [],
   "source": [
    "# get the balancing weights as a numpy array\n",
    "weights = c.bins()['weight']  # view\n",
    "bias = weights[1000:1200]     # series\n",
    "bias = bias.values            # array\n",
    "\n",
    "# fetch a sparse matrix\n",
    "mat = c.matrix(balance=False, sparse=True)[1000:1200, 1000:1200]\n",
    "\n",
    "# apply the balancing weights\n",
    "mat.data = bias[mat.row] * bias[mat.col] * mat.data\n",
    "\n",
    "# convert to dense numpy array\n",
    "arr = mat.toarray()"
   ]
  },
  {
   "cell_type": "markdown",
   "metadata": {},
   "source": [
    "As a shortcut, we get the same result by passing **`balance=True`** to the matrix view constructor."
   ]
  },
  {
   "cell_type": "code",
   "execution_count": 38,
   "metadata": {
    "ExecuteTime": {
     "end_time": "2019-02-23T03:56:35.897836Z",
     "start_time": "2019-02-23T03:56:35.834778Z"
    }
   },
   "outputs": [
    {
     "data": {
      "text/plain": [
       "True"
      ]
     },
     "execution_count": 38,
     "metadata": {},
     "output_type": "execute_result"
    }
   ],
   "source": [
    "arr2 = c.matrix(balance=True, sparse=True)[1000:1200, 1000:1200].toarray()\n",
    "np.allclose(arr, arr2, equal_nan=True)"
   ]
  },
  {
   "cell_type": "code",
   "execution_count": 39,
   "metadata": {
    "ExecuteTime": {
     "end_time": "2019-02-23T03:56:36.201550Z",
     "start_time": "2019-02-23T03:56:35.900713Z"
    }
   },
   "outputs": [
    {
     "name": "stderr",
     "output_type": "stream",
     "text": [
      "/home/nezar/miniconda3/lib/python3.7/site-packages/ipykernel_launcher.py:3: RuntimeWarning: divide by zero encountered in log10\n",
      "  This is separate from the ipykernel package so we can avoid doing imports until\n"
     ]
    },
    {
     "data": {
      "text/plain": [
       "<matplotlib.colorbar.Colorbar at 0x7f97f4259898>"
      ]
     },
     "execution_count": 39,
     "metadata": {},
     "output_type": "execute_result"
    },
    {
     "data": {
      "image/png": "[encoded data removed]",
      "text/plain": [
       "<Figure size 720x720 with 2 Axes>"
      ]
     },
     "metadata": {
      "needs_background": "light"
     },
     "output_type": "display_data"
    }
   ],
   "source": [
    "fig = plt.figure(figsize=(10, 10))\n",
    "ax = fig.add_subplot(111)\n",
    "im = ax.matshow(np.log10(arr), cmap='YlOrRd')\n",
    "fig.colorbar(im)"
   ]
  },
  {
   "cell_type": "markdown",
   "metadata": {},
   "source": [
    "### Genomic coordinate range selection"
   ]
  },
  {
   "cell_type": "markdown",
   "metadata": {},
   "source": [
    "The bin table, pixel table and matrix views also accept UCSC-style genomic range strings or (chrom, start, end) triples."
   ]
  },
  {
   "cell_type": "code",
   "execution_count": 40,
   "metadata": {
    "ExecuteTime": {
     "end_time": "2019-02-23T03:56:36.235989Z",
     "start_time": "2019-02-23T03:56:36.203370Z"
    }
   },
   "outputs": [
    {
     "data": {
      "text/html": [
       "<div>\n",
       "<style scoped>\n",
       "    .dataframe tbody tr th:only-of-type {\n",
       "        vertical-align: middle;\n",
       "    }\n",
       "\n",
       "    .dataframe tbody tr th {\n",
       "        vertical-align: top;\n",
       "    }\n",
       "\n",
       "    .dataframe thead th {\n",
       "        text-align: right;\n",
       "    }\n",
       "</style>\n",
       "<table border=\"1\" class=\"dataframe\">\n",
       "  <thead>\n",
       "    <tr style=\"text-align: right;\">\n",
       "      <th></th>\n",
       "      <th>chrom</th>\n",
       "      <th>start</th>\n",
       "      <th>end</th>\n",
       "      <th>weight</th>\n",
       "    </tr>\n",
       "  </thead>\n",
       "  <tbody>\n",
       "    <tr>\n",
       "      <th>51851</th>\n",
       "      <td>chr2</td>\n",
       "      <td>10000000</td>\n",
       "      <td>10005000</td>\n",
       "      <td>2.474065</td>\n",
       "    </tr>\n",
       "    <tr>\n",
       "      <th>51852</th>\n",
       "      <td>chr2</td>\n",
       "      <td>10005000</td>\n",
       "      <td>10010000</td>\n",
       "      <td>1.403127</td>\n",
       "    </tr>\n",
       "    <tr>\n",
       "      <th>51853</th>\n",
       "      <td>chr2</td>\n",
       "      <td>10010000</td>\n",
       "      <td>10015000</td>\n",
       "      <td>0.883045</td>\n",
       "    </tr>\n",
       "    <tr>\n",
       "      <th>51854</th>\n",
       "      <td>chr2</td>\n",
       "      <td>10015000</td>\n",
       "      <td>10020000</td>\n",
       "      <td>0.771122</td>\n",
       "    </tr>\n",
       "    <tr>\n",
       "      <th>51855</th>\n",
       "      <td>chr2</td>\n",
       "      <td>10020000</td>\n",
       "      <td>10025000</td>\n",
       "      <td>0.924510</td>\n",
       "    </tr>\n",
       "    <tr>\n",
       "      <th>...</th>\n",
       "      <td>...</td>\n",
       "      <td>...</td>\n",
       "      <td>...</td>\n",
       "      <td>...</td>\n",
       "    </tr>\n",
       "    <tr>\n",
       "      <th>53846</th>\n",
       "      <td>chr2</td>\n",
       "      <td>19975000</td>\n",
       "      <td>19980000</td>\n",
       "      <td>0.575194</td>\n",
       "    </tr>\n",
       "    <tr>\n",
       "      <th>53847</th>\n",
       "      <td>chr2</td>\n",
       "      <td>19980000</td>\n",
       "      <td>19985000</td>\n",
       "      <td>1.450563</td>\n",
       "    </tr>\n",
       "    <tr>\n",
       "      <th>53848</th>\n",
       "      <td>chr2</td>\n",
       "      <td>19985000</td>\n",
       "      <td>19990000</td>\n",
       "      <td>0.861964</td>\n",
       "    </tr>\n",
       "    <tr>\n",
       "      <th>53849</th>\n",
       "      <td>chr2</td>\n",
       "      <td>19990000</td>\n",
       "      <td>19995000</td>\n",
       "      <td>0.786807</td>\n",
       "    </tr>\n",
       "    <tr>\n",
       "      <th>53850</th>\n",
       "      <td>chr2</td>\n",
       "      <td>19995000</td>\n",
       "      <td>20000000</td>\n",
       "      <td>0.692477</td>\n",
       "    </tr>\n",
       "  </tbody>\n",
       "</table>\n",
       "<p>2000 rows × 4 columns</p>\n",
       "</div>"
      ],
      "text/plain": [
       "      chrom     start       end    weight\n",
       "51851  chr2  10000000  10005000  2.474065\n",
       "51852  chr2  10005000  10010000  1.403127\n",
       "51853  chr2  10010000  10015000  0.883045\n",
       "51854  chr2  10015000  10020000  0.771122\n",
       "51855  chr2  10020000  10025000  0.924510\n",
       "...     ...       ...       ...       ...\n",
       "53846  chr2  19975000  19980000  0.575194\n",
       "53847  chr2  19980000  19985000  1.450563\n",
       "53848  chr2  19985000  19990000  0.861964\n",
       "53849  chr2  19990000  19995000  0.786807\n",
       "53850  chr2  19995000  20000000  0.692477\n",
       "\n",
       "[2000 rows x 4 columns]"
      ]
     },
     "execution_count": 40,
     "metadata": {},
     "output_type": "execute_result"
    }
   ],
   "source": [
    "c.bins().fetch('chr2:10,000,000-20,000,000')"
   ]
  },
  {
   "cell_type": "code",
   "execution_count": 41,
   "metadata": {
    "ExecuteTime": {
     "end_time": "2019-02-23T03:56:37.283093Z",
     "start_time": "2019-02-23T03:56:36.238065Z"
    }
   },
   "outputs": [
    {
     "data": {
      "text/plain": [
       "(9626, 9626)"
      ]
     },
     "execution_count": 41,
     "metadata": {},
     "output_type": "execute_result"
    }
   ],
   "source": [
    "cis = c.matrix(sparse=True).fetch('chr21')\n",
    "cis.shape"
   ]
  },
  {
   "cell_type": "code",
   "execution_count": 42,
   "metadata": {
    "ExecuteTime": {
     "end_time": "2019-02-23T03:56:37.780037Z",
     "start_time": "2019-02-23T03:56:37.288576Z"
    }
   },
   "outputs": [
    {
     "data": {
      "text/plain": [
       "(9626, 10261)"
      ]
     },
     "execution_count": 42,
     "metadata": {},
     "output_type": "execute_result"
    }
   ],
   "source": [
    "trans = c.matrix(sparse=True).fetch('chr21', 'chr22')\n",
    "trans.shape"
   ]
  },
  {
   "cell_type": "code",
   "execution_count": null,
   "metadata": {},
   "outputs": [],
   "source": []
  },
  {
   "cell_type": "code",
   "execution_count": null,
   "metadata": {},
   "outputs": [],
   "source": []
  }
 ],
 "metadata": {
  "kernelspec": {
   "display_name": "Python 3",
   "language": "python",
   "name": "python3"
  },
  "language_info": {
   "codemirror_mode": {
    "name": "ipython",
    "version": 3
   },
   "file_extension": ".py",
   "mimetype": "text/x-python",
   "name": "python",
   "nbconvert_exporter": "python",
   "pygments_lexer": "ipython3",
   "version": "3.7.3"
  },
  "toc": {
   "base_numbering": 1,
   "nav_menu": {},
   "number_sections": true,
   "sideBar": true,
   "skip_h1_title": false,
   "title_cell": "Table of Contents",
   "title_sidebar": "Contents",
   "toc_cell": true,
   "toc_position": {},
   "toc_section_display": "block",
   "toc_window_display": true
  }
 },
 "nbformat": 4,
 "nbformat_minor": 2
}
