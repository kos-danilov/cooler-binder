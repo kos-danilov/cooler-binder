{
 "cells": [
  {
   "cell_type": "markdown",
   "metadata": {
    "toc": "true"
   },
   "source": [
    "<h1>Table of Contents<span class=\"tocSkip\"></span></h1>\n",
    "<div class=\"toc\"><ul class=\"toc-item\"><li><span><a href=\"#Cooler-Python-API\" data-toc-modified-id=\"Cooler-Python-API-1\"><span class=\"toc-item-num\">1&nbsp;&nbsp;</span>Cooler Python API</a></span><ul class=\"toc-item\"><li><span><a href=\"#Direct-access-with-h5py\" data-toc-modified-id=\"Direct-access-with-h5py-1.1\"><span class=\"toc-item-num\">1.1&nbsp;&nbsp;</span>Direct access with <code>h5py</code></a></span></li><li><span><a href=\"#The-Cooler-class\" data-toc-modified-id=\"The-Cooler-class-1.2\"><span class=\"toc-item-num\">1.2&nbsp;&nbsp;</span>The <code>Cooler</code> class</a></span><ul class=\"toc-item\"><li><span><a href=\"#The-info-dictionary\" data-toc-modified-id=\"The-info-dictionary-1.2.1\"><span class=\"toc-item-num\">1.2.1&nbsp;&nbsp;</span>The info dictionary</a></span></li><li><span><a href=\"#Table-Views\" data-toc-modified-id=\"Table-Views-1.2.2\"><span class=\"toc-item-num\">1.2.2&nbsp;&nbsp;</span>Table Views</a></span></li><li><span><a href=\"#Bin-annotation\" data-toc-modified-id=\"Bin-annotation-1.2.3\"><span class=\"toc-item-num\">1.2.3&nbsp;&nbsp;</span>Bin annotation</a></span></li><li><span><a href=\"#Enter-The-Matrix\" data-toc-modified-id=\"Enter-The-Matrix-1.2.4\"><span class=\"toc-item-num\">1.2.4&nbsp;&nbsp;</span>Enter The Matrix</a></span></li><li><span><a href=\"#Balancing-your-selection\" data-toc-modified-id=\"Balancing-your-selection-1.2.5\"><span class=\"toc-item-num\">1.2.5&nbsp;&nbsp;</span>Balancing your selection</a></span></li><li><span><a href=\"#Genomic-coordinate-range-selection\" data-toc-modified-id=\"Genomic-coordinate-range-selection-1.2.6\"><span class=\"toc-item-num\">1.2.6&nbsp;&nbsp;</span>Genomic coordinate range selection</a></span></li></ul></li></ul></li></ul></div>"
   ]
  },
  {
   "cell_type": "markdown",
   "metadata": {},
   "source": [
    "# Cooler Python API"
   ]
  },
  {
   "cell_type": "markdown",
   "metadata": {},
   "source": [
    "Pre-requisites:\n",
    "\n",
    "- Basic Python knowledge\n",
    "- Some experience with the NumPy array package (or MATLAB)\n",
    "\n",
    "This walkthrough also makes use of:\n",
    "\n",
    "- Jupyter (IPython) Notebook. That's what you're using right now!\n",
    "- Pandas, the dataframe package (similar to R data.frames)\n",
    "- h5py, the package to interact with HDF5 files from Python\n",
    "- matplotlib, the MATLAB-inspired plotting package for Python\n",
    "\n",
    "To navigate this notebook:\n",
    "\n",
    "- Click on a code cell and execute its code by pressing `shift+enter` or clicking the \"play\" button on the toolbar.\n",
    "- While the code cell is running the prompt on the left will look like `In [*]:` and will display the execution count when it is done.\n",
    "- Execution output will be displayed beneath each cell.\n",
    "- To restart the notebook, use the options in the `Kernel` dropdown menu.\n",
    "- You can also run the entire notebook in one go with the `Restart & Run All` option"
   ]
  },
  {
   "cell_type": "code",
   "execution_count": null,
   "metadata": {
    "ExecuteTime": {
     "end_time": "2019-02-23T03:56:34.662662Z",
     "start_time": "2019-02-23T03:56:34.309505Z"
    }
   },
   "outputs": [],
   "source": [
    "# Import the packages we will use\n",
    "import os.path as op\n",
    "import matplotlib.pyplot as plt\n",
    "import numpy as np\n",
    "import pandas\n",
    "import h5py\n",
    "\n",
    "import cooler"
   ]
  },
  {
   "cell_type": "code",
   "execution_count": null,
   "metadata": {
    "ExecuteTime": {
     "end_time": "2019-02-23T03:56:34.673065Z",
     "start_time": "2019-02-23T03:56:34.664345Z"
    }
   },
   "outputs": [],
   "source": [
    "# The following directive activates inline plotting\n",
    "%matplotlib inline"
   ]
  },
  {
   "cell_type": "code",
   "execution_count": null,
   "metadata": {
    "ExecuteTime": {
     "end_time": "2019-02-23T03:56:34.680090Z",
     "start_time": "2019-02-23T03:56:34.675373Z"
    }
   },
   "outputs": [],
   "source": [
    "filepath = 'data/Rao2014-GM12878-MboI-allreps-filtered.5kb.cool'\n",
    "\n",
    "# Download a high resoltion COOL file from the interwebs (this will take a few...)\n",
    "# The ! at the beginning of the line tells IPython to run the line in the shell.\n",
    "if not op.exists(filepath):\n",
    "    !wget ftp://cooler.csail.mit.edu/coolers/hg19/Rao2014-GM12878-MboI-allreps-filtered.5kb.cool -O {filepath}"
   ]
  },
  {
   "cell_type": "markdown",
   "metadata": {},
   "source": [
    "## Direct access with `h5py`\n",
    "\n",
    "The `h5py` library (HDF5 for Python) provides an excellent Pythonic interface between HDF5 and native [NumPy](http://www.numpy.org/) arrays and dtypes. It allows you to treat an HDF5 file like a dictionary with complete access to the file's contents as well as the ability to manipulate groups and read or write datasets and attributes. There is additionally a low-level API that wraps the `libhdf5` C functions directly. See the [h5py docs](http://docs.h5py.org/en/latest/index.html)."
   ]
  },
  {
   "cell_type": "code",
   "execution_count": null,
   "metadata": {
    "ExecuteTime": {
     "end_time": "2019-02-23T03:56:34.687219Z",
     "start_time": "2019-02-23T03:56:34.681901Z"
    }
   },
   "outputs": [],
   "source": [
    "h5 = h5py.File(filepath, 'r')"
   ]
  },
  {
   "cell_type": "code",
   "execution_count": null,
   "metadata": {
    "ExecuteTime": {
     "end_time": "2019-02-23T03:56:34.695072Z",
     "start_time": "2019-02-23T03:56:34.688559Z"
    }
   },
   "outputs": [],
   "source": [
    "h5"
   ]
  },
  {
   "cell_type": "code",
   "execution_count": null,
   "metadata": {
    "ExecuteTime": {
     "end_time": "2019-02-23T03:56:34.702251Z",
     "start_time": "2019-02-23T03:56:34.696555Z"
    }
   },
   "outputs": [],
   "source": [
    "h5.keys()"
   ]
  },
  {
   "cell_type": "markdown",
   "metadata": {},
   "source": [
    "Files and Groups are `dict`-like."
   ]
  },
  {
   "cell_type": "code",
   "execution_count": null,
   "metadata": {
    "ExecuteTime": {
     "end_time": "2019-02-23T03:56:34.709365Z",
     "start_time": "2019-02-23T03:56:34.703515Z"
    }
   },
   "outputs": [],
   "source": [
    "h5['pixels']"
   ]
  },
  {
   "cell_type": "code",
   "execution_count": null,
   "metadata": {
    "ExecuteTime": {
     "end_time": "2019-02-23T03:56:34.716126Z",
     "start_time": "2019-02-23T03:56:34.710962Z"
    }
   },
   "outputs": [],
   "source": [
    "list(h5['pixels'].keys())"
   ]
  },
  {
   "cell_type": "markdown",
   "metadata": {},
   "source": [
    "`h5py` dataset objects are **views** onto the data on disk"
   ]
  },
  {
   "cell_type": "code",
   "execution_count": null,
   "metadata": {
    "ExecuteTime": {
     "end_time": "2019-02-23T03:56:34.722562Z",
     "start_time": "2019-02-23T03:56:34.717668Z"
    }
   },
   "outputs": [],
   "source": [
    "h5['pixels']['bin2_id']"
   ]
  },
  {
   "cell_type": "markdown",
   "metadata": {},
   "source": [
    "Slicing or indexing returns a numpy array in memory."
   ]
  },
  {
   "cell_type": "code",
   "execution_count": null,
   "metadata": {
    "ExecuteTime": {
     "end_time": "2019-02-23T03:56:34.731267Z",
     "start_time": "2019-02-23T03:56:34.724225Z"
    }
   },
   "outputs": [],
   "source": [
    "h5['pixels']['bin2_id'][:10]"
   ]
  },
  {
   "cell_type": "code",
   "execution_count": null,
   "metadata": {
    "ExecuteTime": {
     "end_time": "2019-02-23T03:56:34.740658Z",
     "start_time": "2019-02-23T03:56:34.733167Z"
    }
   },
   "outputs": [],
   "source": [
    "h5['pixels']['count'][:10]"
   ]
  },
  {
   "cell_type": "code",
   "execution_count": null,
   "metadata": {
    "ExecuteTime": {
     "end_time": "2019-02-23T03:56:34.749341Z",
     "start_time": "2019-02-23T03:56:34.746000Z"
    }
   },
   "outputs": [],
   "source": [
    "h5.close()"
   ]
  },
  {
   "cell_type": "markdown",
   "metadata": {},
   "source": [
    "The Python `cooler` package is just a thin wrapper over `h5py`.\n",
    "\n",
    "- It lets you access the data tables as [Pandas](http://pandas.pydata.org/) [data frames and series](http://pandas.pydata.org/pandas-docs/stable/10min.html). \n",
    "- It also provides a _matrix abstraction_: letting you query the upper triangle pixel table as if it were a full rectangular [sparse matrix](http://www.scipy-lectures.org/advanced/scipy_sparse/storage_schemes.html) via [SciPy](http://www.scipy-lectures.org/index.html).\n",
    "\n",
    "See below."
   ]
  },
  {
   "cell_type": "markdown",
   "metadata": {},
   "source": [
    "## The `Cooler` class"
   ]
  },
  {
   "cell_type": "markdown",
   "metadata": {},
   "source": [
    "Accepts a file path or an open HDF5 file object.\n",
    "\n",
    "NOTE: Using a filepath allows the `Cooler` object to be serialized/pickled since the file is only opened when needed.\n"
   ]
  },
  {
   "cell_type": "code",
   "execution_count": null,
   "metadata": {
    "ExecuteTime": {
     "end_time": "2019-02-23T03:56:34.761922Z",
     "start_time": "2019-02-23T03:56:34.752093Z"
    }
   },
   "outputs": [],
   "source": [
    "c = cooler.Cooler(filepath)"
   ]
  },
  {
   "cell_type": "markdown",
   "metadata": {},
   "source": [
    "### The info dictionary"
   ]
  },
  {
   "cell_type": "code",
   "execution_count": null,
   "metadata": {
    "ExecuteTime": {
     "end_time": "2019-02-23T03:56:34.769091Z",
     "start_time": "2019-02-23T03:56:34.763694Z"
    }
   },
   "outputs": [],
   "source": [
    "c.info"
   ]
  },
  {
   "cell_type": "markdown",
   "metadata": {},
   "source": [
    "### Table Views\n",
    "Tables are accessed via methods."
   ]
  },
  {
   "cell_type": "code",
   "execution_count": null,
   "metadata": {
    "ExecuteTime": {
     "end_time": "2019-02-23T03:56:34.775355Z",
     "start_time": "2019-02-23T03:56:34.770789Z"
    }
   },
   "outputs": [],
   "source": [
    "c.chroms()"
   ]
  },
  {
   "cell_type": "markdown",
   "metadata": {},
   "source": [
    "The return value is a selector or \"view\" on a table that accepts column and range queries (\"slices\").\n",
    "\n",
    "- Column selections return a new view.\n",
    "- Range selections return pandas [DataFrames or Series](http://pandas.pydata.org/pandas-docs/stable/dsintro.html)."
   ]
  },
  {
   "cell_type": "code",
   "execution_count": null,
   "metadata": {
    "ExecuteTime": {
     "end_time": "2019-02-23T03:56:34.792082Z",
     "start_time": "2019-02-23T03:56:34.777146Z"
    }
   },
   "outputs": [],
   "source": [
    "c.chroms()[1:5]"
   ]
  },
  {
   "cell_type": "code",
   "execution_count": null,
   "metadata": {
    "ExecuteTime": {
     "end_time": "2019-02-23T03:56:34.807695Z",
     "start_time": "2019-02-23T03:56:34.793759Z"
    }
   },
   "outputs": [],
   "source": [
    "# get the whole table\n",
    "c.chroms()[:]"
   ]
  },
  {
   "cell_type": "code",
   "execution_count": null,
   "metadata": {
    "ExecuteTime": {
     "end_time": "2019-02-23T03:56:34.814008Z",
     "start_time": "2019-02-23T03:56:34.809408Z"
    }
   },
   "outputs": [],
   "source": [
    "# more convenient access to chromosomes\n",
    "c.chromnames"
   ]
  },
  {
   "cell_type": "markdown",
   "metadata": {},
   "source": [
    "In the bin table, the **weight** column contains the _matrix balancing weights_ computed for each genomic bin."
   ]
  },
  {
   "cell_type": "code",
   "execution_count": null,
   "metadata": {},
   "outputs": [],
   "source": [
    "# more convenient access to chromosome lengths\n",
    "c.chromsizes"
   ]
  },
  {
   "cell_type": "code",
   "execution_count": null,
   "metadata": {
    "ExecuteTime": {
     "end_time": "2019-02-23T03:56:34.829949Z",
     "start_time": "2019-02-23T03:56:34.815907Z"
    }
   },
   "outputs": [],
   "source": [
    "c.bins()[:10]"
   ]
  },
  {
   "cell_type": "markdown",
   "metadata": {},
   "source": [
    "Selecting a list of columns returns a new DataFrame view on that subset of columns"
   ]
  },
  {
   "cell_type": "code",
   "execution_count": null,
   "metadata": {
    "ExecuteTime": {
     "end_time": "2019-02-23T03:56:34.836855Z",
     "start_time": "2019-02-23T03:56:34.831692Z"
    }
   },
   "outputs": [],
   "source": [
    "bins = c.bins()[['chrom', 'start', 'end']]\n",
    "bins"
   ]
  },
  {
   "cell_type": "code",
   "execution_count": null,
   "metadata": {
    "ExecuteTime": {
     "end_time": "2019-02-23T03:56:34.850134Z",
     "start_time": "2019-02-23T03:56:34.838644Z"
    }
   },
   "outputs": [],
   "source": [
    "bins[:10]"
   ]
  },
  {
   "cell_type": "markdown",
   "metadata": {},
   "source": [
    "Selecting a single column returns a Series view"
   ]
  },
  {
   "cell_type": "code",
   "execution_count": null,
   "metadata": {
    "ExecuteTime": {
     "end_time": "2019-02-23T03:56:34.859728Z",
     "start_time": "2019-02-23T03:56:34.851559Z"
    }
   },
   "outputs": [],
   "source": [
    "weights = c.bins()['weight']\n",
    "weights"
   ]
  },
  {
   "cell_type": "code",
   "execution_count": null,
   "metadata": {
    "ExecuteTime": {
     "end_time": "2019-02-23T03:56:34.872126Z",
     "start_time": "2019-02-23T03:56:34.862234Z"
    }
   },
   "outputs": [],
   "source": [
    "weights[500:510]"
   ]
  },
  {
   "cell_type": "markdown",
   "metadata": {},
   "source": [
    "The pixel table contains the non-zero upper triangle entries of the contact map."
   ]
  },
  {
   "cell_type": "code",
   "execution_count": null,
   "metadata": {
    "ExecuteTime": {
     "end_time": "2019-02-23T03:56:34.890254Z",
     "start_time": "2019-02-23T03:56:34.874003Z"
    },
    "scrolled": true
   },
   "outputs": [],
   "source": [
    "c.pixels()[:10]"
   ]
  },
  {
   "cell_type": "markdown",
   "metadata": {},
   "source": [
    "Use the `join=True` option if you would like to expand the bin IDs into genomic bin coordinates by joining the output with the bin table."
   ]
  },
  {
   "cell_type": "code",
   "execution_count": null,
   "metadata": {
    "ExecuteTime": {
     "end_time": "2019-02-23T03:56:34.983532Z",
     "start_time": "2019-02-23T03:56:34.892880Z"
    }
   },
   "outputs": [],
   "source": [
    "c.pixels(join=True)[:10]"
   ]
  },
  {
   "cell_type": "markdown",
   "metadata": {},
   "source": [
    "Pandas lets you readily dump any table selection to tabular text file."
   ]
  },
  {
   "cell_type": "code",
   "execution_count": null,
   "metadata": {
    "ExecuteTime": {
     "end_time": "2019-02-23T03:56:35.089810Z",
     "start_time": "2019-02-23T03:56:34.986174Z"
    }
   },
   "outputs": [],
   "source": [
    "df = c.pixels(join=True)[:100]\n",
    "\n",
    "# tab-delimited file, don't write the index column or header row\n",
    "df.to_csv('data/myselection.txt', sep='\\t', index=False, header=False)"
   ]
  },
  {
   "cell_type": "code",
   "execution_count": null,
   "metadata": {
    "ExecuteTime": {
     "end_time": "2019-02-23T03:56:35.211766Z",
     "start_time": "2019-02-23T03:56:35.092430Z"
    }
   },
   "outputs": [],
   "source": [
    "!head data/myselection.txt"
   ]
  },
  {
   "cell_type": "markdown",
   "metadata": {},
   "source": [
    "### Bin annotation\n",
    "\n",
    "Another way to annotate the bins in a data frame of pixels is to use `cooler.annotate`. It does a [left outer join](http://chris.friedline.net/2015-12-15-rutgers/lessons/python2/04-merging-data.html) from the `bin1_id` and `bin2_id` columns onto a data frame indexed by bin ID that describes the bins."
   ]
  },
  {
   "cell_type": "code",
   "execution_count": null,
   "metadata": {
    "ExecuteTime": {
     "end_time": "2019-02-23T03:56:35.306251Z",
     "start_time": "2019-02-23T03:56:35.214181Z"
    }
   },
   "outputs": [],
   "source": [
    "bins = c.bins()[:]  # fetch all the bins\n",
    "\n",
    "pix = c.pixels()[100:110]  # select some pixels with unannotated bins\n",
    "pix"
   ]
  },
  {
   "cell_type": "code",
   "execution_count": null,
   "metadata": {
    "ExecuteTime": {
     "end_time": "2019-02-23T03:56:35.337435Z",
     "start_time": "2019-02-23T03:56:35.307986Z"
    }
   },
   "outputs": [],
   "source": [
    "cooler.annotate(pix, bins)"
   ]
  },
  {
   "cell_type": "code",
   "execution_count": null,
   "metadata": {
    "ExecuteTime": {
     "end_time": "2019-02-23T03:56:35.356048Z",
     "start_time": "2019-02-23T03:56:35.341148Z"
    }
   },
   "outputs": [],
   "source": [
    "cooler.annotate(pix, bins[['weight']], replace=False)"
   ]
  },
  {
   "cell_type": "markdown",
   "metadata": {},
   "source": [
    "### Enter The Matrix\n",
    "\n",
    "Finally, the `matrix` method provides a 2D-sliceable view on the data. It allows you to query the data on file as a full rectangular contact matrix."
   ]
  },
  {
   "cell_type": "code",
   "execution_count": null,
   "metadata": {
    "ExecuteTime": {
     "end_time": "2019-02-23T03:56:35.360784Z",
     "start_time": "2019-02-23T03:56:35.357698Z"
    }
   },
   "outputs": [],
   "source": [
    "c.matrix()"
   ]
  },
  {
   "cell_type": "markdown",
   "metadata": {},
   "source": [
    "The result of a query is a 2D NumPy array."
   ]
  },
  {
   "cell_type": "code",
   "execution_count": null,
   "metadata": {
    "ExecuteTime": {
     "end_time": "2019-02-23T03:56:35.427644Z",
     "start_time": "2019-02-23T03:56:35.362905Z"
    }
   },
   "outputs": [],
   "source": [
    "arr = c.matrix(balance=False)[1000:1200, 1000:1200]\n",
    "arr"
   ]
  },
  {
   "cell_type": "markdown",
   "metadata": {},
   "source": [
    "Use **`sparse=True`** to return `scipy.sparse.coo_matrix` objects instead."
   ]
  },
  {
   "cell_type": "code",
   "execution_count": null,
   "metadata": {
    "ExecuteTime": {
     "end_time": "2019-02-23T03:56:35.498319Z",
     "start_time": "2019-02-23T03:56:35.429311Z"
    }
   },
   "outputs": [],
   "source": [
    "mat = c.matrix(balance=False, sparse=True)[1000:1200, 1000:1200]\n",
    "mat"
   ]
  },
  {
   "cell_type": "markdown",
   "metadata": {},
   "source": [
    "It is straightforward to convert to a dense 2D numpy array."
   ]
  },
  {
   "cell_type": "code",
   "execution_count": null,
   "metadata": {
    "ExecuteTime": {
     "end_time": "2019-02-23T03:56:35.507150Z",
     "start_time": "2019-02-23T03:56:35.501080Z"
    }
   },
   "outputs": [],
   "source": [
    "arr = mat.toarray()\n",
    "arr"
   ]
  },
  {
   "cell_type": "markdown",
   "metadata": {},
   "source": [
    "Notice that the lower triangle has been automatically filled in."
   ]
  },
  {
   "cell_type": "code",
   "execution_count": null,
   "metadata": {
    "ExecuteTime": {
     "end_time": "2019-02-23T03:56:35.766818Z",
     "start_time": "2019-02-23T03:56:35.508932Z"
    }
   },
   "outputs": [],
   "source": [
    "fig = plt.figure(figsize=(10, 10))\n",
    "ax = fig.add_subplot(111)\n",
    "im = ax.matshow(np.log10(arr), cmap='YlOrRd')\n",
    "fig.colorbar(im)"
   ]
  },
  {
   "cell_type": "markdown",
   "metadata": {},
   "source": [
    "Notice the light and dark \"banded\" appearance? That's because you are looking at the unnormalized counts."
   ]
  },
  {
   "cell_type": "markdown",
   "metadata": {},
   "source": [
    "### Balancing your selection"
   ]
  },
  {
   "cell_type": "markdown",
   "metadata": {},
   "source": [
    "We usually normalize or \"correct\" Hi-C using a technique called matrix balancing. This involves finding a set of weights or biases $b_i$ for each bin $i$ such that\n",
    "\n",
    "$$ Normalized[i,j] = Observed[i,j] \\cdot b[i] \\cdot b[j], $$\n",
    "\n",
    "such that the marginals (i.e., row/column sums) of the global contact matrix are flat and equal.\n",
    "\n",
    "Cooler can store the pre-computed balancing weights in the bin table.\n",
    "\n",
    "Here's one way to manually apply them to balance your selection."
   ]
  },
  {
   "cell_type": "code",
   "execution_count": null,
   "metadata": {
    "ExecuteTime": {
     "end_time": "2019-02-23T03:56:35.832046Z",
     "start_time": "2019-02-23T03:56:35.768525Z"
    }
   },
   "outputs": [],
   "source": [
    "# get the balancing weights as a numpy array\n",
    "weights = c.bins()['weight']  # view\n",
    "bias = weights[1000:1200]     # series\n",
    "bias = bias.values            # array\n",
    "\n",
    "# fetch a sparse matrix\n",
    "mat = c.matrix(balance=False, sparse=True)[1000:1200, 1000:1200]\n",
    "\n",
    "# apply the balancing weights\n",
    "mat.data = bias[mat.row] * bias[mat.col] * mat.data\n",
    "\n",
    "# convert to dense numpy array\n",
    "arr = mat.toarray()"
   ]
  },
  {
   "cell_type": "markdown",
   "metadata": {},
   "source": [
    "As a shortcut, we get the same result by passing **`balance=True`** to the matrix view constructor."
   ]
  },
  {
   "cell_type": "code",
   "execution_count": null,
   "metadata": {
    "ExecuteTime": {
     "end_time": "2019-02-23T03:56:35.897836Z",
     "start_time": "2019-02-23T03:56:35.834778Z"
    }
   },
   "outputs": [],
   "source": [
    "arr2 = c.matrix(balance=True, sparse=True)[1000:1200, 1000:1200].toarray()\n",
    "np.allclose(arr, arr2, equal_nan=True)"
   ]
  },
  {
   "cell_type": "code",
   "execution_count": null,
   "metadata": {
    "ExecuteTime": {
     "end_time": "2019-02-23T03:56:36.201550Z",
     "start_time": "2019-02-23T03:56:35.900713Z"
    }
   },
   "outputs": [],
   "source": [
    "fig = plt.figure(figsize=(10, 10))\n",
    "ax = fig.add_subplot(111)\n",
    "im = ax.matshow(np.log10(arr), cmap='YlOrRd')\n",
    "fig.colorbar(im)"
   ]
  },
  {
   "cell_type": "markdown",
   "metadata": {},
   "source": [
    "### Genomic coordinate range selection"
   ]
  },
  {
   "cell_type": "markdown",
   "metadata": {},
   "source": [
    "The bin table, pixel table and matrix views also accept UCSC-style genomic range strings or (chrom, start, end) triples."
   ]
  },
  {
   "cell_type": "code",
   "execution_count": null,
   "metadata": {
    "ExecuteTime": {
     "end_time": "2019-02-23T03:56:36.235989Z",
     "start_time": "2019-02-23T03:56:36.203370Z"
    }
   },
   "outputs": [],
   "source": [
    "c.bins().fetch('chr2:10,000,000-20,000,000')"
   ]
  },
  {
   "cell_type": "code",
   "execution_count": null,
   "metadata": {
    "ExecuteTime": {
     "end_time": "2019-02-23T03:56:37.283093Z",
     "start_time": "2019-02-23T03:56:36.238065Z"
    }
   },
   "outputs": [],
   "source": [
    "cis = c.matrix(sparse=True).fetch('chr21')\n",
    "cis.shape"
   ]
  },
  {
   "cell_type": "code",
   "execution_count": null,
   "metadata": {
    "ExecuteTime": {
     "end_time": "2019-02-23T03:56:37.780037Z",
     "start_time": "2019-02-23T03:56:37.288576Z"
    }
   },
   "outputs": [],
   "source": [
    "trans = c.matrix(sparse=True).fetch('chr21', 'chr22')\n",
    "trans.shape"
   ]
  },
  {
   "cell_type": "code",
   "execution_count": null,
   "metadata": {},
   "outputs": [],
   "source": []
  },
  {
   "cell_type": "code",
   "execution_count": null,
   "metadata": {},
   "outputs": [],
   "source": []
  }
 ],
 "metadata": {
  "kernelspec": {
   "display_name": "Python 3",
   "language": "python",
   "name": "python3"
  },
  "language_info": {
   "codemirror_mode": {
    "name": "ipython",
    "version": 3
   },
   "file_extension": ".py",
   "mimetype": "text/x-python",
   "name": "python",
   "nbconvert_exporter": "python",
   "pygments_lexer": "ipython3",
   "version": "3.7.3"
  },
  "toc": {
   "base_numbering": 1,
   "nav_menu": {},
   "number_sections": true,
   "sideBar": true,
   "skip_h1_title": false,
   "title_cell": "Table of Contents",
   "title_sidebar": "Contents",
   "toc_cell": true,
   "toc_position": {},
   "toc_section_display": "block",
   "toc_window_display": true
  }
 },
 "nbformat": 4,
 "nbformat_minor": 2
}
