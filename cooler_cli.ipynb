{
 "cells": [
  {
   "cell_type": "markdown",
   "metadata": {
    "toc": "true"
   },
   "source": [
    "<h1>Table of Contents<span class=\"tocSkip\"></span></h1>\n",
    "<div class=\"toc\"><ul class=\"toc-item\"><li><span><a href=\"#Cooler-command-line-interface\" data-toc-modified-id=\"Cooler-command-line-interface-1\"><span class=\"toc-item-num\">1&nbsp;&nbsp;</span>Cooler command line interface</a></span><ul class=\"toc-item\"><li><span><a href=\"#Example\" data-toc-modified-id=\"Example-1.1\"><span class=\"toc-item-num\">1.1&nbsp;&nbsp;</span>Example</a></span></li><li><span><a href=\"#Aggregate-a-list-of-read-pairs-into-a-cool-file\" data-toc-modified-id=\"Aggregate-a-list-of-read-pairs-into-a-cool-file-1.2\"><span class=\"toc-item-num\">1.2&nbsp;&nbsp;</span>Aggregate a list of read pairs into a <code>cool</code> file</a></span></li><li><span><a href=\"#Text-export\" data-toc-modified-id=\"Text-export-1.3\"><span class=\"toc-item-num\">1.3&nbsp;&nbsp;</span>Text export</a></span></li><li><span><a href=\"#Balancing\" data-toc-modified-id=\"Balancing-1.4\"><span class=\"toc-item-num\">1.4&nbsp;&nbsp;</span>Balancing</a></span></li><li><span><a href=\"#Display-the-contact-matrix\" data-toc-modified-id=\"Display-the-contact-matrix-1.5\"><span class=\"toc-item-num\">1.5&nbsp;&nbsp;</span>Display the contact matrix</a></span></li><li><span><a href=\"#Optional:-Load-a-pairs-file-indexed-with-Pairix\" data-toc-modified-id=\"Optional:-Load-a-pairs-file-indexed-with-Pairix-1.6\"><span class=\"toc-item-num\">1.6&nbsp;&nbsp;</span>Optional: Load a pairs file indexed with <a href=\"https://github.com/4dn-dcic/pairix\" target=\"_blank\">Pairix</a></a></span></li></ul></li></ul></div>"
   ]
  },
  {
   "cell_type": "markdown",
   "metadata": {},
   "source": [
    "Notes:\n",
    "\n",
    "To simulate shell scripts and terminal interaction, we preface every code cell with the \"cell magic\": `%%bash`, which sends the code to bash instead of the Python interpreter. Another way to send code from IPython to the shell is to prefix a line with shell escape `!`."
   ]
  },
  {
   "cell_type": "markdown",
   "metadata": {},
   "source": [
    "# Cooler command line interface"
   ]
  },
  {
   "cell_type": "markdown",
   "metadata": {},
   "source": [
    "If you type `cooler` at the command line with no arguments or with `-h` or `--help` you'll get the following quick reference of available subcommands."
   ]
  },
  {
   "cell_type": "code",
   "execution_count": 1,
   "metadata": {
    "ExecuteTime": {
     "end_time": "2019-02-23T03:02:31.414309Z",
     "start_time": "2019-02-23T03:02:31.016285Z"
    }
   },
   "outputs": [
    {
     "name": "stdout",
     "output_type": "stream",
     "text": [
      "Usage: cooler [OPTIONS] COMMAND [ARGS]...\n",
      "\n",
      "  Type -h or --help after any subcommand for more information.\n",
      "\n",
      "Options:\n",
      "  -v, --verbose  Verbose logging.\n",
      "  -d, --debug    On error, drop into the post-mortem debugger shell.\n",
      "  -V, --version  Show the version and exit.\n",
      "  -h, --help     Show this message and exit.\n",
      "\n",
      "Commands:\n",
      "  cload     Create a cooler from genomic pairs and bins.\n",
      "  load      Create a cooler from a pre-binned matrix.\n",
      "  merge     Merge multiple coolers with identical axes.\n",
      "  coarsen   Coarsen a cooler to a lower resolution.\n",
      "  zoomify   Generate a multi-resolution cooler file by coarsening.\n",
      "  balance   Out-of-core matrix balancing.\n",
      "  info      Display a cooler's info and metadata.\n",
      "  dump      Dump a cooler's data to a text stream.\n",
      "  show      Display and browse a cooler in matplotlib.\n",
      "  makebins  Generate fixed-width genomic bins.\n",
      "  digest    Generate fragment-delimited genomic bins.\n",
      "  csort     Sort and index a contact list.\n",
      "  ls        List all coolers inside a file.\n",
      "  cp        Copy a cooler from one file to another or within the same file.\n",
      "  ln        Create a hard link to a cooler (rather than a true copy) in the...\n",
      "  mv        Rename a cooler within the same file.\n",
      "  tree      Display a file's data hierarchy.\n",
      "  attrs     Display a file's attribute hierarchy.\n"
     ]
    }
   ],
   "source": [
    "%%bash\n",
    "\n",
    "cooler -h"
   ]
  },
  {
   "cell_type": "markdown",
   "metadata": {},
   "source": [
    "For more information about a specific subcommand, type `cooler <subcommand> -h` to display the help text."
   ]
  },
  {
   "cell_type": "code",
   "execution_count": 2,
   "metadata": {
    "ExecuteTime": {
     "end_time": "2019-02-23T03:02:31.828924Z",
     "start_time": "2019-02-23T03:02:31.416784Z"
    }
   },
   "outputs": [
    {
     "name": "stdout",
     "output_type": "stream",
     "text": [
      "Usage: cooler info [OPTIONS] COOL_PATH\n",
      "\n",
      "  Display a cooler's info and metadata.\n",
      "\n",
      "  COOL_PATH : Path to a COOL file or cooler URI.\n",
      "\n",
      "Options:\n",
      "  -f, --field TEXT  Print the value of a specific info field.\n",
      "  -m, --metadata    Print the user metadata in JSON format.\n",
      "  -o, --out TEXT    Output file (defaults to stdout)\n",
      "  -h, --help        Show this message and exit.\n"
     ]
    }
   ],
   "source": [
    "%%bash\n",
    "\n",
    "cooler info -h"
   ]
  },
  {
   "cell_type": "markdown",
   "metadata": {},
   "source": [
    "## Example"
   ]
  },
  {
   "cell_type": "markdown",
   "metadata": {},
   "source": [
    "Let's try it."
   ]
  },
  {
   "cell_type": "code",
   "execution_count": 3,
   "metadata": {
    "ExecuteTime": {
     "end_time": "2019-02-23T03:02:32.241239Z",
     "start_time": "2019-02-23T03:02:31.831036Z"
    },
    "scrolled": true
   },
   "outputs": [
    {
     "name": "stdout",
     "output_type": "stream",
     "text": [
      "{\n",
      "    \"bin-size\": 1000000,\n",
      "    \"bin-type\": \"fixed\",\n",
      "    \"creation-date\": \"2016-02-25T21:05:29.075865\",\n",
      "    \"format-url\": \"https://github.com/mirnylab/cooler\",\n",
      "    \"format-version\": 2,\n",
      "    \"genome-assembly\": \"hg19\",\n",
      "    \"id\": null,\n",
      "    \"library-version\": \"0.3.0\",\n",
      "    \"nbins\": 3114,\n",
      "    \"nchroms\": 25,\n",
      "    \"nnz\": 4150156\n",
      "}\n"
     ]
    }
   ],
   "source": [
    "%%bash\n",
    "\n",
    "cooler info data/Rao2014-GM12878-MboI-allreps-filtered.1000kb.cool"
   ]
  },
  {
   "cell_type": "code",
   "execution_count": 4,
   "metadata": {
    "ExecuteTime": {
     "end_time": "2019-02-23T03:02:32.642379Z",
     "start_time": "2019-02-23T03:02:32.244898Z"
    }
   },
   "outputs": [
    {
     "name": "stdout",
     "output_type": "stream",
     "text": [
      "1000000\n"
     ]
    }
   ],
   "source": [
    "%%bash\n",
    "\n",
    "cooler info -f bin-size data/Rao2014-GM12878-MboI-allreps-filtered.1000kb.cool"
   ]
  },
  {
   "cell_type": "code",
   "execution_count": 5,
   "metadata": {
    "ExecuteTime": {
     "end_time": "2019-02-23T03:02:33.054532Z",
     "start_time": "2019-02-23T03:02:32.644767Z"
    }
   },
   "outputs": [
    {
     "name": "stdout",
     "output_type": "stream",
     "text": [
      "{\n",
      "    \"publication\": \"\",\n",
      "    \"QC\": {\n",
      "        \"double-sided\": {\n",
      "            \"total\": 3390352656,\n",
      "            \"valid\": 3147639590,\n",
      "            \"filtered-invalid\": {\n",
      "                \"removed-self-circles\": 1741768,\n",
      "                \"removed-error-pair\": 6074295,\n",
      "                \"removed-dangling-ends\": 234897003\n",
      "            },\n",
      "            \"filtered-valid\": {\n",
      "                \"removed-duplicate\": 110650005,\n",
      "                \"removed-start-near-rsite\": \"\",\n",
      "                \"removed-outlier-fragment\": 151337031,\n",
      "                \"removed-large-small-pair\": 657466\n",
      "            }\n",
      "        },\n",
      "        \"pre-filtering\": {\n",
      "            \"total\": 5332721651,\n",
      "            \"double-sided\": 3390352656,\n",
      "            \"unused\": 0,\n",
      "            \"single-sided\": 1942368995\n",
      "        },\n",
      "        \"post-filtering\": {\n",
      "            \"total\": 2884995088,\n",
      "            \"cis\": 2085711027,\n",
      "            \"trans\": 799284061\n",
      "        }\n",
      "    },\n",
      "    \"enzyme\": \"MboI\",\n",
      "    \"cell-type\": \"GM12878\",\n",
      "    \"species\": \"Homo sapiens\",\n",
      "    \"sex\": \"F\"\n",
      "}\n"
     ]
    }
   ],
   "source": [
    "%%bash\n",
    "\n",
    "cooler info -m data/Rao2014-GM12878-MboI-allreps-filtered.1000kb.cool"
   ]
  },
  {
   "cell_type": "markdown",
   "metadata": {},
   "source": [
    "For more in-depth introspection into the HDF5 file structure, you can use `cooler tree` to display the group and array hierarchy and `cooler attrs` to display all attributes in the hierarchy. As a bonus, these commands work on any HDF5 file!"
   ]
  },
  {
   "cell_type": "code",
   "execution_count": 6,
   "metadata": {},
   "outputs": [
    {
     "name": "stdout",
     "output_type": "stream",
     "text": [
      "/\n",
      " ├── bins\n",
      " │   ├── chrom (3114,) int32\n",
      " │   ├── end (3114,) int64\n",
      " │   ├── start (3114,) int64\n",
      " │   └── weight (3114,) float64\n",
      " ├── chroms\n",
      " │   ├── length (25,) int64\n",
      " │   └── name (25,) |S32\n",
      " ├── indexes\n",
      " │   ├── bin1_offset (3115,) int32\n",
      " │   └── chrom_offset (26,) int32\n",
      " └── pixels\n",
      "     ├── bin1_id (4150156,) int64\n",
      "     ├── bin2_id (4150156,) int64\n",
      "     └── count (4150156,) int64\n"
     ]
    }
   ],
   "source": [
    "%%bash\n",
    "\n",
    "cooler tree data/Rao2014-GM12878-MboI-allreps-filtered.1000kb.cool"
   ]
  },
  {
   "cell_type": "code",
   "execution_count": 7,
   "metadata": {},
   "outputs": [
    {
     "name": "stdout",
     "output_type": "stream",
     "text": [
      "'@attrs':\n",
      "  bin-size: 1000000\n",
      "  bin-type: fixed\n",
      "  creation-date: 2016-02-25 21:05:29.075865\n",
      "  format-url: https://github.com/mirnylab/cooler\n",
      "  format-version: 2\n",
      "  genome-assembly: hg19\n",
      "  id: null\n",
      "  library-version: 0.3.0\n",
      "  metadata:\n",
      "    QC:\n",
      "      double-sided:\n",
      "        filtered-invalid:\n",
      "          removed-dangling-ends: 234897003\n",
      "          removed-error-pair: 6074295\n",
      "          removed-self-circles: 1741768\n",
      "        filtered-valid:\n",
      "          removed-duplicate: 110650005\n",
      "          removed-large-small-pair: 657466\n",
      "          removed-outlier-fragment: 151337031\n",
      "          removed-start-near-rsite: ''\n",
      "        total: 3390352656\n",
      "        valid: 3147639590\n",
      "      post-filtering:\n",
      "        cis: 2085711027\n",
      "        total: 2884995088\n",
      "        trans: 799284061\n",
      "      pre-filtering:\n",
      "        double-sided: 3390352656\n",
      "        single-sided: 1942368995\n",
      "        total: 5332721651\n",
      "        unused: 0\n",
      "    cell-type: GM12878\n",
      "    enzyme: MboI\n",
      "    publication: ''\n",
      "    sex: F\n",
      "    species: Homo sapiens\n",
      "  nbins: 3114\n",
      "  nchroms: 25\n",
      "  nnz: 4150156\n",
      "bins:\n",
      "  '@attrs': {}\n",
      "  chrom:\n",
      "    '@attrs': {}\n",
      "  end:\n",
      "    '@attrs': {}\n",
      "  start:\n",
      "    '@attrs': {}\n",
      "  weight:\n",
      "    '@attrs': {}\n",
      "chroms:\n",
      "  '@attrs': {}\n",
      "  length:\n",
      "    '@attrs': {}\n",
      "  name:\n",
      "    '@attrs': {}\n",
      "indexes:\n",
      "  '@attrs': {}\n",
      "  bin1_offset:\n",
      "    '@attrs': {}\n",
      "  chrom_offset:\n",
      "    '@attrs': {}\n",
      "pixels:\n",
      "  '@attrs': {}\n",
      "  bin1_id:\n",
      "    '@attrs': {}\n",
      "  bin2_id:\n",
      "    '@attrs': {}\n",
      "  count:\n",
      "    '@attrs': {}\n",
      "\n"
     ]
    }
   ],
   "source": [
    "%%bash\n",
    "\n",
    "cooler attrs data/Rao2014-GM12878-MboI-allreps-filtered.1000kb.cool"
   ]
  },
  {
   "cell_type": "markdown",
   "metadata": {
    "ExecuteTime": {
     "end_time": "2016-08-24T22:00:32.279108",
     "start_time": "2016-08-24T22:00:32.276211"
    }
   },
   "source": [
    "## Aggregate a list of read pairs into a `cool` file"
   ]
  },
  {
   "cell_type": "markdown",
   "metadata": {},
   "source": [
    "To make a contact matrix, we need\n",
    "\n",
    "1. A list of read pairs representing captured contacts.\n",
    "2. A segmentation of the genome into bins by which we aggregate (bin) the read pair counts.\n",
    "\n",
    "For(1), we will start with a very small subsample of 100,000 read pairs from GSM1551552 (Rao et al, GM12878). The fields of the file are readID, strand1, chrom1, pos1, frag1, strand2, chrom2, pos2, frag2, mapq1, mapq2."
   ]
  },
  {
   "cell_type": "code",
   "execution_count": 8,
   "metadata": {
    "ExecuteTime": {
     "end_time": "2019-02-23T03:02:33.071172Z",
     "start_time": "2019-02-23T03:02:33.056888Z"
    }
   },
   "outputs": [
    {
     "name": "stdout",
     "output_type": "stream",
     "text": [
      "D260LACXX130602:2:2315:7361:72358 0 1 85378 186 16 1 591085 1097 0 0\n",
      "D258GACXX130605:8:2316:2958:10584 0 1 728403 1418 16 1 719104 1406 20 10\n",
      "C24LCACXX130513:8:2315:5697:82732 0 1 758309 1523 0 1 43498676 121266 68 120\n",
      "D260LACXX130602:2:2202:16754:100485 16 1 890311 1801 16 1 993887 2056 165 18\n",
      "D260LACXX130602:2:2309:8547:48542 0 1 925938 1866 16 1 1034493 2117 178 60\n",
      "C24LCACXX130513:8:2312:14225:27548 0 1 941657 1904 0 1 1620964 3551 178 0\n",
      "D258GACXX130605:8:2308:5276:50416 0 1 992230 2049 0 1 1255504 2556 175 178\n",
      "C24LCACXX130513:8:1308:7340:36704 0 1 1070613 2191 16 1 1070941 2193 153 40\n",
      "C24LCACXX130513:8:2104:5074:54778 16 1 1137145 2329 16 1 201625081 455535 144 178\n",
      "C24LCACXX130513:8:1302:14464:56521 0 1 1170252 2381 16 1 1353433 2788 178 22\n"
     ]
    }
   ],
   "source": [
    "%%bash\n",
    "\n",
    "zcat data/GSM1551552_HIC003_merged_nodups.txt.subset.gz | head"
   ]
  },
  {
   "cell_type": "markdown",
   "metadata": {},
   "source": [
    "This data was mapped to the Broad's `b37` assembly and uses ENSEMBL-style chromosome names (`1..22`, `X`, `Y`, `MT`) instead of the UCSC-style (`chr1..chr22`, `chrX`, `chrY`, `chrM`).\n",
    "\n",
    "We provide a chromosome sizes file with the chromosomes we want to use in a desired order. Make sure the name style of the chromsizes file matches the name style of the pairs file! The following is the `b37` chromosome sizes file with chromosomes in a \"natural\" semantic order, leaving out the unlocalized and unplaced scaffolds."
   ]
  },
  {
   "cell_type": "code",
   "execution_count": 9,
   "metadata": {
    "ExecuteTime": {
     "end_time": "2019-02-23T03:02:33.086128Z",
     "start_time": "2019-02-23T03:02:33.073164Z"
    }
   },
   "outputs": [
    {
     "name": "stdout",
     "output_type": "stream",
     "text": [
      "1\t249250621\n",
      "2\t243199373\n",
      "3\t198022430\n",
      "4\t191154276\n",
      "5\t180915260\n",
      "6\t171115067\n",
      "7\t159138663\n",
      "8\t146364022\n",
      "9\t141213431\n",
      "10\t135534747\n",
      "11\t135006516\n",
      "12\t133851895\n",
      "13\t115169878\n",
      "14\t107349540\n",
      "15\t102531392\n",
      "16\t90354753\n",
      "17\t81195210\n",
      "18\t78077248\n",
      "19\t59128983\n",
      "20\t63025520\n",
      "21\t48129895\n",
      "22\t51304566\n",
      "X\t155270560\n",
      "Y\t59373566\n",
      "MT\t16569\n"
     ]
    }
   ],
   "source": [
    "%%bash\n",
    "\n",
    "cat data/b37.chrom.sizes"
   ]
  },
  {
   "cell_type": "markdown",
   "metadata": {},
   "source": [
    "We also need to decide how we want to bin the contacts. Usually, we choose a fixed bin size or \"resolution\". Another option for Hi-C data is to use restriction fragment-delimited genomic bins based on the restriction enzyme used in the experiment. `cooler` allows for any binning scheme you like, as long as you provide it as a **bin table**. We can store a bin table in a simple BED file using the `makebins` command."
   ]
  },
  {
   "cell_type": "code",
   "execution_count": 10,
   "metadata": {
    "ExecuteTime": {
     "end_time": "2019-02-23T03:02:33.486936Z",
     "start_time": "2019-02-23T03:02:33.089220Z"
    }
   },
   "outputs": [
    {
     "name": "stdout",
     "output_type": "stream",
     "text": [
      "Usage: cooler makebins [OPTIONS] CHROMSIZES_PATH BINSIZE\n",
      "\n",
      "  Generate fixed-width genomic bins.\n",
      "\n",
      "  Output a genome segmentation at a fixed resolution as a BED file.\n",
      "\n",
      "  CHROMSIZES_PATH : UCSC-like chromsizes file, with chromosomes in desired\n",
      "  order.\n",
      "\n",
      "  BINSIZE : Resolution (bin size) in base pairs <int>.\n",
      "\n",
      "Options:\n",
      "  -o, --out TEXT       Output file (defaults to stdout)\n",
      "  -H, --header         Print the header of column names as the first row.\n",
      "                       [default: False]\n",
      "  -i, --rel-ids [0|1]  Include a column of relative bin IDs for each\n",
      "                       chromosome. Choose whether to report them as 0- or\n",
      "                       1-based.\n",
      "  -h, --help           Show this message and exit.\n"
     ]
    }
   ],
   "source": [
    "%%bash\n",
    "\n",
    "cooler makebins -h"
   ]
  },
  {
   "cell_type": "markdown",
   "metadata": {},
   "source": [
    "If you have the FASTA sequence of the reference genome, you can also \"digest\" it to create a bin table of fragments."
   ]
  },
  {
   "cell_type": "code",
   "execution_count": 11,
   "metadata": {
    "ExecuteTime": {
     "end_time": "2019-02-23T03:02:33.879400Z",
     "start_time": "2019-02-23T03:02:33.489499Z"
    }
   },
   "outputs": [
    {
     "name": "stdout",
     "output_type": "stream",
     "text": [
      "Usage: cooler digest [OPTIONS] CHROMSIZES_PATH FASTA_PATH ENZYME\n",
      "\n",
      "  Generate fragment-delimited genomic bins.\n",
      "\n",
      "  Output a genome segmentation of restriction fragments as a BED file.\n",
      "\n",
      "  CHROMSIZES_PATH : UCSC-like chromsizes file, with chromosomes in desired\n",
      "  order.\n",
      "\n",
      "  FASTA_PATH : Genome assembly FASTA file or folder containing FASTA files\n",
      "  (uncompressed).\n",
      "\n",
      "  ENZYME : Name of restriction enzyme\n",
      "\n",
      "Options:\n",
      "  -o, --out TEXT       Output file (defaults to stdout)\n",
      "  -H, --header         Print the header of column names as the first row.\n",
      "                       [default: False]\n",
      "  -i, --rel-ids [0|1]  Include a column of relative bin IDs for each\n",
      "                       chromosome. Choose whether to report them as 0- or\n",
      "                       1-based.\n",
      "  -h, --help           Show this message and exit.\n"
     ]
    }
   ],
   "source": [
    "%%bash\n",
    "\n",
    "cooler digest -h"
   ]
  },
  {
   "cell_type": "code",
   "execution_count": 12,
   "metadata": {
    "ExecuteTime": {
     "end_time": "2019-02-23T03:02:34.295687Z",
     "start_time": "2019-02-23T03:02:33.881416Z"
    }
   },
   "outputs": [
    {
     "name": "stdout",
     "output_type": "stream",
     "text": [
      "1\t0\t1000000\n",
      "1\t1000000\t2000000\n",
      "1\t2000000\t3000000\n",
      "1\t3000000\t4000000\n",
      "1\t4000000\t5000000\n",
      "1\t5000000\t6000000\n",
      "1\t6000000\t7000000\n",
      "1\t7000000\t8000000\n",
      "1\t8000000\t9000000\n",
      "1\t9000000\t10000000\n"
     ]
    }
   ],
   "source": [
    "%%bash\n",
    "\n",
    "CHROMSIZES_FILE='data/b37.chrom.sizes'\n",
    "\n",
    "cooler makebins --out \"data/bins.1000kb.bed\" $CHROMSIZES_FILE 1000000\n",
    "\n",
    "# what's in the file?\n",
    "head \"data/bins.1000kb.bed\""
   ]
  },
  {
   "cell_type": "markdown",
   "metadata": {},
   "source": [
    "### Note\n",
    "\n",
    "There is a convenient syntax to specify a fixed-resolution bin table, so you rarely need to generate one manually: \n",
    "\n",
    "```\n",
    "<chromsizes_path>:<binsize-in-bp>\n",
    "```\n",
    "\n",
    "e.g. The bin table above can be specified as `data/b37.chrom.sizes.reduced:1000000`."
   ]
  },
  {
   "cell_type": "code",
   "execution_count": 13,
   "metadata": {
    "ExecuteTime": {
     "end_time": "2019-02-23T03:02:34.693618Z",
     "start_time": "2019-02-23T03:02:34.297956Z"
    }
   },
   "outputs": [
    {
     "name": "stdout",
     "output_type": "stream",
     "text": [
      "Usage: cooler cload pairs [OPTIONS] BINS PAIRS_PATH COOL_PATH\n",
      "\n",
      "  Bin any text file or stream of pairs.\n",
      "\n",
      "  Pairs data need not be sorted. Accepts compressed files. To pipe input\n",
      "  from stdin, set PAIRS_PATH to '-'.\n",
      "\n",
      "  BINS : One of the following\n",
      "\n",
      "      <TEXT:INTEGER> : 1. Path to a chromsizes file, 2. Bin size in bp\n",
      "\n",
      "      <TEXT> : Path to BED file defining the genomic bin segmentation.\n",
      "\n",
      "  PAIRS_PATH : Path to contacts (i.e. read pairs) file.\n",
      "\n",
      "  COOL_PATH : Output COOL file path or URI.\n",
      "\n",
      "Options:\n",
      "  --metadata TEXT                 Path to JSON file containing user metadata.\n",
      "  --assembly TEXT                 Name of genome assembly (e.g. hg19, mm10)\n",
      "  -c1, --chrom1 INTEGER           chrom1 field number (one-based)  [required]\n",
      "  -p1, --pos1 INTEGER             pos1 field number (one-based)  [required]\n",
      "  -c2, --chrom2 INTEGER           chrom2 field number (one-based)  [required]\n",
      "  -p2, --pos2 INTEGER             pos2 field number (one-based)  [required]\n",
      "  --chunksize INTEGER             Number of input lines to load at a time\n",
      "  -0, --zero-based                Positions are zero-based  [default: False]\n",
      "  --comment-char TEXT             Comment character that indicates lines to\n",
      "                                  ignore.  [default: #]\n",
      "  -N, --no-symmetric-upper        Create a complete square matrix without\n",
      "                                  implicit symmetry. This allows for distinct\n",
      "                                  upper- and lower-triangle values\n",
      "  --input-copy-status [unique|duplex]\n",
      "                                  Copy status of input data when using\n",
      "                                  symmetric-upper storage. | `unique`:\n",
      "                                  Incoming data comes from a unique half of a\n",
      "                                  symmetric map, regardless of how the\n",
      "                                  coordinates of a pair are ordered. `duplex`:\n",
      "                                  Incoming data contains upper- and lower-\n",
      "                                  triangle duplicates. All input records that\n",
      "                                  map to the lower triangle will be discarded!\n",
      "                                  | If you wish to treat lower- and upper-\n",
      "                                  triangle input data as distinct, use the\n",
      "                                  ``--no-symmetric-upper`` option.   [default:\n",
      "                                  unique]\n",
      "  --field TEXT                    Specify quantitative input fields to\n",
      "                                  aggregate into value columns using the\n",
      "                                  syntax ``--field <field-name>=<field-\n",
      "                                  number>``. Optionally, append ``:`` followed\n",
      "                                  by ``dtype=<dtype>`` to specify the data\n",
      "                                  type (e.g. float), and/or ``agg=<agg>`` to\n",
      "                                  specify an aggregation function different\n",
      "                                  from sum (e.g. mean). Field numbers are\n",
      "                                  1-based. Passing 'count' as the target name\n",
      "                                  will override the default behavior of\n",
      "                                  storing pair counts. Repeat the ``--field``\n",
      "                                  option for each additional field.\n",
      "  --temp-dir DIRECTORY            Create temporary files in a specified\n",
      "                                  directory. Pass ``-`` to use the platform\n",
      "                                  default temp dir.\n",
      "  --no-delete-temp                Do not delete temporary files when finished.\n",
      "  --max-merge INTEGER             Maximum number of chunks to merge before\n",
      "                                  invoking recursive merging  [default: 200]\n",
      "  --storage-options TEXT          Options to modify the data filter pipeline.\n",
      "                                  Provide as a comma-separated list of key-\n",
      "                                  value pairs of the form 'k1=v1,k2=v2,...'.\n",
      "                                  See http://docs.h5py.org/en/stable/high/data\n",
      "                                  set.html#filter-pipeline for more details.\n",
      "  -h, --help                      Show this message and exit.\n"
     ]
    }
   ],
   "source": [
    "%%bash\n",
    "\n",
    "cooler cload pairs -h"
   ]
  },
  {
   "cell_type": "code",
   "execution_count": 14,
   "metadata": {
    "ExecuteTime": {
     "end_time": "2019-02-23T03:02:35.597758Z",
     "start_time": "2019-02-23T03:02:34.696055Z"
    }
   },
   "outputs": [
    {
     "name": "stderr",
     "output_type": "stream",
     "text": [
      "INFO:cooler.create:Writing chunk 0: /home/nezar/local/devel/cooler-binder/data/tmp32q3ijrr.multi.cool::0\n",
      "WARNING:py.warnings:/home/nezar/miniconda3/lib/python3.7/site-packages/dask/dataframe/utils.py:15: FutureWarning: pandas.util.testing is deprecated. Use the functions in the public API at pandas.testing instead.\n",
      "  import pandas.util.testing as tm\n",
      "\n",
      "INFO:cooler.create:Creating cooler at \"/home/nezar/local/devel/cooler-binder/data/tmp32q3ijrr.multi.cool::/0\"\n",
      "INFO:cooler.create:Writing chroms\n",
      "INFO:cooler.create:Writing bins\n",
      "INFO:cooler.create:Writing pixels\n",
      "INFO:cooler.create:Writing indexes\n",
      "INFO:cooler.create:Writing info\n",
      "INFO:cooler.create:Done\n",
      "INFO:cooler.create:Merging into data/test.cool\n",
      "INFO:cooler.create:Creating cooler at \"data/test.cool::/\"\n",
      "INFO:cooler.create:Writing chroms\n",
      "INFO:cooler.create:Writing bins\n",
      "INFO:cooler.create:Writing pixels\n",
      "INFO:cooler.reduce:nnzs: [46598]\n",
      "INFO:cooler.reduce:current: [46598]\n",
      "INFO:cooler.create:Writing indexes\n",
      "INFO:cooler.create:Writing info\n",
      "INFO:cooler.create:Done\n"
     ]
    }
   ],
   "source": [
    "%%bash\n",
    "# Note that the input pairs file happens to be space-delimited, so we convert to tab-delimited with `tr`.\n",
    "CHROMSIZES_FILE='data/b37.chrom.sizes'\n",
    "BINSIZE=1000000\n",
    "PAIRS_FILE='data/GSM1551552_HIC003_merged_nodups.txt.subset.gz'\n",
    "OUTPUT_FILE='data/test.cool'\n",
    "\n",
    "zcat $PAIRS_FILE \\\n",
    "    | tr ' ' '\\t' \\\n",
    "    | cooler cload pairs -c1 3 -p1 4 -c2 7 -p2 8 $CHROMSIZES_FILE:$BINSIZE - $OUTPUT_FILE "
   ]
  },
  {
   "cell_type": "markdown",
   "metadata": {},
   "source": [
    "There are benefits to sorting and indexing pairs. See below."
   ]
  },
  {
   "cell_type": "markdown",
   "metadata": {},
   "source": [
    "## Text export"
   ]
  },
  {
   "cell_type": "markdown",
   "metadata": {},
   "source": [
    "The `cooler dump` command lets us print the data back out as text with several formatting and annotation options. It also accepts range queries, both intra- and inter-chromosomal."
   ]
  },
  {
   "cell_type": "code",
   "execution_count": 15,
   "metadata": {
    "ExecuteTime": {
     "end_time": "2019-02-23T03:02:35.998164Z",
     "start_time": "2019-02-23T03:02:35.600122Z"
    }
   },
   "outputs": [
    {
     "name": "stdout",
     "output_type": "stream",
     "text": [
      "Usage: cooler dump [OPTIONS] COOL_PATH\n",
      "\n",
      "  Dump a cooler's data to a text stream.\n",
      "\n",
      "  COOL_PATH : Path to COOL file or cooler URI.\n",
      "\n",
      "Options:\n",
      "  -t, --table [chroms|bins|pixels]\n",
      "                                  Which table to dump. Choosing 'chroms' or\n",
      "                                  'bins' will cause all pixel-related options\n",
      "                                  to be ignored. Note that for coolers stored\n",
      "                                  in symmetric-upper mode, 'pixels' only holds\n",
      "                                  the upper triangle values of the matrix.\n",
      "                                  [default: pixels]\n",
      "  -c, --columns SEPARATED[,]      Restrict output to a subset of columns,\n",
      "                                  provided as a comma-separated list.\n",
      "  -H, --header                    Print the header of column names as the\n",
      "                                  first row.  [default: False]\n",
      "  --na-rep TEXT                   Missing data representation. Default is\n",
      "                                  empty ''.\n",
      "  --float-format TEXT             Format string for floating point numbers\n",
      "                                  (e.g. '.12g', '03.2f').  [default: g]\n",
      "  -r, --range TEXT                The coordinates of a genomic region shown\n",
      "                                  along the row dimension, in UCSC-style\n",
      "                                  notation. (Example:\n",
      "                                  chr1:10,000,000-11,000,000). If omitted, the\n",
      "                                  entire contact matrix is printed.\n",
      "  -r2, --range2 TEXT              The coordinates of a genomic region shown\n",
      "                                  along the column dimension. If omitted, the\n",
      "                                  column range is the same as the row range.\n",
      "  -m, --matrix                    For coolers stored in symmetric-upper mode,\n",
      "                                  ensure any empty areas of the genomic query\n",
      "                                  window are populated by generating the\n",
      "                                  lower-triangular pixels.  [default: False]\n",
      "  -b, --balanced / --no-balance   Apply balancing weights to data. This will\n",
      "                                  print an extra column called `balanced`\n",
      "                                  [default: False]\n",
      "  --join                          Print the full chromosome bin coordinates\n",
      "                                  instead of bin IDs. This will replace the\n",
      "                                  `bin1_id` column with `chrom1`, `start1`,\n",
      "                                  and `end1`, and the `bin2_id` column with\n",
      "                                  `chrom2`, `start2` and `end2`.  [default:\n",
      "                                  False]\n",
      "  --annotate SEPARATED[,]         Join additional columns from the bin table\n",
      "                                  against the pixels. Provide a comma\n",
      "                                  separated list of column names (no spaces).\n",
      "                                  The merged columns will be suffixed by '1'\n",
      "                                  and '2' accordingly.\n",
      "  --one-based-ids                 Print bin IDs as one-based rather than zero-\n",
      "                                  based.\n",
      "  --one-based-starts              Print start coordinates as one-based rather\n",
      "                                  than zero-based.\n",
      "  -k, --chunksize INTEGER         Sets the amount of pixel data loaded from\n",
      "                                  disk at one time. Can affect the performance\n",
      "                                  of joins on high resolution datasets.\n",
      "                                  Default is to load as many rows as there are\n",
      "                                  bins.\n",
      "  -o, --out TEXT                  Output text file If .gz extension is\n",
      "                                  detected, file is written using zlib.\n",
      "                                  Default behavior is to stream to stdout.\n",
      "  -h, --help                      Show this message and exit.\n"
     ]
    }
   ],
   "source": [
    "%%bash\n",
    "\n",
    "cooler dump -h"
   ]
  },
  {
   "cell_type": "code",
   "execution_count": 16,
   "metadata": {
    "ExecuteTime": {
     "end_time": "2019-02-23T03:02:36.406905Z",
     "start_time": "2019-02-23T03:02:36.000357Z"
    }
   },
   "outputs": [
    {
     "name": "stdout",
     "output_type": "stream",
     "text": [
      "1\t249250621\n",
      "2\t243199373\n",
      "3\t198022430\n",
      "4\t191154276\n",
      "5\t180915260\n",
      "6\t171115067\n",
      "7\t159138663\n",
      "8\t146364022\n",
      "9\t141213431\n",
      "10\t135534747\n",
      "11\t135006516\n",
      "12\t133851895\n",
      "13\t115169878\n",
      "14\t107349540\n",
      "15\t102531392\n",
      "16\t90354753\n",
      "17\t81195210\n",
      "18\t78077248\n",
      "19\t59128983\n",
      "20\t63025520\n",
      "21\t48129895\n",
      "22\t51304566\n",
      "X\t155270560\n",
      "Y\t59373566\n",
      "MT\t16569\n"
     ]
    }
   ],
   "source": [
    "%%bash\n",
    "\n",
    "cooler dump -t chroms data/test.cool"
   ]
  },
  {
   "cell_type": "code",
   "execution_count": 17,
   "metadata": {
    "ExecuteTime": {
     "end_time": "2019-02-23T03:02:36.808885Z",
     "start_time": "2019-02-23T03:02:36.408883Z"
    }
   },
   "outputs": [
    {
     "name": "stdout",
     "output_type": "stream",
     "text": [
      "1\t0\t1000000\n",
      "1\t1000000\t2000000\n",
      "1\t2000000\t3000000\n",
      "1\t3000000\t4000000\n",
      "1\t4000000\t5000000\n",
      "1\t5000000\t6000000\n",
      "1\t6000000\t7000000\n",
      "1\t7000000\t8000000\n",
      "1\t8000000\t9000000\n",
      "1\t9000000\t10000000\n"
     ]
    }
   ],
   "source": [
    "%%bash\n",
    "\n",
    "cooler dump -t bins data/test.cool | head"
   ]
  },
  {
   "cell_type": "code",
   "execution_count": 18,
   "metadata": {
    "ExecuteTime": {
     "end_time": "2019-02-23T03:02:37.267228Z",
     "start_time": "2019-02-23T03:02:36.811531Z"
    }
   },
   "outputs": [
    {
     "name": "stdout",
     "output_type": "stream",
     "text": [
      "bin1_id\tbin2_id\tcount\n",
      "0\t0\t3\n",
      "0\t1\t4\n",
      "0\t43\t1\n",
      "0\t155\t1\n",
      "0\t229\t1\n",
      "0\t437\t1\n",
      "0\t492\t1\n",
      "0\t493\t1\n",
      "0\t666\t1\n"
     ]
    }
   ],
   "source": [
    "%%bash\n",
    "\n",
    "cooler dump -t pixels --header data/test.cool | head"
   ]
  },
  {
   "cell_type": "code",
   "execution_count": 19,
   "metadata": {
    "ExecuteTime": {
     "end_time": "2019-02-23T03:02:37.685511Z",
     "start_time": "2019-02-23T03:02:37.269547Z"
    }
   },
   "outputs": [
    {
     "name": "stdout",
     "output_type": "stream",
     "text": [
      "chrom1\tstart1\tend1\tchrom2\tstart2\tend2\tcount\n",
      "1\t0\t1000000\t1\t0\t1000000\t3\n",
      "1\t0\t1000000\t1\t1000000\t2000000\t4\n",
      "1\t0\t1000000\t1\t43000000\t44000000\t1\n",
      "1\t0\t1000000\t1\t155000000\t156000000\t1\n",
      "1\t0\t1000000\t1\t229000000\t230000000\t1\n",
      "1\t0\t1000000\t2\t187000000\t188000000\t1\n",
      "1\t0\t1000000\t2\t242000000\t243000000\t1\n",
      "1\t0\t1000000\t2\t243000000\t243199373\t1\n",
      "1\t0\t1000000\t3\t172000000\t173000000\t1\n"
     ]
    }
   ],
   "source": [
    "%%bash\n",
    "\n",
    "cooler dump -t pixels --header --join data/test.cool | head"
   ]
  },
  {
   "cell_type": "code",
   "execution_count": 20,
   "metadata": {
    "ExecuteTime": {
     "end_time": "2019-02-23T03:02:38.119120Z",
     "start_time": "2019-02-23T03:02:37.688782Z"
    }
   },
   "outputs": [
    {
     "name": "stdout",
     "output_type": "stream",
     "text": [
      "chrom1\tstart1\tend1\tchrom2\tstart2\tend2\tcount\n",
      "10\t10000000\t11000000\t10\t70000000\t71000000\t1\n",
      "10\t11000000\t12000000\t10\t30000000\t31000000\t1\n",
      "10\t11000000\t12000000\t10\t35000000\t36000000\t1\n",
      "10\t11000000\t12000000\t10\t42000000\t43000000\t2\n",
      "10\t11000000\t12000000\t10\t43000000\t44000000\t1\n",
      "10\t11000000\t12000000\t10\t52000000\t53000000\t1\n",
      "10\t11000000\t12000000\t10\t58000000\t59000000\t1\n",
      "10\t12000000\t13000000\t10\t30000000\t31000000\t1\n",
      "10\t12000000\t13000000\t10\t45000000\t46000000\t1\n"
     ]
    }
   ],
   "source": [
    "%%bash\n",
    "\n",
    "cooler dump -t pixels -r 10:10,000,000-20,000,000 -r2 10:30,000,000-80,000,000 --header --join data/test.cool | head"
   ]
  },
  {
   "cell_type": "code",
   "execution_count": 21,
   "metadata": {
    "ExecuteTime": {
     "end_time": "2019-02-23T03:02:38.523712Z",
     "start_time": "2019-02-23T03:02:38.121899Z"
    }
   },
   "outputs": [
    {
     "name": "stderr",
     "output_type": "stream",
     "text": [
      "Balancing weights not found\n"
     ]
    }
   ],
   "source": [
    "%%bash\n",
    "\n",
    "cooler dump -t pixels --header --balanced data/test.cool | head"
   ]
  },
  {
   "cell_type": "markdown",
   "metadata": {},
   "source": [
    "Oops! Our contact matrix isn't balanced yet. Let's do that next."
   ]
  },
  {
   "cell_type": "markdown",
   "metadata": {},
   "source": [
    "## Balancing"
   ]
  },
  {
   "cell_type": "markdown",
   "metadata": {},
   "source": [
    "Matrix balancing normalization, i.e. iterative correction.\n",
    "\n",
    "We usually normalize or \"correct\" Hi-C using a technique called matrix balancing. This involves finding a set of weights or biases $b_i$ for each bin $i$ such that\n",
    "\n",
    "$$ Normalized[i,j] = Observed[i,j] \\cdot b[i] \\cdot b[j], $$\n",
    "\n",
    "such that the marginals (i.e., row/column sums) of the global contact matrix are flat and equal.\n",
    "\n",
    "`cooler balance` will store the pre-computed balancing weights in the bin table as an extra column called `weight`.\n",
    "\n",
    "Note that whole-genome matrix balancing on a high resolution matrix requires iterative computations on a matrix that may not fit in computer memory, even in sparse form. Our \"out-of-core\" method performs the calculations by splitting and loading the data into smaller chunks and combining the partial results afterwards."
   ]
  },
  {
   "cell_type": "code",
   "execution_count": 22,
   "metadata": {
    "ExecuteTime": {
     "end_time": "2019-02-23T03:02:38.917800Z",
     "start_time": "2019-02-23T03:02:38.526177Z"
    }
   },
   "outputs": [
    {
     "name": "stdout",
     "output_type": "stream",
     "text": [
      "Usage: cooler balance [OPTIONS] COOL_PATH\n",
      "\n",
      "  Out-of-core matrix balancing.\n",
      "\n",
      "  Matrix must be symmetric. See the help for various filtering options to\n",
      "  mask out poorly mapped bins.\n",
      "\n",
      "  COOL_PATH : Path to a COOL file.\n",
      "\n",
      "Options:\n",
      "  -p, --nproc INTEGER             Number of processes to split the work\n",
      "                                  between.  [default: 8]\n",
      "  -c, --chunksize INTEGER         Control the number of pixels handled by each\n",
      "                                  worker process at a time.  [default:\n",
      "                                  10000000]\n",
      "  --mad-max INTEGER               Ignore bins from the contact matrix using\n",
      "                                  the 'MAD-max' filter: bins whose log\n",
      "                                  marginal sum is less than ``mad-max`` median\n",
      "                                  absolute deviations below the median log\n",
      "                                  marginal sum of all the bins in the same\n",
      "                                  chromosome.  [default: 5]\n",
      "  --min-nnz INTEGER               Ignore bins from the contact matrix whose\n",
      "                                  marginal number of nonzeros is less than\n",
      "                                  this number.  [default: 10]\n",
      "  --min-count INTEGER             Ignore bins from the contact matrix whose\n",
      "                                  marginal count is less than this number.\n",
      "                                  [default: 0]\n",
      "  --blacklist PATH                Path to a 3-column BED file containing\n",
      "                                  genomic regions to mask out during the\n",
      "                                  balancing procedure, e.g. sequence gaps or\n",
      "                                  regions of poor mappability.\n",
      "  --ignore-diags INTEGER          Number of diagonals of the contact matrix to\n",
      "                                  ignore, including the main diagonal.\n",
      "                                  Examples: 0 ignores nothing, 1 ignores the\n",
      "                                  main diagonal, 2 ignores diagonals (-1, 0,\n",
      "                                  1), etc.  [default: 2]\n",
      "  --ignore-dist INTEGER           Distance in bp to ignore.\n",
      "  --tol FLOAT                     Threshold value of variance of the marginals\n",
      "                                  for the algorithm to converge.  [default:\n",
      "                                  1e-05]\n",
      "  --max-iters INTEGER             Maximum number of iterations to perform if\n",
      "                                  convergence is not achieved.  [default: 200]\n",
      "  --cis-only                      Calculate weights against intra-chromosomal\n",
      "                                  data only instead of genome-wide.\n",
      "  --trans-only                    Calculate weights against inter-chromosomal\n",
      "                                  data only instead of genome-wide.\n",
      "  --name TEXT                     Name of column to write to.  [default:\n",
      "                                  weight]\n",
      "  -f, --force                     Overwrite the target dataset, 'weight', if\n",
      "                                  it already exists.\n",
      "  --check                         Check whether a data column 'weight' already\n",
      "                                  exists.\n",
      "  --stdout                        Print weight column to stdout instead of\n",
      "                                  saving to file.\n",
      "  --convergence-policy [store_final|store_nan|discard|error]\n",
      "                                  What to do with weights when balancing\n",
      "                                  doesn't converge in max_iters.\n",
      "                                  'store_final': Store the final result,\n",
      "                                  regardless of whether the iterations\n",
      "                                  converge to the specified tolerance;\n",
      "                                  'store_nan': Store a vector of NaN values to\n",
      "                                  indicate that the matrix failed to converge;\n",
      "                                  'discard': Store nothing and exit\n",
      "                                  gracefully; 'error': Abort with non-zero\n",
      "                                  exit status.  [default: store_final]\n",
      "  -h, --help                      Show this message and exit.\n"
     ]
    }
   ],
   "source": [
    "%%bash\n",
    "\n",
    "cooler balance -h"
   ]
  },
  {
   "cell_type": "markdown",
   "metadata": {},
   "source": [
    "`cooler balance` iterates until the balanced marginals (i.e. row sums of the balanced matrix) are sufficiently flat (the variance falls below the limit `tol`)."
   ]
  },
  {
   "cell_type": "code",
   "execution_count": 23,
   "metadata": {
    "ExecuteTime": {
     "end_time": "2019-02-23T03:02:39.801480Z",
     "start_time": "2019-02-23T03:02:38.920839Z"
    }
   },
   "outputs": [
    {
     "name": "stderr",
     "output_type": "stream",
     "text": [
      "INFO:cooler.cli.balance:Balancing \"data/test.cool\"\n",
      "INFO:cooler.balance:variance is 108.70508940352958\n",
      "INFO:cooler.balance:variance is 11.544325707535195\n",
      "INFO:cooler.balance:variance is 2.6406181035180114\n",
      "INFO:cooler.balance:variance is 0.7820569377009834\n",
      "INFO:cooler.balance:variance is 0.2430786648548748\n",
      "INFO:cooler.balance:variance is 0.08214976966884285\n",
      "INFO:cooler.balance:variance is 0.0281252239555167\n",
      "INFO:cooler.balance:variance is 0.01007790709086638\n",
      "INFO:cooler.balance:variance is 0.003641581079865616\n",
      "INFO:cooler.balance:variance is 0.0013517640780139287\n",
      "INFO:cooler.balance:variance is 0.0005055339361931239\n",
      "INFO:cooler.balance:variance is 0.00019213135598238062\n",
      "INFO:cooler.balance:variance is 7.348487864296598e-05\n",
      "INFO:cooler.balance:variance is 2.838381218829392e-05\n",
      "INFO:cooler.balance:variance is 1.1018544001826925e-05\n",
      "INFO:cooler.balance:variance is 4.304041056888539e-06\n"
     ]
    }
   ],
   "source": [
    "%%bash\n",
    "\n",
    "cooler balance -p 10 -c 10000 data/test.cool"
   ]
  },
  {
   "cell_type": "code",
   "execution_count": 24,
   "metadata": {
    "ExecuteTime": {
     "end_time": "2019-02-23T03:02:40.242416Z",
     "start_time": "2019-02-23T03:02:39.804052Z"
    }
   },
   "outputs": [
    {
     "name": "stdout",
     "output_type": "stream",
     "text": [
      "bin1_id\tbin2_id\tcount\tbalanced\n",
      "0\t0\t3\t0.0619576\n",
      "0\t1\t4\t0.0917378\n",
      "0\t43\t1\t0.0246198\n",
      "0\t155\t1\t0.0223535\n",
      "0\t229\t1\t0.0292275\n",
      "0\t437\t1\t0.0364777\n",
      "0\t492\t1\t0.0238998\n",
      "0\t493\t1\t0.0843047\n",
      "0\t666\t1\t0.023308\n"
     ]
    }
   ],
   "source": [
    "%%bash\n",
    "\n",
    "cooler dump --header --balanced data/test.cool | head"
   ]
  },
  {
   "cell_type": "markdown",
   "metadata": {},
   "source": [
    "`cooler balance` will also attach some metadata to the `bins/weight` array as attributes, which you can inspect:"
   ]
  },
  {
   "cell_type": "code",
   "execution_count": 25,
   "metadata": {},
   "outputs": [
    {
     "name": "stdout",
     "output_type": "stream",
     "text": [
      "'@attrs': {}\n",
      "chrom:\n",
      "  '@attrs': {}\n",
      "end:\n",
      "  '@attrs': {}\n",
      "start:\n",
      "  '@attrs': {}\n",
      "weight:\n",
      "  '@attrs':\n",
      "    cis_only: false\n",
      "    converged: true\n",
      "    ignore_diags: 2\n",
      "    mad_max: 5\n",
      "    min_count: 0\n",
      "    min_nnz: 10\n",
      "    scale: 31.707717089629107\n",
      "    tol: 1.0e-05\n",
      "    var: 4.304041056888539e-06\n",
      "\n"
     ]
    }
   ],
   "source": [
    "%%bash\n",
    "\n",
    "cooler attrs data/test.cool::bins"
   ]
  },
  {
   "cell_type": "markdown",
   "metadata": {},
   "source": [
    "## Display the contact matrix"
   ]
  },
  {
   "cell_type": "markdown",
   "metadata": {},
   "source": [
    "You can also use the `cooler show` function to produce images of the contact matrix. Requires the `matplotlib` Python package."
   ]
  },
  {
   "cell_type": "code",
   "execution_count": 26,
   "metadata": {
    "ExecuteTime": {
     "end_time": "2019-02-23T03:02:40.639709Z",
     "start_time": "2019-02-23T03:02:40.245800Z"
    }
   },
   "outputs": [
    {
     "name": "stdout",
     "output_type": "stream",
     "text": [
      "Usage: cooler show [OPTIONS] COOL_PATH RANGE\n",
      "\n",
      "  Display and browse a cooler in matplotlib.\n",
      "\n",
      "  COOL_PATH : Path to a COOL file or Cooler URI.\n",
      "\n",
      "  RANGE : The coordinates of the genomic region to display, in UCSC\n",
      "  notation. Example: chr1:10,000,000-11,000,000\n",
      "\n",
      "Options:\n",
      "  -r2, --range2 TEXT              The coordinates of a genomic region shown\n",
      "                                  along the column dimension. If omitted, the\n",
      "                                  column range is the same as the row range.\n",
      "                                  Use to display asymmetric matrices or trans\n",
      "                                  interactions.\n",
      "  -b, --balanced                  Show the balanced contact matrix. If not\n",
      "                                  provided, display the unbalanced counts.\n",
      "  -o, --out TEXT                  Save the image of the contact matrix to a\n",
      "                                  file. If not specified, the matrix is\n",
      "                                  displayed in an interactive window. The\n",
      "                                  figure format is deduced from the extension\n",
      "                                  of the file, the supported formats are png,\n",
      "                                  jpg, svg, pdf, ps and eps.\n",
      "  --dpi INTEGER                   The DPI of the figure, if saving to a file\n",
      "  -s, --scale [linear|log2|log10]\n",
      "                                  Scale transformation of the colormap:\n",
      "                                  linear, log2 or log10. Default is log10.\n",
      "  -f, --force                     Force display very large matrices (>=10^8\n",
      "                                  pixels). Use at your own risk as it may\n",
      "                                  cause performance issues.\n",
      "  --zmin FLOAT                    The minimal value of the color scale. Units\n",
      "                                  must match those of the colormap scale. To\n",
      "                                  provide a negative value use a equal sign\n",
      "                                  and quotes, e.g. -zmin='-0.5'\n",
      "  --zmax FLOAT                    The maximal value of the color scale. Units\n",
      "                                  must match those of the colormap scale. To\n",
      "                                  provide a negative value use a equal sign\n",
      "                                  and quotes, e.g. -zmax='-0.5'\n",
      "  --cmap TEXT                     The colormap used to display the contact\n",
      "                                  matrix. See the full list at http://matplotl\n",
      "                                  ib.org/examples/color/colormaps_reference.ht\n",
      "                                  ml\n",
      "  --field TEXT                    Pixel values to display.  [default: count]\n",
      "  -h, --help                      Show this message and exit.\n"
     ]
    }
   ],
   "source": [
    "%%bash\n",
    "\n",
    "cooler show -h"
   ]
  },
  {
   "cell_type": "markdown",
   "metadata": {},
   "source": [
    "Here's the undersampled dataset."
   ]
  },
  {
   "cell_type": "code",
   "execution_count": 27,
   "metadata": {
    "ExecuteTime": {
     "end_time": "2019-02-23T03:02:41.576051Z",
     "start_time": "2019-02-23T03:02:40.642249Z"
    }
   },
   "outputs": [
    {
     "name": "stderr",
     "output_type": "stream",
     "text": [
      "WARNING:py.warnings:/home/nezar/miniconda3/lib/python3.7/site-packages/cooler/cli/show.py:30: RuntimeWarning: divide by zero encountered in log10\n",
      "  mat = np.log10(mat)\n",
      "\n"
     ]
    }
   ],
   "source": [
    "%%bash\n",
    "\n",
    "cooler show --out data/test.png --dpi 200 data/test.cool 3:0-80,000,000"
   ]
  },
  {
   "cell_type": "code",
   "execution_count": 28,
   "metadata": {
    "ExecuteTime": {
     "end_time": "2019-02-23T03:02:41.598131Z",
     "start_time": "2019-02-23T03:02:41.578717Z"
    }
   },
   "outputs": [
    {
     "data": {
      "image/png": "[encoded data removed]",
      "text/plain": [
       "<IPython.core.display.Image object>"
      ]
     },
     "execution_count": 28,
     "metadata": {},
     "output_type": "execute_result"
    }
   ],
   "source": [
    "from IPython.display import Image\n",
    "Image('data/test.png')"
   ]
  },
  {
   "cell_type": "markdown",
   "metadata": {},
   "source": [
    "Here's what the full one looks like."
   ]
  },
  {
   "cell_type": "code",
   "execution_count": 29,
   "metadata": {
    "ExecuteTime": {
     "end_time": "2019-02-23T03:02:42.529415Z",
     "start_time": "2019-02-23T03:02:41.601153Z"
    }
   },
   "outputs": [],
   "source": [
    "%%bash\n",
    "\n",
    "cooler show --out data/test2.png --dpi 200 data/Rao2014-GM12878-MboI-allreps-filtered.1000kb.cool chr3:0-80,000,000"
   ]
  },
  {
   "cell_type": "code",
   "execution_count": 30,
   "metadata": {
    "ExecuteTime": {
     "end_time": "2019-02-23T03:02:42.538304Z",
     "start_time": "2019-02-23T03:02:42.531728Z"
    }
   },
   "outputs": [
    {
     "data": {
      "image/png": "[encoded data removed]",
      "text/plain": [
       "<IPython.core.display.Image object>"
      ]
     },
     "execution_count": 30,
     "metadata": {},
     "output_type": "execute_result"
    }
   ],
   "source": [
    "from IPython.display import Image\n",
    "Image('data/test2.png')"
   ]
  },
  {
   "cell_type": "markdown",
   "metadata": {},
   "source": [
    "## Optional: Load a pairs file indexed with [Pairix](https://github.com/4dn-dcic/pairix)"
   ]
  },
  {
   "cell_type": "markdown",
   "metadata": {},
   "source": [
    "Alternatively, you can sort, format and index your pairs file before ingesting. Having an indexed pairs file can also be useful of other kinds of read-level analyses.\n",
    "\n",
    "We use the `cooler csort` command to do this. What does it do? \n",
    "\n",
    "Given a chromosome order, it creates a new pairs file with the following properties:\n",
    "\n",
    "1. _Consistently ordered mates_: mates of every interchromsomal pair are properly \"flipped\" in order to respect the requested order of the chromosomes. For intrachromosomal pairs, mates are flipped such that `pos1` is always less than or equal to `pos2`. As a result, the data will have an **upper triangular** orientation with respect to the chromosome order (interpreting sides 1 and 2 as `i` and `j` axes in a matrix coordinate system).\n",
    "2. _Sorted_: once the mates are oriented, the pair records are lexically sorted by chrom1, chrom2, pos1, pos2. With (1) and (2), contacts are said to be sorted by chromosome-chromosome block, a.k.a. \"block\" sorted.\n",
    "3. _Indexed_: we use [bgzip](http://www.htslib.org/doc/tabix.html) to compress the file and [Pairix](https://github.com/4dn-dcic/pairix) to index it. This creates a small `.px2` index file which facilitates 2-dimensional queries on the reads. \n",
    "\n",
    "**Notes**: \n",
    "\n",
    "- If (1) is already satisfied, you can also prepare a Pairix-indexed file manually, without `cooler csort`. See this [example](https://github.com/4dn-dcic/pairix#usage-examples-for-pairix)"
   ]
  },
  {
   "cell_type": "code",
   "execution_count": 31,
   "metadata": {},
   "outputs": [
    {
     "name": "stdout",
     "output_type": "stream",
     "text": [
      "Collecting package metadata (current_repodata.json): done\n",
      "Solving environment: done\n",
      "\n",
      "# All requested packages already installed.\n",
      "\n"
     ]
    }
   ],
   "source": [
    "!conda install --yes -c bioconda pairix"
   ]
  },
  {
   "cell_type": "code",
   "execution_count": 32,
   "metadata": {
    "ExecuteTime": {
     "end_time": "2019-02-23T03:02:43.048186Z",
     "start_time": "2019-02-23T03:02:42.540188Z"
    },
    "scrolled": false
   },
   "outputs": [
    {
     "name": "stdout",
     "output_type": "stream",
     "text": [
      "Usage: cooler csort [OPTIONS] PAIRS_PATH CHROMOSOMES_PATH\n",
      "\n",
      "  Sort and index a contact list.\n",
      "\n",
      "  Order the mates of each pair record so that all contacts are upper\n",
      "  triangular with respect to the chromosome ordering given by the\n",
      "  chromosomes file, sort contacts by genomic location, and index the\n",
      "  resulting file.\n",
      "\n",
      "  PAIRS_PATH : Contacts (i.e. read pairs) text file, optionally compressed.\n",
      "\n",
      "  CHROMOSOMES_PATH : File listing desired chromosomes in the desired order.\n",
      "  May be tab-delimited, e.g. a UCSC-style chromsizes file. Contacts mapping\n",
      "  to other chromosomes will be discarded.\n",
      "\n",
      "  **Notes**\n",
      "\n",
      "  - csort can also be used to sort and index a text representation of\n",
      "    a contact *matrix* in bedGraph-like format. In this case, substitute\n",
      "    `pos1` and `pos2` with `start1` and `start2`, respectively.\n",
      "  - Requires Unix tools: sort, bgzip + tabix or pairix.\n",
      "\n",
      "  If indexing with Tabix, the output file will have the following\n",
      "  properties:\n",
      "\n",
      "  - Upper triangular: the read pairs on each row are assigned to side 1 or 2\n",
      "    in such a way that (chrom1, pos1) is always \"less than\" (chrom2, pos2)\n",
      "  - Rows are lexicographically sorted by chrom1, pos1, chrom2, pos2;\n",
      "    i.e. \"positionally sorted\"\n",
      "  - Compressed with bgzip [*]\n",
      "  - Indexed using Tabix [*] on chrom1 and pos1.\n",
      "\n",
      "  If indexing with Pairix, the output file will have the following\n",
      "  properties:\n",
      "\n",
      "  - Upper triangular: the read pairs on each row are assigned to side 1 or 2\n",
      "    in such a way that (chrom1, pos1) is always \"less than\" (chrom2, pos2)\n",
      "  - Rows are lexicographically sorted by chrom1, chrom2, pos1, pos2; i.e.\n",
      "    \"block sorted\"\n",
      "  - Compressed with bgzip [*]\n",
      "  - Indexed using Pairix [+] on chrom1, chrom2 and pos1.\n",
      "\n",
      "  [*] Tabix manpage: <http://www.htslib.org/doc/tabix.html>.\n",
      "  [+] Pairix on Github: <https://github.com/4dn-dcic/pairix>\n",
      "\n",
      "Options:\n",
      "  -c1, --chrom1 INTEGER       chrom1 field number in the input file (starting\n",
      "                              from 1)  [required]\n",
      "  -c2, --chrom2 INTEGER       chrom2 field number  [required]\n",
      "  -p1, --pos1 INTEGER         pos1 field number  [required]\n",
      "  -p2, --pos2 INTEGER         pos2 field number  [required]\n",
      "  -i, --index [tabix|pairix]  Select the preset sort and indexing options\n",
      "                              [default: pairix]\n",
      "  --flip-only                 Only flip mates; no sorting or indexing. Write\n",
      "                              to stdout.  [default: False]\n",
      "  -p, --nproc INTEGER         Number of processors  [default: 8]\n",
      "  -0, --zero-based            Read positions are zero-based  [default: False]\n",
      "  --sep TEXT                  Data delimiter in the input file  [default: \\t]\n",
      "  --comment-char TEXT         Comment character to skip header  [default: #]\n",
      "  --sort-options TEXT         Quoted list of additional options to `sort`\n",
      "                              command\n",
      "  -o, --out TEXT              Output gzip file\n",
      "  -s1, --strand1 INTEGER      strand1 field number (deprecated)\n",
      "  -s2, --strand2 INTEGER      strand2 field number (deprecated)\n",
      "  -h, --help                  Show this message and exit.\n"
     ]
    }
   ],
   "source": [
    "!cooler csort -h"
   ]
  },
  {
   "cell_type": "code",
   "execution_count": 33,
   "metadata": {
    "ExecuteTime": {
     "end_time": "2019-02-23T03:02:44.664014Z",
     "start_time": "2019-02-23T03:02:43.050937Z"
    }
   },
   "outputs": [
    {
     "name": "stderr",
     "output_type": "stream",
     "text": [
      "INFO:cooler.cli.csort:Enumerating requested chromosomes...\n",
      "INFO:cooler.cli.csort:1\t1\n",
      "INFO:cooler.cli.csort:2\t2\n",
      "INFO:cooler.cli.csort:3\t3\n",
      "INFO:cooler.cli.csort:4\t4\n",
      "INFO:cooler.cli.csort:5\t5\n",
      "INFO:cooler.cli.csort:6\t6\n",
      "INFO:cooler.cli.csort:7\t7\n",
      "INFO:cooler.cli.csort:8\t8\n",
      "INFO:cooler.cli.csort:9\t9\n",
      "INFO:cooler.cli.csort:10\t10\n",
      "INFO:cooler.cli.csort:11\t11\n",
      "INFO:cooler.cli.csort:12\t12\n",
      "INFO:cooler.cli.csort:13\t13\n",
      "INFO:cooler.cli.csort:14\t14\n",
      "INFO:cooler.cli.csort:15\t15\n",
      "INFO:cooler.cli.csort:16\t16\n",
      "INFO:cooler.cli.csort:17\t17\n",
      "INFO:cooler.cli.csort:18\t18\n",
      "INFO:cooler.cli.csort:19\t19\n",
      "INFO:cooler.cli.csort:20\t20\n",
      "INFO:cooler.cli.csort:21\t21\n",
      "INFO:cooler.cli.csort:22\t22\n",
      "INFO:cooler.cli.csort:X\t23\n",
      "INFO:cooler.cli.csort:Y\t24\n",
      "INFO:cooler.cli.csort:MT\t25\n",
      "INFO:cooler.cli.csort:Input: 'data/GSM1551552_HIC003_merged_nodups.txt.subset.gz'\n",
      "INFO:cooler.cli.csort:Output: 'data/pairs.sorted.txt.gz'\n",
      "INFO:cooler.cli.csort:Reordering pair mates and sorting pair records...\n",
      "INFO:cooler.cli.csort:Sort order: block (chrom1, chrom2, pos1, pos2)\n",
      "INFO:cooler.cli.csort:sort -k3,3 -k7,7 -k4,4n -k8,8n --parallel=8 --buffer-size=50%\n",
      "INFO:cooler.cli.csort:Indexing...\n",
      "INFO:cooler.cli.csort:Indexer: pairix\n",
      "INFO:cooler.cli.csort:pairix -f -s3 -d7 -b4 -e4 -u8 -v8 data/pairs.sorted.txt.gz\n"
     ]
    }
   ],
   "source": [
    "%%bash\n",
    "# Note that the input pairs file happens to be space-delimited, which we specify \n",
    "# with the --sep argument  (tab is assumed by default).\n",
    "# The output pairs file will always be tab-delimited!\n",
    "\n",
    "CHROMSIZES_FILE='data/b37.chrom.sizes'\n",
    "PAIRS_FILE='data/GSM1551552_HIC003_merged_nodups.txt.subset.gz'\n",
    "\n",
    "cooler csort -c1 3 -p1 4 -c2 7 -p2 8 --sep ' ' --out data/pairs.sorted.txt.gz $PAIRS_FILE $CHROMSIZES_FILE "
   ]
  },
  {
   "cell_type": "code",
   "execution_count": 34,
   "metadata": {
    "ExecuteTime": {
     "end_time": "2019-02-23T03:02:44.681088Z",
     "start_time": "2019-02-23T03:02:44.666364Z"
    },
    "scrolled": false
   },
   "outputs": [
    {
     "name": "stdout",
     "output_type": "stream",
     "text": [
      "D260LACXX130602:2:2315:7361:72358\t0\t1\t85378\t186\t16\t1\t591085\t1097\t0\t0\n",
      "D258GACXX130605:8:2316:2958:10584\t0\t1\t719104\t1418\t16\t1\t728403\t1406\t20\t10\n",
      "C24LCACXX130513:8:2315:5697:82732\t0\t1\t758309\t1523\t0\t1\t43498676\t121266\t68\t120\n",
      "D260LACXX130602:2:2209:16327:23744\t0\t1\t784407\t527093\t16\t1\t229918735\t1593\t88\t40\n",
      "D260LACXX130602:2:2202:16754:100485\t16\t1\t890311\t1801\t16\t1\t993887\t2056\t165\t18\n",
      "D260LACXX130602:2:2309:8547:48542\t0\t1\t925938\t1866\t16\t1\t1034493\t2117\t178\t60\n",
      "C24LCACXX130513:8:2312:14225:27548\t0\t1\t941657\t1904\t0\t1\t1620964\t3551\t178\t0\n",
      "D258GACXX130605:8:1201:10692:67155\t0\t1\t949416\t342780\t16\t1\t155311666\t1935\t178\t178\n",
      "C24LCACXX130513:8:2307:2896:10307\t0\t1\t951652\t3944\t16\t1\t1751062\t1946\t146\t175\n",
      "D258GACXX130605:8:2308:5276:50416\t0\t1\t992230\t2049\t0\t1\t1255504\t2556\t175\t178\n"
     ]
    }
   ],
   "source": [
    "%%bash\n",
    "\n",
    "# What's in the output?\n",
    "zcat data/pairs.sorted.txt.gz | head"
   ]
  },
  {
   "cell_type": "markdown",
   "metadata": {},
   "source": [
    "Finally, using `cooler cload pairix`, we aggregate (bin) the contacts in `pairs.sorted.txt.gz` against the bins file, `bins.1000kb.bed`, and write the contents to the binary `test.cool` file."
   ]
  },
  {
   "cell_type": "markdown",
   "metadata": {},
   "source": [
    "A Pairix-indexed file has the advantage of 2D querying. However, it uses a slightly different sorting convention:\n",
    "\n",
    "1. Like the previous Tabix scheme, interchromosomal pairs in Pairix files should consistently respect some order of the chromosomes (i.e. be \"upper triangular\"). Unlike the previous scheme, the chromosome order used to create the pairs file can be arbitrary, and does not need to match the order you wish to use in the cooler file.\n",
    "2. Unlike the previous Tabix scheme, where the file is sorted by `chrom1`, `pos1`, `chrom2`, `pos2`, Pairix files are sorted by `chrom1`, `chrom2`, `pos1`, `pos2`. \n"
   ]
  },
  {
   "cell_type": "code",
   "execution_count": 35,
   "metadata": {
    "ExecuteTime": {
     "end_time": "2019-02-23T03:02:45.163007Z",
     "start_time": "2019-02-23T03:02:44.683477Z"
    },
    "scrolled": false
   },
   "outputs": [
    {
     "name": "stdout",
     "output_type": "stream",
     "text": [
      "Usage: cooler cload pairix [OPTIONS] BINS PAIRS_PATH COOL_PATH\n",
      "\n",
      "  Bin a pairix-indexed contact list file.\n",
      "\n",
      "  BINS : One of the following\n",
      "\n",
      "      <TEXT:INTEGER> : 1. Path to a chromsizes file, 2. Bin size in bp\n",
      "\n",
      "      <TEXT> : Path to BED file defining the genomic bin segmentation.\n",
      "\n",
      "  PAIRS_PATH : Path to contacts (i.e. read pairs) file.\n",
      "\n",
      "  COOL_PATH : Output COOL file path or URI.\n",
      "\n",
      "  See also: 'cooler csort' to sort and index a contact list file\n",
      "\n",
      "  Pairix on GitHub: <https://github.com/4dn-dcic/pairix>.\n",
      "\n",
      "Options:\n",
      "  --metadata TEXT          Path to JSON file containing user metadata.\n",
      "  --assembly TEXT          Name of genome assembly (e.g. hg19, mm10)\n",
      "  -p, --nproc INTEGER      Number of processes to split the work between.\n",
      "                           [default: 8]\n",
      "  -0, --zero-based         Positions are zero-based  [default: False]\n",
      "  -s, --max-split INTEGER  Divide the pairs from each chromosome into at most\n",
      "                           this many chunks. Smaller chromosomes will be split\n",
      "                           less frequently or not at all. Increase ths value\n",
      "                           if large chromosomes dominate the workload on\n",
      "                           multiple processors.  [default: 2]\n",
      "  -h, --help               Show this message and exit.\n"
     ]
    }
   ],
   "source": [
    "%%bash\n",
    "\n",
    "cooler cload pairix -h"
   ]
  },
  {
   "cell_type": "code",
   "execution_count": 36,
   "metadata": {
    "ExecuteTime": {
     "end_time": "2019-02-23T03:02:50.178715Z",
     "start_time": "2019-02-23T03:02:45.166839Z"
    },
    "scrolled": false
   },
   "outputs": [
    {
     "name": "stderr",
     "output_type": "stream",
     "text": [
      "INFO:cooler.cli.cload:Using 8 cores\n",
      "WARNING:py.warnings:/home/nezar/miniconda3/lib/python3.7/site-packages/dask/dataframe/utils.py:15: FutureWarning: pandas.util.testing is deprecated. Use the functions in the public API at pandas.testing instead.\n",
      "  import pandas.util.testing as tm\n",
      "\n",
      "INFO:cooler.create:Creating cooler at \"data/test.cool::/\"\n",
      "INFO:cooler.create:Writing chroms\n",
      "INFO:cooler.create:Writing bins\n",
      "INFO:cooler.create:Writing pixels\n",
      "INFO:cooler.create:Binning 1:0-125000000|*\n",
      "INFO:cooler.create:Binning 1:125000000-249250621|*\n",
      "INFO:cooler.create:Binning 2:0-129000000|*\n",
      "INFO:cooler.create:Binning 2:129000000-243199373|*\n",
      "INFO:cooler.create:Binning 3:0-158000000|*\n",
      "INFO:cooler.create:Binning 3:158000000-198022430|*\n",
      "INFO:cooler.create:Binning 4:0-163000000|*\n",
      "INFO:cooler.create:Binning 4:163000000-191154276|*\n",
      "INFO:cooler.create:Finished 3:158000000-198022430|*\n",
      "INFO:cooler.create:Binning 5:0-173000000|*\n",
      "INFO:cooler.create:Finished 4:163000000-191154276|*\n",
      "INFO:cooler.create:Binning 5:173000000-180915260|*\n",
      "INFO:cooler.create:Finished 5:173000000-180915260|*\n",
      "INFO:cooler.create:Binning 6:0-171115067|*\n",
      "INFO:cooler.create:Finished 1:125000000-249250621|*\n",
      "INFO:cooler.create:Binning 7:0-159138663|*\n",
      "INFO:cooler.create:Finished 2:129000000-243199373|*\n",
      "INFO:cooler.create:Binning 8:0-146364022|*\n",
      "INFO:cooler.create:Finished 2:0-129000000|*\n",
      "INFO:cooler.create:Binning 9:0-141213431|*\n",
      "INFO:cooler.create:Finished 1:0-125000000|*\n",
      "INFO:cooler.create:Binning 10:0-135534747|*\n",
      "INFO:cooler.create:Finished 4:0-163000000|*\n",
      "INFO:cooler.create:Binning 11:0-135006516|*\n",
      "INFO:cooler.create:Finished 3:0-158000000|*\n",
      "INFO:cooler.create:Binning 12:0-133851895|*\n",
      "INFO:cooler.create:Finished 5:0-173000000|*\n",
      "INFO:cooler.create:Binning 13:0-115169878|*\n",
      "INFO:cooler.create:Finished 6:0-171115067|*\n",
      "INFO:cooler.create:Binning 14:0-107349540|*\n",
      "INFO:cooler.create:Finished 9:0-141213431|*\n",
      "INFO:cooler.create:Finished 8:0-146364022|*\n",
      "INFO:cooler.create:Binning 15:0-102531392|*\n",
      "INFO:cooler.create:Binning 16:0-90354753|*\n",
      "INFO:cooler.create:Finished 7:0-159138663|*\n",
      "INFO:cooler.create:Binning 17:0-81195210|*\n",
      "INFO:cooler.create:Finished 10:0-135534747|*\n",
      "INFO:cooler.create:Binning 18:0-78077248|*\n",
      "INFO:cooler.create:Finished 11:0-135006516|*\n",
      "INFO:cooler.create:Binning 19:0-59128983|*\n",
      "INFO:cooler.create:Finished 12:0-133851895|*\n",
      "INFO:cooler.create:Binning 20:0-63025520|*\n",
      "INFO:cooler.create:Finished 13:0-115169878|*\n",
      "INFO:cooler.create:Binning 21:0-48129895|*\n",
      "INFO:cooler.create:Finished 14:0-107349540|*\n",
      "INFO:cooler.create:Binning 22:0-51304566|*\n",
      "INFO:cooler.create:Finished 22:0-51304566|*\n",
      "INFO:cooler.create:Finished 21:0-48129895|*\n",
      "INFO:cooler.create:Binning X:0-155270560|*\n",
      "INFO:cooler.create:Binning Y:0-59373566|*\n",
      "INFO:cooler.create:Finished 19:0-59128983|*\n",
      "INFO:cooler.create:Binning MT:0-16569|*\n",
      "INFO:cooler.create:Finished 18:0-78077248|*\n",
      "INFO:cooler.create:Finished 17:0-81195210|*\n",
      "INFO:cooler.create:Finished 16:0-90354753|*\n",
      "INFO:cooler.create:Finished Y:0-59373566|*\n",
      "INFO:cooler.create:Finished MT:0-16569|*\n",
      "INFO:cooler.create:Finished 20:0-63025520|*\n",
      "INFO:cooler.create:Finished 15:0-102531392|*\n",
      "INFO:cooler.create:Finished X:0-155270560|*\n",
      "INFO:cooler.create:Writing indexes\n",
      "INFO:cooler.create:Writing info\n",
      "INFO:cooler.create:Done\n"
     ]
    }
   ],
   "source": [
    "%%bash\n",
    "\n",
    "# alternatively, we could pass $CHROMSIZES_FILE:1000000 below instead of creating $BINS_FILE\n",
    "BINS_FILE='data/bins.1000kb.bed'\n",
    "INDEXED_PAIRS_FILE='data/pairs.sorted.txt.gz'\n",
    "OUTPUT_FILE='data/test.cool'\n",
    "\n",
    "cooler cload pairix $BINS_FILE $INDEXED_PAIRS_FILE $OUTPUT_FILE"
   ]
  },
  {
   "cell_type": "code",
   "execution_count": null,
   "metadata": {},
   "outputs": [],
   "source": []
  },
  {
   "cell_type": "code",
   "execution_count": null,
   "metadata": {},
   "outputs": [],
   "source": []
  }
 ],
 "metadata": {
  "anaconda-cloud": {},
  "kernelspec": {
   "display_name": "Python 3",
   "language": "python",
   "name": "python3"
  },
  "language_info": {
   "codemirror_mode": {
    "name": "ipython",
    "version": 3
   },
   "file_extension": ".py",
   "mimetype": "text/x-python",
   "name": "python",
   "nbconvert_exporter": "python",
   "pygments_lexer": "ipython3",
   "version": "3.7.3"
  },
  "toc": {
   "base_numbering": 1,
   "nav_menu": {},
   "number_sections": true,
   "sideBar": true,
   "skip_h1_title": false,
   "title_cell": "Table of Contents",
   "title_sidebar": "Contents",
   "toc_cell": true,
   "toc_position": {},
   "toc_section_display": "block",
   "toc_window_display": false
  }
 },
 "nbformat": 4,
 "nbformat_minor": 2
}
