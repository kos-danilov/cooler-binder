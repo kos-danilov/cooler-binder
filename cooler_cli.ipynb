{
 "cells": [
  {
   "cell_type": "markdown",
   "metadata": {
    "toc": "true"
   },
   "source": [
    "<h1>Table of Contents<span class=\"tocSkip\"></span></h1>\n",
    "<div class=\"toc\"><ul class=\"toc-item\"><li><span><a href=\"#Cooler-command-line-interface\" data-toc-modified-id=\"Cooler-command-line-interface-1\"><span class=\"toc-item-num\">1&nbsp;&nbsp;</span>Cooler command line interface</a></span><ul class=\"toc-item\"><li><span><a href=\"#Example\" data-toc-modified-id=\"Example-1.1\"><span class=\"toc-item-num\">1.1&nbsp;&nbsp;</span>Example</a></span></li><li><span><a href=\"#Aggregate-a-list-of-read-pairs-into-a-cool-file\" data-toc-modified-id=\"Aggregate-a-list-of-read-pairs-into-a-cool-file-1.2\"><span class=\"toc-item-num\">1.2&nbsp;&nbsp;</span>Aggregate a list of read pairs into a <code>cool</code> file</a></span></li><li><span><a href=\"#Text-export\" data-toc-modified-id=\"Text-export-1.3\"><span class=\"toc-item-num\">1.3&nbsp;&nbsp;</span>Text export</a></span></li><li><span><a href=\"#Balancing\" data-toc-modified-id=\"Balancing-1.4\"><span class=\"toc-item-num\">1.4&nbsp;&nbsp;</span>Balancing</a></span></li><li><span><a href=\"#Display-the-contact-matrix\" data-toc-modified-id=\"Display-the-contact-matrix-1.5\"><span class=\"toc-item-num\">1.5&nbsp;&nbsp;</span>Display the contact matrix</a></span></li><li><span><a href=\"#Optional:-Load-a-pairs-file-indexed-with-Pairix\" data-toc-modified-id=\"Optional:-Load-a-pairs-file-indexed-with-Pairix-1.6\"><span class=\"toc-item-num\">1.6&nbsp;&nbsp;</span>Optional: Load a pairs file indexed with <a href=\"https://github.com/4dn-dcic/pairix\" target=\"_blank\">Pairix</a></a></span></li></ul></li></ul></div>"
   ]
  },
  {
   "cell_type": "markdown",
   "metadata": {},
   "source": [
    "Notes:\n",
    "\n",
    "To simulate shell scripts and terminal interaction, we preface every code cell with the \"cell magic\": `%%bash`, which sends the code to bash instead of the Python interpreter. Another way to send code from IPython to the shell is to prefix a line with shell escape `!`."
   ]
  },
  {
   "cell_type": "markdown",
   "metadata": {},
   "source": [
    "# Cooler command line interface"
   ]
  },
  {
   "cell_type": "markdown",
   "metadata": {},
   "source": [
    "If you type `cooler` at the command line with no arguments or with `-h` or `--help` you'll get the following quick reference of available subcommands."
   ]
  },
  {
   "cell_type": "code",
   "execution_count": null,
   "metadata": {
    "ExecuteTime": {
     "end_time": "2019-02-23T03:02:31.414309Z",
     "start_time": "2019-02-23T03:02:31.016285Z"
    }
   },
   "outputs": [],
   "source": [
    "%%bash\n",
    "\n",
    "cooler -h"
   ]
  },
  {
   "cell_type": "markdown",
   "metadata": {},
   "source": [
    "For more information about a specific subcommand, type `cooler <subcommand> -h` to display the help text."
   ]
  },
  {
   "cell_type": "code",
   "execution_count": null,
   "metadata": {
    "ExecuteTime": {
     "end_time": "2019-02-23T03:02:31.828924Z",
     "start_time": "2019-02-23T03:02:31.416784Z"
    }
   },
   "outputs": [],
   "source": [
    "%%bash\n",
    "\n",
    "cooler info -h"
   ]
  },
  {
   "cell_type": "markdown",
   "metadata": {},
   "source": [
    "## Example"
   ]
  },
  {
   "cell_type": "markdown",
   "metadata": {},
   "source": [
    "Let's try it."
   ]
  },
  {
   "cell_type": "code",
   "execution_count": null,
   "metadata": {
    "ExecuteTime": {
     "end_time": "2019-02-23T03:02:32.241239Z",
     "start_time": "2019-02-23T03:02:31.831036Z"
    },
    "scrolled": true
   },
   "outputs": [],
   "source": [
    "%%bash\n",
    "\n",
    "cooler info data/Rao2014-GM12878-MboI-allreps-filtered.1000kb.cool"
   ]
  },
  {
   "cell_type": "code",
   "execution_count": null,
   "metadata": {
    "ExecuteTime": {
     "end_time": "2019-02-23T03:02:32.642379Z",
     "start_time": "2019-02-23T03:02:32.244898Z"
    }
   },
   "outputs": [],
   "source": [
    "%%bash\n",
    "\n",
    "cooler info -f bin-size data/Rao2014-GM12878-MboI-allreps-filtered.1000kb.cool"
   ]
  },
  {
   "cell_type": "code",
   "execution_count": null,
   "metadata": {
    "ExecuteTime": {
     "end_time": "2019-02-23T03:02:33.054532Z",
     "start_time": "2019-02-23T03:02:32.644767Z"
    }
   },
   "outputs": [],
   "source": [
    "%%bash\n",
    "\n",
    "cooler info -m data/Rao2014-GM12878-MboI-allreps-filtered.1000kb.cool"
   ]
  },
  {
   "cell_type": "markdown",
   "metadata": {},
   "source": [
    "For more in-depth introspection into the HDF5 file structure, you can use `cooler tree` to display the group and array hierarchy and `cooler attrs` to display all attributes in the hierarchy. As a bonus, these commands work on any HDF5 file!"
   ]
  },
  {
   "cell_type": "code",
   "execution_count": null,
   "metadata": {},
   "outputs": [],
   "source": [
    "%%bash\n",
    "\n",
    "cooler tree data/Rao2014-GM12878-MboI-allreps-filtered.1000kb.cool"
   ]
  },
  {
   "cell_type": "code",
   "execution_count": null,
   "metadata": {},
   "outputs": [],
   "source": [
    "%%bash\n",
    "\n",
    "cooler attrs data/Rao2014-GM12878-MboI-allreps-filtered.1000kb.cool"
   ]
  },
  {
   "cell_type": "markdown",
   "metadata": {
    "ExecuteTime": {
     "end_time": "2016-08-24T22:00:32.279108",
     "start_time": "2016-08-24T22:00:32.276211"
    }
   },
   "source": [
    "## Aggregate a list of read pairs into a `cool` file"
   ]
  },
  {
   "cell_type": "markdown",
   "metadata": {},
   "source": [
    "To make a contact matrix, we need\n",
    "\n",
    "1. A list of read pairs representing captured contacts.\n",
    "2. A segmentation of the genome into bins by which we aggregate (bin) the read pair counts.\n",
    "\n",
    "For(1), we will start with a very small subsample of 100,000 read pairs from GSM1551552 (Rao et al, GM12878). The fields of the file are readID, strand1, chrom1, pos1, frag1, strand2, chrom2, pos2, frag2, mapq1, mapq2."
   ]
  },
  {
   "cell_type": "code",
   "execution_count": null,
   "metadata": {
    "ExecuteTime": {
     "end_time": "2019-02-23T03:02:33.071172Z",
     "start_time": "2019-02-23T03:02:33.056888Z"
    }
   },
   "outputs": [],
   "source": [
    "%%bash\n",
    "\n",
    "zcat data/GSM1551552_HIC003_merged_nodups.txt.subset.gz | head"
   ]
  },
  {
   "cell_type": "markdown",
   "metadata": {},
   "source": [
    "This data was mapped to the Broad's `b37` assembly and uses ENSEMBL-style chromosome names (`1..22`, `X`, `Y`, `MT`) instead of the UCSC-style (`chr1..chr22`, `chrX`, `chrY`, `chrM`).\n",
    "\n",
    "We provide a chromosome sizes file with the chromosomes we want to use in a desired order. Make sure the name style of the chromsizes file matches the name style of the pairs file! The following is the `b37` chromosome sizes file with chromosomes in a \"natural\" semantic order, leaving out the unlocalized and unplaced scaffolds."
   ]
  },
  {
   "cell_type": "code",
   "execution_count": null,
   "metadata": {
    "ExecuteTime": {
     "end_time": "2019-02-23T03:02:33.086128Z",
     "start_time": "2019-02-23T03:02:33.073164Z"
    }
   },
   "outputs": [],
   "source": [
    "%%bash\n",
    "\n",
    "cat data/b37.chrom.sizes"
   ]
  },
  {
   "cell_type": "markdown",
   "metadata": {},
   "source": [
    "We also need to decide how we want to bin the contacts. Usually, we choose a fixed bin size or \"resolution\". Another option for Hi-C data is to use restriction fragment-delimited genomic bins based on the restriction enzyme used in the experiment. `cooler` allows for any binning scheme you like, as long as you provide it as a **bin table**. We can store a bin table in a simple BED file using the `makebins` command."
   ]
  },
  {
   "cell_type": "code",
   "execution_count": null,
   "metadata": {
    "ExecuteTime": {
     "end_time": "2019-02-23T03:02:33.486936Z",
     "start_time": "2019-02-23T03:02:33.089220Z"
    }
   },
   "outputs": [],
   "source": [
    "%%bash\n",
    "\n",
    "cooler makebins -h"
   ]
  },
  {
   "cell_type": "markdown",
   "metadata": {},
   "source": [
    "If you have the FASTA sequence of the reference genome, you can also \"digest\" it to create a bin table of fragments."
   ]
  },
  {
   "cell_type": "code",
   "execution_count": null,
   "metadata": {
    "ExecuteTime": {
     "end_time": "2019-02-23T03:02:33.879400Z",
     "start_time": "2019-02-23T03:02:33.489499Z"
    }
   },
   "outputs": [],
   "source": [
    "%%bash\n",
    "\n",
    "cooler digest -h"
   ]
  },
  {
   "cell_type": "code",
   "execution_count": null,
   "metadata": {
    "ExecuteTime": {
     "end_time": "2019-02-23T03:02:34.295687Z",
     "start_time": "2019-02-23T03:02:33.881416Z"
    }
   },
   "outputs": [],
   "source": [
    "%%bash\n",
    "\n",
    "CHROMSIZES_FILE='data/b37.chrom.sizes'\n",
    "\n",
    "cooler makebins --out \"data/bins.1000kb.bed\" $CHROMSIZES_FILE 1000000\n",
    "\n",
    "# what's in the file?\n",
    "head \"data/bins.1000kb.bed\""
   ]
  },
  {
   "cell_type": "markdown",
   "metadata": {},
   "source": [
    "### Note\n",
    "\n",
    "There is a convenient syntax to specify a fixed-resolution bin table, so you rarely need to generate one manually: \n",
    "\n",
    "```\n",
    "<chromsizes_path>:<binsize-in-bp>\n",
    "```\n",
    "\n",
    "e.g. The bin table above can be specified as `data/b37.chrom.sizes.reduced:1000000`."
   ]
  },
  {
   "cell_type": "code",
   "execution_count": null,
   "metadata": {
    "ExecuteTime": {
     "end_time": "2019-02-23T03:02:34.693618Z",
     "start_time": "2019-02-23T03:02:34.297956Z"
    }
   },
   "outputs": [],
   "source": [
    "%%bash\n",
    "\n",
    "cooler cload pairs -h"
   ]
  },
  {
   "cell_type": "code",
   "execution_count": null,
   "metadata": {
    "ExecuteTime": {
     "end_time": "2019-02-23T03:02:35.597758Z",
     "start_time": "2019-02-23T03:02:34.696055Z"
    }
   },
   "outputs": [],
   "source": [
    "%%bash\n",
    "# Note that the input pairs file happens to be space-delimited, so we convert to tab-delimited with `tr`.\n",
    "CHROMSIZES_FILE='data/b37.chrom.sizes'\n",
    "BINSIZE=1000000\n",
    "PAIRS_FILE='data/GSM1551552_HIC003_merged_nodups.txt.subset.gz'\n",
    "OUTPUT_FILE='data/test.cool'\n",
    "\n",
    "zcat $PAIRS_FILE \\\n",
    "    | tr ' ' '\\t' \\\n",
    "    | cooler cload pairs -c1 3 -p1 4 -c2 7 -p2 8 $CHROMSIZES_FILE:$BINSIZE - $OUTPUT_FILE "
   ]
  },
  {
   "cell_type": "markdown",
   "metadata": {},
   "source": [
    "There are benefits to sorting and indexing pairs. See below."
   ]
  },
  {
   "cell_type": "markdown",
   "metadata": {},
   "source": [
    "## Text export"
   ]
  },
  {
   "cell_type": "markdown",
   "metadata": {},
   "source": [
    "The `cooler dump` command lets us print the data back out as text with several formatting and annotation options. It also accepts range queries, both intra- and inter-chromosomal."
   ]
  },
  {
   "cell_type": "code",
   "execution_count": null,
   "metadata": {
    "ExecuteTime": {
     "end_time": "2019-02-23T03:02:35.998164Z",
     "start_time": "2019-02-23T03:02:35.600122Z"
    }
   },
   "outputs": [],
   "source": [
    "%%bash\n",
    "\n",
    "cooler dump -h"
   ]
  },
  {
   "cell_type": "code",
   "execution_count": null,
   "metadata": {
    "ExecuteTime": {
     "end_time": "2019-02-23T03:02:36.406905Z",
     "start_time": "2019-02-23T03:02:36.000357Z"
    }
   },
   "outputs": [],
   "source": [
    "%%bash\n",
    "\n",
    "cooler dump -t chroms data/test.cool"
   ]
  },
  {
   "cell_type": "code",
   "execution_count": null,
   "metadata": {
    "ExecuteTime": {
     "end_time": "2019-02-23T03:02:36.808885Z",
     "start_time": "2019-02-23T03:02:36.408883Z"
    }
   },
   "outputs": [],
   "source": [
    "%%bash\n",
    "\n",
    "cooler dump -t bins data/test.cool | head"
   ]
  },
  {
   "cell_type": "code",
   "execution_count": null,
   "metadata": {
    "ExecuteTime": {
     "end_time": "2019-02-23T03:02:37.267228Z",
     "start_time": "2019-02-23T03:02:36.811531Z"
    }
   },
   "outputs": [],
   "source": [
    "%%bash\n",
    "\n",
    "cooler dump -t pixels --header data/test.cool | head"
   ]
  },
  {
   "cell_type": "code",
   "execution_count": null,
   "metadata": {
    "ExecuteTime": {
     "end_time": "2019-02-23T03:02:37.685511Z",
     "start_time": "2019-02-23T03:02:37.269547Z"
    }
   },
   "outputs": [],
   "source": [
    "%%bash\n",
    "\n",
    "cooler dump -t pixels --header --join data/test.cool | head"
   ]
  },
  {
   "cell_type": "code",
   "execution_count": null,
   "metadata": {
    "ExecuteTime": {
     "end_time": "2019-02-23T03:02:38.119120Z",
     "start_time": "2019-02-23T03:02:37.688782Z"
    }
   },
   "outputs": [],
   "source": [
    "%%bash\n",
    "\n",
    "cooler dump -t pixels -r 10:10,000,000-20,000,000 -r2 10:30,000,000-80,000,000 --header --join data/test.cool | head"
   ]
  },
  {
   "cell_type": "code",
   "execution_count": null,
   "metadata": {
    "ExecuteTime": {
     "end_time": "2019-02-23T03:02:38.523712Z",
     "start_time": "2019-02-23T03:02:38.121899Z"
    }
   },
   "outputs": [],
   "source": [
    "%%bash\n",
    "\n",
    "cooler dump -t pixels --header --balanced data/test.cool | head"
   ]
  },
  {
   "cell_type": "markdown",
   "metadata": {},
   "source": [
    "Oops! Our contact matrix isn't balanced yet. Let's do that next."
   ]
  },
  {
   "cell_type": "markdown",
   "metadata": {},
   "source": [
    "## Balancing"
   ]
  },
  {
   "cell_type": "markdown",
   "metadata": {},
   "source": [
    "Matrix balancing normalization, i.e. iterative correction.\n",
    "\n",
    "We usually normalize or \"correct\" Hi-C using a technique called matrix balancing. This involves finding a set of weights or biases $b_i$ for each bin $i$ such that\n",
    "\n",
    "$$ Normalized[i,j] = Observed[i,j] \\cdot b[i] \\cdot b[j], $$\n",
    "\n",
    "such that the marginals (i.e., row/column sums) of the global contact matrix are flat and equal.\n",
    "\n",
    "`cooler balance` will store the pre-computed balancing weights in the bin table as an extra column called `weight`.\n",
    "\n",
    "Note that whole-genome matrix balancing on a high resolution matrix requires iterative computations on a matrix that may not fit in computer memory, even in sparse form. Our \"out-of-core\" method performs the calculations by splitting and loading the data into smaller chunks and combining the partial results afterwards."
   ]
  },
  {
   "cell_type": "code",
   "execution_count": null,
   "metadata": {
    "ExecuteTime": {
     "end_time": "2019-02-23T03:02:38.917800Z",
     "start_time": "2019-02-23T03:02:38.526177Z"
    }
   },
   "outputs": [],
   "source": [
    "%%bash\n",
    "\n",
    "cooler balance -h"
   ]
  },
  {
   "cell_type": "markdown",
   "metadata": {},
   "source": [
    "`cooler balance` iterates until the balanced marginals (i.e. row sums of the balanced matrix) are sufficiently flat (the variance falls below the limit `tol`)."
   ]
  },
  {
   "cell_type": "code",
   "execution_count": null,
   "metadata": {
    "ExecuteTime": {
     "end_time": "2019-02-23T03:02:39.801480Z",
     "start_time": "2019-02-23T03:02:38.920839Z"
    }
   },
   "outputs": [],
   "source": [
    "%%bash\n",
    "\n",
    "cooler balance -p 10 -c 10000 data/test.cool"
   ]
  },
  {
   "cell_type": "code",
   "execution_count": null,
   "metadata": {
    "ExecuteTime": {
     "end_time": "2019-02-23T03:02:40.242416Z",
     "start_time": "2019-02-23T03:02:39.804052Z"
    }
   },
   "outputs": [],
   "source": [
    "%%bash\n",
    "\n",
    "cooler dump --header --balanced data/test.cool | head"
   ]
  },
  {
   "cell_type": "markdown",
   "metadata": {},
   "source": [
    "## Display the contact matrix"
   ]
  },
  {
   "cell_type": "markdown",
   "metadata": {},
   "source": [
    "You can also use the `cooler show` function to produce images of the contact matrix. Requires the `matplotlib` Python package."
   ]
  },
  {
   "cell_type": "code",
   "execution_count": null,
   "metadata": {
    "ExecuteTime": {
     "end_time": "2019-02-23T03:02:40.639709Z",
     "start_time": "2019-02-23T03:02:40.245800Z"
    }
   },
   "outputs": [],
   "source": [
    "%%bash\n",
    "\n",
    "cooler show -h"
   ]
  },
  {
   "cell_type": "markdown",
   "metadata": {},
   "source": [
    "Here's the undersampled dataset."
   ]
  },
  {
   "cell_type": "code",
   "execution_count": null,
   "metadata": {
    "ExecuteTime": {
     "end_time": "2019-02-23T03:02:41.576051Z",
     "start_time": "2019-02-23T03:02:40.642249Z"
    }
   },
   "outputs": [],
   "source": [
    "%%bash\n",
    "\n",
    "cooler show --out data/test.png --dpi 200 data/test.cool 3:0-80,000,000"
   ]
  },
  {
   "cell_type": "code",
   "execution_count": null,
   "metadata": {
    "ExecuteTime": {
     "end_time": "2019-02-23T03:02:41.598131Z",
     "start_time": "2019-02-23T03:02:41.578717Z"
    }
   },
   "outputs": [],
   "source": [
    "from IPython.display import Image\n",
    "Image('data/test.png')"
   ]
  },
  {
   "cell_type": "markdown",
   "metadata": {},
   "source": [
    "Here's what the full one looks like."
   ]
  },
  {
   "cell_type": "code",
   "execution_count": null,
   "metadata": {
    "ExecuteTime": {
     "end_time": "2019-02-23T03:02:42.529415Z",
     "start_time": "2019-02-23T03:02:41.601153Z"
    }
   },
   "outputs": [],
   "source": [
    "%%bash\n",
    "\n",
    "cooler show --out data/test2.png --dpi 200 data/Rao2014-GM12878-MboI-allreps-filtered.1000kb.cool chr3:0-80,000,000"
   ]
  },
  {
   "cell_type": "code",
   "execution_count": null,
   "metadata": {
    "ExecuteTime": {
     "end_time": "2019-02-23T03:02:42.538304Z",
     "start_time": "2019-02-23T03:02:42.531728Z"
    }
   },
   "outputs": [],
   "source": [
    "from IPython.display import Image\n",
    "Image('data/test2.png')"
   ]
  },
  {
   "cell_type": "markdown",
   "metadata": {},
   "source": [
    "## Optional: Load a pairs file indexed with [Pairix](https://github.com/4dn-dcic/pairix)"
   ]
  },
  {
   "cell_type": "markdown",
   "metadata": {},
   "source": [
    "Alternatively, you can sort, format and index your pairs file before ingesting. Having an indexed pairs file can also be useful of other kinds of read-level analyses.\n",
    "\n",
    "We use the `cooler csort` command to do this. What does it do? \n",
    "\n",
    "Given a chromosome order, it creates a new pairs file with the following properties:\n",
    "\n",
    "1. _Consistently ordered mates_: mates of every interchromsomal pair are properly \"flipped\" in order to respect the requested order of the chromosomes. For intrachromosomal pairs, mates are flipped such that `pos1` is always less than or equal to `pos2`. As a result, the data will have an **upper triangular** orientation with respect to the chromosome order (interpreting sides 1 and 2 as `i` and `j` axes in a matrix coordinate system).\n",
    "2. _Sorted_: once the mates are oriented, the pair records are lexically sorted by chrom1, chrom2, pos1, pos2. With (1) and (2), contacts are said to be sorted by chromosome-chromosome block, a.k.a. \"block\" sorted.\n",
    "3. _Indexed_: we use [bgzip](http://www.htslib.org/doc/tabix.html) to compress the file and [Pairix](https://github.com/4dn-dcic/pairix) to index it. This creates a small `.px2` index file which facilitates 2-dimensional queries on the reads. \n",
    "\n",
    "**Notes**: \n",
    "\n",
    "- If (1) is already satisfied, you can also prepare a Pairix-indexed file manually, without `cooler csort`. See this [example](https://github.com/4dn-dcic/pairix#usage-examples-for-pairix)"
   ]
  },
  {
   "cell_type": "code",
   "execution_count": null,
   "metadata": {
    "ExecuteTime": {
     "end_time": "2019-02-23T03:02:43.048186Z",
     "start_time": "2019-02-23T03:02:42.540188Z"
    },
    "scrolled": false
   },
   "outputs": [],
   "source": [
    "!cooler csort -h"
   ]
  },
  {
   "cell_type": "code",
   "execution_count": null,
   "metadata": {
    "ExecuteTime": {
     "end_time": "2019-02-23T03:02:44.664014Z",
     "start_time": "2019-02-23T03:02:43.050937Z"
    }
   },
   "outputs": [],
   "source": [
    "%%bash\n",
    "# Note that the input pairs file happens to be space-delimited, which we specify \n",
    "# with the --sep argument  (tab is assumed by default).\n",
    "# The output pairs file will always be tab-delimited!\n",
    "\n",
    "CHROMSIZES_FILE='data/b37.chrom.sizes'\n",
    "PAIRS_FILE='data/GSM1551552_HIC003_merged_nodups.txt.subset.gz'\n",
    "\n",
    "cooler csort -c1 3 -p1 4 -c2 7 -p2 8 --sep ' ' --out data/pairs.sorted.txt.gz $PAIRS_FILE $CHROMSIZES_FILE "
   ]
  },
  {
   "cell_type": "code",
   "execution_count": null,
   "metadata": {
    "ExecuteTime": {
     "end_time": "2019-02-23T03:02:44.681088Z",
     "start_time": "2019-02-23T03:02:44.666364Z"
    },
    "scrolled": false
   },
   "outputs": [],
   "source": [
    "%%bash\n",
    "\n",
    "# What's in the output?\n",
    "zcat data/pairs.sorted.txt.gz | head"
   ]
  },
  {
   "cell_type": "markdown",
   "metadata": {},
   "source": [
    "Finally, using `cooler cload pairix`, we aggregate (bin) the contacts in `pairs.sorted.txt.gz` against the bins file, `bins.1000kb.bed`, and write the contents to the binary `test.cool` file."
   ]
  },
  {
   "cell_type": "markdown",
   "metadata": {},
   "source": [
    "A Pairix-indexed file has the advantage of 2D querying. However, it uses a slightly different sorting convention:\n",
    "\n",
    "1. Like the previous Tabix scheme, interchromosomal pairs in Pairix files should consistently respect some order of the chromosomes (i.e. be \"upper triangular\"). Unlike the previous scheme, the chromosome order used to create the pairs file can be arbitrary, and does not need to match the order you wish to use in the cooler file.\n",
    "2. Unlike the previous Tabix scheme, where the file is sorted by `chrom1`, `pos1`, `chrom2`, `pos2`, Pairix files are sorted by `chrom1`, `chrom2`, `pos1`, `pos2`. \n"
   ]
  },
  {
   "cell_type": "code",
   "execution_count": null,
   "metadata": {
    "ExecuteTime": {
     "end_time": "2019-02-23T03:02:45.163007Z",
     "start_time": "2019-02-23T03:02:44.683477Z"
    },
    "scrolled": false
   },
   "outputs": [],
   "source": [
    "%%bash\n",
    "\n",
    "cooler cload pairix -h"
   ]
  },
  {
   "cell_type": "code",
   "execution_count": null,
   "metadata": {
    "ExecuteTime": {
     "end_time": "2019-02-23T03:02:50.178715Z",
     "start_time": "2019-02-23T03:02:45.166839Z"
    },
    "scrolled": false
   },
   "outputs": [],
   "source": [
    "%%bash\n",
    "\n",
    "# alternatively, we could pass $CHROMSIZES_FILE:1000000 below instead of creating $BINS_FILE\n",
    "BINS_FILE='data/bins.1000kb.bed'\n",
    "INDEXED_PAIRS_FILE='data/pairs.sorted.txt.gz'\n",
    "OUTPUT_FILE='data/test.cool'\n",
    "\n",
    "cooler cload pairix $BINS_FILE $INDEXED_PAIRS_FILE $OUTPUT_FILE"
   ]
  },
  {
   "cell_type": "code",
   "execution_count": null,
   "metadata": {},
   "outputs": [],
   "source": []
  },
  {
   "cell_type": "code",
   "execution_count": null,
   "metadata": {},
   "outputs": [],
   "source": []
  }
 ],
 "metadata": {
  "anaconda-cloud": {},
  "kernelspec": {
   "display_name": "Python 3",
   "language": "python",
   "name": "python3"
  },
  "language_info": {
   "codemirror_mode": {
    "name": "ipython",
    "version": 3
   },
   "file_extension": ".py",
   "mimetype": "text/x-python",
   "name": "python",
   "nbconvert_exporter": "python",
   "pygments_lexer": "ipython3",
   "version": "3.7.3"
  },
  "toc": {
   "base_numbering": 1,
   "nav_menu": {},
   "number_sections": true,
   "sideBar": true,
   "skip_h1_title": false,
   "title_cell": "Table of Contents",
   "title_sidebar": "Contents",
   "toc_cell": true,
   "toc_position": {},
   "toc_section_display": "block",
   "toc_window_display": false
  }
 },
 "nbformat": 4,
 "nbformat_minor": 2
}
